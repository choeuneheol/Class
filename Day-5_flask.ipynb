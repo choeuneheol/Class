{
 "cells": [
  {
   "cell_type": "code",
   "execution_count": null,
   "id": "35e2c847",
   "metadata": {},
   "outputs": [],
   "source": [
    "# 모듈을 읽어 들입니다.\n",
    "from flask import Flask\n",
    "from urllib import request\n",
    "from bs4 import BeautifulSoup\n",
    "\n",
    "# 웹 서버를 생성합니다.\n",
    "app = Flask(name)\n",
    "@app.route(\"/\")\n",
    "\n",
    "def hello():\n",
    "    # urlopen() 함수로 기상청의 전국 날씨를 읽습니다.\n",
    "    target = request.urlopen(\"http://www.kma.go.kr/weather/forecast/mid-term-rss3.jsp?stnId=108%22)\n",
    "\n",
    "    # BeautifulSoup를 사용해 웹 페이지를 분석합니다.\n",
    "    soup = BeautifulSoup(target, \"html.parser\")\n",
    "\n",
    "    # location 태그를 찾습니다.\n",
    "    output = \"\"\n",
    "    for location in soup.select(\"location\"):\n",
    "        # 내부의 city, wf, tmn, tmx 태그를 찾아 출력합니다.\n",
    "        output += \"<h3>{}</h3>\".format(location.select_one(\"city\").string)\n",
    "        output += \"날씨: {}<br/>\".format(location.select_one(\"wf\").string)\n",
    "        output += \"최저/최고 기온: {}/{}\"\\\n",
    "            .format(\\\n",
    "                location.select_one(\"tmn\").string,\\\n",
    "                location.select_one(\"tmx\").string\\\n",
    "            )\n",
    "        output += \"<hr/>\"\n",
    "    return output"
   ]
  },
  {
   "cell_type": "code",
   "execution_count": null,
   "id": "5a43d4d2",
   "metadata": {},
   "outputs": [],
   "source": [
    "# 모듈을 읽어 들입니다.\n",
    "from urllib import request\n",
    "from bs4 import BeautifulSoup\n",
    "\n",
    "# urlopen() 함수로 기상청의 전국 날씨를 읽습니다.\n",
    "target = request.urlopen(\"http://www.kma.go.kr/weather/forecast/mid-term-rss3.jsp?stnId=108%22)\n",
    "\n",
    "# BeautifulSoup을 사용해 웹 페이지를 분석합니다.\n",
    "soup = BeautifulSoup(target, \"html.parser\")\n",
    "\n",
    "# location 태그를 찾습니다.\n",
    "for location in soup.select(\"location\"):\n",
    "    # 내부의 city, wf, tmn, tmx 태그를 찾아 출력합니다.\n",
    "    print(\"도시:\", location.select_one(\"city\").string)\n",
    "    print(\"날씨:\", location.select_one(\"wf\").string)\n",
    "    print(\"최저기온:\", location.select_one(\"tmn\").string)\n",
    "    print(\"최고기온:\", location.select_one(\"tmx\").string)\n",
    "    print()"
   ]
  },
  {
   "cell_type": "code",
   "execution_count": 4,
   "id": "0dab3366",
   "metadata": {},
   "outputs": [
    {
     "name": "stdout",
     "output_type": "stream",
     "text": [
      "함수 시작\n",
      "hello\n",
      "함수 끝\n"
     ]
    }
   ],
   "source": [
    "# 함수 데코레이터\n",
    "# @ 로 시작하면 데코레이터\n",
    "def test (function):\n",
    "    def wrapper():\n",
    "        print(\"함수 시작\")\n",
    "        function()\n",
    "        print(\"함수 끝\")\n",
    "    return wrapper\n",
    "\n",
    "# 데코레이터 함수 생성\n",
    "@test\n",
    "def hello():\n",
    "    print (\"hello\")\n",
    "    \n",
    "hello()"
   ]
  }
 ],
 "metadata": {
  "kernelspec": {
   "display_name": "Python 3 (ipykernel)",
   "language": "python",
   "name": "python3"
  },
  "language_info": {
   "codemirror_mode": {
    "name": "ipython",
    "version": 3
   },
   "file_extension": ".py",
   "mimetype": "text/x-python",
   "name": "python",
   "nbconvert_exporter": "python",
   "pygments_lexer": "ipython3",
   "version": "3.9.7"
  }
 },
 "nbformat": 4,
 "nbformat_minor": 5
}
