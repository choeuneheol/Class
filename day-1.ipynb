{
 "cells": [
  {
   "cell_type": "code",
   "execution_count": null,
   "id": "0038470a",
   "metadata": {},
   "outputs": [],
   "source": [
    "print(\"test\")\n"
   ]
  },
  {
   "cell_type": "markdown",
   "id": "ce6b7183",
   "metadata": {},
   "source": [
    "###aaaa"
   ]
  },
  {
   "cell_type": "markdown",
   "id": "2faec39f",
   "metadata": {},
   "source": [
    "# who are u"
   ]
  },
  {
   "cell_type": "markdown",
   "id": "a7d5c024",
   "metadata": {},
   "source": [
    "#print(a)"
   ]
  },
  {
   "cell_type": "code",
   "execution_count": null,
   "id": "79f787d6",
   "metadata": {},
   "outputs": [],
   "source": [
    "import keyword\n",
    "print(keyword.kwlist)"
   ]
  },
  {
   "cell_type": "code",
   "execution_count": null,
   "id": "906181df",
   "metadata": {},
   "outputs": [],
   "source": []
  },
  {
   "cell_type": "code",
   "execution_count": null,
   "id": "6cc40368",
   "metadata": {},
   "outputs": [],
   "source": []
  },
  {
   "cell_type": "code",
   "execution_count": null,
   "id": "3dde59a9",
   "metadata": {},
   "outputs": [],
   "source": [
    "a = 10\n",
    "b = 20\n",
    "print(a+b)\n",
    "\n",
    "print(10,20,\"print test\")"
   ]
  },
  {
   "cell_type": "code",
   "execution_count": null,
   "id": "34667326",
   "metadata": {},
   "outputs": [],
   "source": [
    "# 하나만 출력합니다.\n",
    "print(\"#하나만 출력합니다.\")\n",
    "print(\"Hello Python Programming...!\")\n",
    "print()\n",
    "\n",
    "# 여러 개를 출력합니다.\n",
    "print(\"# 여러 개를 출력합니다.\")\n",
    "print(10, 20, 30, 40, 50)\n",
    "print(\"안녕하세요\",\"저의\",\"이름은\",\"윤인성입니다!\")\n",
    "print()\n",
    "\n",
    "# 아무것도 입력하지 않으면 단순하게 줄바꿈합니다.\n",
    "print(\"#아무것도 출력하지 않습니다.\")\n",
    "print(\"--- 확인 전용선 ---\")\n",
    "print()\n",
    "print()\n",
    "print(\"-- 확인 전용선 --\")"
   ]
  },
  {
   "cell_type": "code",
   "execution_count": null,
   "id": "2556bd88",
   "metadata": {},
   "outputs": [],
   "source": [
    "# print() 함수사용\n",
    "print(type(\"test\"), type(12), type(True), type(35.0), sep=\"\\t\", end = \"\\n\\n\\n\\n\")\n",
    "print(\"test123\")\n",
    "#\"를 출력 \\\" escape 문자사용\n",
    "print(\"\\\"hello\\\"\")"
   ]
  },
  {
   "cell_type": "code",
   "execution_count": null,
   "id": "3066b0d0",
   "metadata": {},
   "outputs": [],
   "source": [
    "# \\t를 사용하여 자리수 맞춤으로 출력\n",
    "print(\"name\\t\\tage\\tadress\")\n",
    "print(\"Jay\\t\\t23\\tUSA\")\n",
    "print(\"Yamaguchi\\t27\\tJapan\")\n",
    "print(\"LEE\\t\\t3\\tROK\\\\\")"
   ]
  },
  {
   "cell_type": "code",
   "execution_count": null,
   "id": "c911d20b",
   "metadata": {},
   "outputs": [],
   "source": [
    "print(\"\"\"\\\n",
    "동해물과 백두산이 마르고 닳도록\n",
    "하느님이 보우하사 우리나라 만세\n",
    "무궁화 삼천리 화려강산 대한사람\n",
    "대한으로 길이 보전하세\\\n",
    "\"\"\")"
   ]
  },
  {
   "cell_type": "code",
   "execution_count": null,
   "id": "e3a81a82",
   "metadata": {},
   "outputs": [],
   "source": [
    "print(\"Great\" + \" job!!\")\n",
    "print(\"Great\" + \"1\")\n",
    "print(\"supreme \" * 90)\n",
    "print(90 * \"supreme \")\n"
   ]
  },
  {
   "cell_type": "code",
   "execution_count": null,
   "id": "bb6e2fdd",
   "metadata": {},
   "outputs": [],
   "source": [
    "print(\"hello\"[0])\n",
    "print(\"hello\"[1])\n",
    "print(\"hello\"[2])\n",
    "print(\"hello\"[3])\n",
    "print(\"hello\"[4])\n",
    "print(\"hello\"[5])"
   ]
  },
  {
   "cell_type": "code",
   "execution_count": null,
   "id": "02ea753f",
   "metadata": {},
   "outputs": [],
   "source": [
    "print(\"hello\"[0])\n",
    "print(\"hello\"[1])\n",
    "print(\"hello\"[2])\n",
    "print(\"hello\"[3])\n",
    "print(\"hello\"[4])\n",
    "print(\"hello\"[-3])"
   ]
  },
  {
   "cell_type": "code",
   "execution_count": null,
   "id": "20be9266",
   "metadata": {},
   "outputs": [],
   "source": [
    "a_str = \"안녕하세요\"\n",
    "print(a_str[0])\n",
    "print(a_str[-1])\n",
    "print(a_str[3])"
   ]
  },
  {
   "cell_type": "code",
   "execution_count": null,
   "id": "e4a636ff",
   "metadata": {},
   "outputs": [],
   "source": [
    "#  범위 자료 검색 [시작:끝] :시작은 포함 끝은 포함 하지않음\n",
    "\n",
    "print(a_str[0:2])# 안녕만 출력\n",
    "print(a_str[2:])# \"하\" 부터 끝까지 출력\n",
    "print(a_str[:3])# 처음부터 하까지 출력\n",
    "print(a_str[:-1])# 마지막 글자만 제외하고 출력\n",
    "print(a_str[:])# 모든 문자 출력"
   ]
  },
  {
   "cell_type": "code",
   "execution_count": null,
   "id": "a3fddb10",
   "metadata": {},
   "outputs": [],
   "source": [
    "# 자료의 타입을 알려주는 함수 : type()\n",
    "# 문자열의 길이를 구하는 함수 : len()\n",
    "print(len(a_str))\n",
    "print(a_str[2:len(a_str)-1])\n",
    "print(type(a_str))"
   ]
  },
  {
   "cell_type": "code",
   "execution_count": null,
   "id": "057c9962",
   "metadata": {},
   "outputs": [],
   "source": [
    "a=10\n",
    "b=3\n",
    "print(a, \"+\", b, \"=\", a+b)"
   ]
  },
  {
   "cell_type": "code",
   "execution_count": null,
   "id": "3ec1422e",
   "metadata": {
    "scrolled": false
   },
   "outputs": [],
   "source": [
    "# 키보드에서 입력 받는 함수 input()\n",
    "input_data = input(\"이름 : \")\n"
   ]
  },
  {
   "cell_type": "code",
   "execution_count": null,
   "id": "44e31404",
   "metadata": {},
   "outputs": [],
   "source": [
    "print(input_data)"
   ]
  },
  {
   "cell_type": "code",
   "execution_count": null,
   "id": "afc73e7c",
   "metadata": {},
   "outputs": [],
   "source": [
    "print(float(\"52\")+3)\n"
   ]
  },
  {
   "cell_type": "code",
   "execution_count": null,
   "id": "9c5f93fe",
   "metadata": {},
   "outputs": [],
   "source": [
    "#문자열 관련 함수\n",
    "print(\"{} {}\".format(\"test\", 123))\n",
    "print(\"{} + {} = {}\".format(\"Number\", 1, \"No.1\"))"
   ]
  },
  {
   "cell_type": "code",
   "execution_count": null,
   "id": "114925a2",
   "metadata": {},
   "outputs": [],
   "source": [
    "# 정수\n",
    "output_a = \"{:d}\".format(52)\n",
    "\n",
    "# 특정 칸에 출력하기\n",
    "output_b = \"{:5d}\".format(52)\n",
    "output_c = \"{:10d}\".format(52)\n",
    "\n",
    "# 빈칸을 0으로 채우기\n",
    "output_d = \"{:05d}\".format(52)\n",
    "output_e = \"{:05d}\".format(-52)\n",
    "\n",
    "print(\"#기본\")\n",
    "print(output_a)\n",
    "print(\"#특정 칸에 출력하기\")\n",
    "print(output_b)\n",
    "print(output_c)\n",
    "print(\"#빈칸을 0으로 채우기\")\n",
    "print(output_d)\n",
    "print(output_e)"
   ]
  },
  {
   "cell_type": "code",
   "execution_count": null,
   "id": "588cb3c2",
   "metadata": {},
   "outputs": [],
   "source": [
    "a = \"Hello MaMa\"\n",
    "\n",
    "print(a.upper())\n",
    "print(a.lower())"
   ]
  }
 ],
 "metadata": {
  "kernelspec": {
   "display_name": "Python 3 (ipykernel)",
   "language": "python",
   "name": "python3"
  },
  "language_info": {
   "codemirror_mode": {
    "name": "ipython",
    "version": 3
   },
   "file_extension": ".py",
   "mimetype": "text/x-python",
   "name": "python",
   "nbconvert_exporter": "python",
   "pygments_lexer": "ipython3",
   "version": "3.9.7"
  }
 },
 "nbformat": 4,
 "nbformat_minor": 5
}
