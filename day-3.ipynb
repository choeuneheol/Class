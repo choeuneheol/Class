{
 "cells": [
  {
   "cell_type": "code",
   "execution_count": 4,
   "id": "adbb89b9",
   "metadata": {},
   "outputs": [],
   "source": [
    "# dictionary 다루기 선언은 {키:값,...}, 접근은 dict[키]\n",
    "dict_a = {\n",
    "    \"name\" : \"7D 건조 망고\",\n",
    "    \"type\" : \"당절임\",\n",
    "    \"ingredient\" : [\"망고\", \"설탕\", \"메타중아황산나트륨\", \"치자황색소\"],\n",
    "    \"origin\" : \"필리핀\"\n",
    "}"
   ]
  },
  {
   "cell_type": "code",
   "execution_count": 5,
   "id": "4dcd09cf",
   "metadata": {},
   "outputs": [
    {
     "name": "stdout",
     "output_type": "stream",
     "text": [
      "{'name': '7D 건조 망고', 'type': '당절임', 'ingredient': ['망고', '설탕', '메타중아황산나트륨', '치자황색소'], 'origin': '필리핀'}\n",
      "7D 건조 망고\n",
      "당절임\n",
      "['망고', '설탕', '메타중아황산나트륨', '치자황색소']\n",
      "메타중아황산나트륨\n"
     ]
    }
   ],
   "source": [
    "print(dict_a)\n",
    "print(dict_a[\"name\"])\n",
    "print(dict_a[\"type\"])\n",
    "print(dict_a[\"ingredient\"])\n",
    "print(dict_a[\"ingredient\"][2])"
   ]
  },
  {
   "cell_type": "code",
   "execution_count": 6,
   "id": "436746b3",
   "metadata": {},
   "outputs": [
    {
     "name": "stdout",
     "output_type": "stream",
     "text": [
      "dict_keys(['name', 'type', 'ingredient', 'origin'])\n",
      "dict_values(['7D 건조 망고', '당절임', ['망고', '설탕', '메타중아황산나트륨', '치자황색소'], '필리핀'])\n"
     ]
    }
   ],
   "source": [
    "print(dict_a.keys()) #딕셔너리의 key만 출력\n",
    "print(dict_a.values()) #딕셔너리의 value만 출력"
   ]
  },
  {
   "cell_type": "code",
   "execution_count": 9,
   "id": "303deb73",
   "metadata": {},
   "outputs": [
    {
     "name": "stdout",
     "output_type": "stream",
     "text": [
      "7D 건조 망고 당절임\n"
     ]
    }
   ],
   "source": [
    "# print(dict_a[1]) #오류 발생, 인덱스로는 접근 不可, 키로만 접근 可\n",
    "print(dict_a[\"name\"],dict_a[\"type\"])"
   ]
  },
  {
   "cell_type": "code",
   "execution_count": 10,
   "id": "0d5a04f4",
   "metadata": {},
   "outputs": [
    {
     "data": {
      "text/plain": [
       "{'name': '7D 건조 망고',\n",
       " 'type': '당절임',\n",
       " 'ingredient': ['망고', '설탕', '메타중아황산나트륨', '치자황색소'],\n",
       " 'origin': '필리핀',\n",
       " 'price': 5000}"
      ]
     },
     "execution_count": 10,
     "metadata": {},
     "output_type": "execute_result"
    }
   ],
   "source": [
    "# dictionary에 새로운 키와 값을 추가 : dict[새로운키] = 값\n",
    "dict_a[\"price\"] = 5000\n",
    "dict_a"
   ]
  },
  {
   "cell_type": "code",
   "execution_count": 11,
   "id": "a0771533",
   "metadata": {},
   "outputs": [
    {
     "data": {
      "text/plain": [
       "{'name': '7D 건조 망고',\n",
       " 'type': '당절임',\n",
       " 'ingredient': ['망고', '설탕', '메타중아황산나트륨', '치자황색소'],\n",
       " 'origin': '필리핀'}"
      ]
     },
     "execution_count": 11,
     "metadata": {},
     "output_type": "execute_result"
    }
   ],
   "source": [
    "# dictionary에 키와 값을 제거 : del dict[키]\n",
    "del dict_a[\"price\"]\n",
    "dict_a"
   ]
  },
  {
   "cell_type": "code",
   "execution_count": 12,
   "id": "af2966c5",
   "metadata": {},
   "outputs": [
    {
     "name": "stdout",
     "output_type": "stream",
     "text": [
      "False\n",
      "True\n"
     ]
    }
   ],
   "source": [
    "# list 초기화 : list_a = []\n",
    "# dict 초기화 : dict_a = {}\n",
    "# in 연산자를 활용하여 키가 dict에 있는지 확인 가능\n",
    "print(\"price\" in dict_a) # False\n",
    "print(\"origin\" in dict_a) # True"
   ]
  },
  {
   "cell_type": "code",
   "execution_count": 15,
   "id": "09aced3c",
   "metadata": {},
   "outputs": [
    {
     "name": "stdout",
     "output_type": "stream",
     "text": [
      "None\n",
      "7D 건조 망고\n",
      "7D 건조 망고\n"
     ]
    }
   ],
   "source": [
    "# dict.get(key) -> 값을 돌려 줌 : 함수를 활용하여 존재하는지 확인\n",
    "print(dict_a.get(\"price\"))\n",
    "print(dict_a.get(\"name\"))\n",
    "# print(dict_a[\"price\"]) []로 표현하면 없는 값은 None이 아니라 에러를 발생\n",
    "print(dict_a[\"name\"])"
   ]
  },
  {
   "cell_type": "code",
   "execution_count": 17,
   "id": "75c5eeaa",
   "metadata": {},
   "outputs": [
    {
     "name": "stdout",
     "output_type": "stream",
     "text": [
      "dict_a['name'] : 7D 건조 망고\n",
      "dict_a['type'] : 당절임\n",
      "dict_a['ingredient'] : ['망고', '설탕', '메타중아황산나트륨', '치자황색소']\n",
      "dict_a['origin'] : 필리핀\n"
     ]
    }
   ],
   "source": [
    "# for문을 활용하여 값을 출력 : 딕셔너리의 키를 가져옴\n",
    "for key in dict_a:\n",
    "    print(\"dict_a['{}'] : {}\".format(key, dict_a[key]))"
   ]
  },
  {
   "cell_type": "code",
   "execution_count": 18,
   "id": "b7c4d436",
   "metadata": {},
   "outputs": [
    {
     "name": "stdout",
     "output_type": "stream",
     "text": [
      "dict_a['name'] : 7D 건조 망고\n",
      "dict_a['type'] : 당절임\n",
      "dict_a['ingredient'] : ['망고', '설탕', '메타중아황산나트륨', '치자황색소']\n",
      "dict_a['origin'] : 필리핀\n"
     ]
    }
   ],
   "source": [
    "# for문을 활용하여 키와 값을 출력 : 딕셔너리의 키와 값을 가져옴\n",
    "for key, value in dict_a.items():\n",
    "    print(\"dict_a['{}'] : {}\".format(key, value))"
   ]
  },
  {
   "cell_type": "code",
   "execution_count": 43,
   "id": "abad39dd",
   "metadata": {},
   "outputs": [
    {
     "name": "stdout",
     "output_type": "stream",
     "text": [
      "이름과 점수를 입력하시오.mark 100\n",
      "이름과 점수를 입력하시오.james 80\n",
      "이름과 점수를 입력하시오.steven 90\n",
      "이름과 점수를 입력하시오.jerk 100\n",
      "이름과 점수를 입력하시오.q\n",
      "mark\t100\n",
      "james\t80\n",
      "steven\t90\n",
      "jerk\t100\n"
     ]
    }
   ],
   "source": [
    "# 이름과 점수를 입력받아 이름을 키로 점수를 값으로 하는\n",
    "# student 딕셔너리를 작성\n",
    "# 이름에 'q'가 입력되면 입력 종료\n",
    "# 입력된 자료 출력\n",
    "# 입력한 학생의 인원수와 평균 출력\n",
    "# 검색할 이름을 입력받아 자료에 있는지 확인 후 자료의 성적을 출력\n",
    "\n",
    "student = {}\n",
    "while True:\n",
    "    data = input(\"이름과 점수를 입력하시오.\").split()\n",
    "    if data[0] == \"q\":\n",
    "        break\n",
    "    name = data[0]\n",
    "    score = int(data[1])\n",
    "    student[name] = score\n",
    "\n",
    "for key, value in student.items():\n",
    "    print(\"{}\\t{}\".format(key, value))"
   ]
  },
  {
   "cell_type": "code",
   "execution_count": 50,
   "id": "12e29cd0",
   "metadata": {},
   "outputs": [
    {
     "name": "stdout",
     "output_type": "stream",
     "text": [
      "dict_values([100, 80, 90, 100])\n"
     ]
    }
   ],
   "source": [
    "print(student.values())"
   ]
  },
  {
   "cell_type": "code",
   "execution_count": 47,
   "id": "5ad63ec8",
   "metadata": {},
   "outputs": [
    {
     "name": "stdout",
     "output_type": "stream",
     "text": [
      "4\n"
     ]
    }
   ],
   "source": [
    "num_stu = len(student)\n",
    "print(num_stu)"
   ]
  },
  {
   "cell_type": "code",
   "execution_count": 52,
   "id": "f82ec81e",
   "metadata": {},
   "outputs": [
    {
     "name": "stdout",
     "output_type": "stream",
     "text": [
      "총 학생수는 4명 이고, 평균점수는 92.5점 입니다.\n"
     ]
    }
   ],
   "source": [
    "sum_score = 0\n",
    "for i in student.values():\n",
    "    sum_score += i\n",
    "avg_score = sum_score / num_stu\n",
    "\n",
    "print(\"총 학생수는 {}명 이고, 평균점수는 {}점 입니다.\".\\\n",
    "      format(num_stu, avg_score))"
   ]
  },
  {
   "cell_type": "code",
   "execution_count": 55,
   "id": "36c900db",
   "metadata": {},
   "outputs": [
    {
     "name": "stdout",
     "output_type": "stream",
     "text": [
      "검색할 이름을 입력하시오.git\n",
      "자료없음\n"
     ]
    }
   ],
   "source": [
    "ser_name = input(\"검색할 이름을 입력하시오.\")\n",
    "if ser_name in student.keys():\n",
    "    print(\"{}`s score is {}.\".format(ser_name, student[ser_name]))\n",
    "else:\n",
    "    print(\"자료없음\")"
   ]
  },
  {
   "cell_type": "code",
   "execution_count": 57,
   "id": "24e51a01",
   "metadata": {},
   "outputs": [
    {
     "name": "stdout",
     "output_type": "stream",
     "text": [
      "검색할 이름 입력mark\n",
      "mark`s score is 100.\n"
     ]
    }
   ],
   "source": [
    "# 다른 방법으로 표현하기\n",
    "s_name = input(\"검색할 이름 입력\")\n",
    "s_score = student.get(s_name)\n",
    "\n",
    "if s_score == None:\n",
    "    print(\"자료없음\")\n",
    "else:\n",
    "    print(\"{}`s score is {}.\".format(s_name, s_score))"
   ]
  },
  {
   "cell_type": "code",
   "execution_count": 59,
   "id": "8e46cf9a",
   "metadata": {},
   "outputs": [
    {
     "name": "stdout",
     "output_type": "stream",
     "text": [
      "이름을 입력하시오.mark\n",
      "국,영,수 점수를 입력하시오.100 90 80\n",
      "이름을 입력하시오.james\n",
      "국,영,수 점수를 입력하시오.90\n",
      "국,영,수 점수를 입력하시오.90 80 70\n",
      "이름을 입력하시오.steve\n",
      "국,영,수 점수를 입력하시오.100 80 29\n",
      "이름을 입력하시오.jerk\n",
      "국,영,수 점수를 입력하시오.90 80 20\n",
      "이름을 입력하시오.q\n"
     ]
    }
   ],
   "source": [
    "# 이름과 국어, 영어, 수학 점수를 입력받아 stu에 저장\n",
    "# 각 학생의 총점, 과목별 점수, 평균을 출력\n",
    "# 검색할 이름을 입력받아 학생의 총점, 평균 출력\n",
    "\n",
    "stu = {}\n",
    "while True:\n",
    "    data = input(\"이름을 입력하시오.\")\n",
    "    if data == \"q\":\n",
    "        break\n",
    "    while True:\n",
    "        input_score = input(\"국,영,수 점수를 입력하시오.\").split()\n",
    "        if len(input_score) ==3:\n",
    "            break\n",
    "    \n",
    "    score = []\n",
    "    for value in input_score:\n",
    "        score.append(int(value))\n",
    "    stu[data] = score"
   ]
  },
  {
   "cell_type": "code",
   "execution_count": 66,
   "id": "256dd088",
   "metadata": {},
   "outputs": [
    {
     "name": "stdout",
     "output_type": "stream",
     "text": [
      "name : 국어\t영어\t수학\t총점\t평균\n",
      "mark : 80\t90\t80\t250\t 83.33\n",
      "james : 90\t80\t70\t240\t 80.00\n",
      "steve : 100\t80\t29\t209\t 69.67\n",
      "jerk : 90\t80\t20\t190\t 63.33\n",
      "검색할 이름 : mark\n",
      "mark : 250, 83.33\n"
     ]
    }
   ],
   "source": [
    "print(\"name : 국어\\t영어\\t수학\\t총점\\t평균\")\n",
    "for key in stu:\n",
    "    print(key, end=' : ')\n",
    "    for score in stu[key]:\n",
    "        print(score, end='\\t')\n",
    "    print(\"{}\\t {:3.2f}\".format(sum(stu[key]), sum(stu[key])/3))\n",
    "    \n",
    "# 검색할 이름을 입력받아 학생의 총점, 평균 출력\n",
    "s_name = input(\"검색할 이름 : \")\n",
    "s_score = stu.get(s_name)\n",
    "if s_score:\n",
    "    print(\"{} : {}, {:3.2f}\".format(s_name, sum(s_score), sum(s_score)/len(s_score)))"
   ]
  },
  {
   "cell_type": "code",
   "execution_count": 65,
   "id": "c57f7d2e",
   "metadata": {},
   "outputs": [],
   "source": [
    "# mark의 국어점수를 80점으로 수정\n",
    "stu['mark'][0] = 80"
   ]
  },
  {
   "cell_type": "code",
   "execution_count": 2,
   "id": "20bbbe0c",
   "metadata": {},
   "outputs": [
    {
     "name": "stdout",
     "output_type": "stream",
     "text": [
      "{1: 10, 2: 20}\n",
      "{1: 10, 2: 20, 4: 5}\n",
      "{1: 15, 2: 20, 4: 5}\n"
     ]
    }
   ],
   "source": [
    "a_dict = {1:10, 2:20}\n",
    "print(a_dict)\n",
    "\n",
    "a_dict[4] = 5\n",
    "print(a_dict)\n",
    "\n",
    "a_dict[1] += 5\n",
    "print(a_dict)"
   ]
  },
  {
   "cell_type": "code",
   "execution_count": 6,
   "id": "f5c23690",
   "metadata": {
    "scrolled": true
   },
   "outputs": [
    {
     "name": "stdout",
     "output_type": "stream",
     "text": [
      "2\n",
      "3\n",
      "4\n",
      "5\n",
      "6\n",
      "7\n",
      "\n",
      "2\n",
      "3\n",
      "4\n",
      "5\n",
      "6\n",
      "7\n",
      "\n",
      "7\n",
      "6\n",
      "5\n",
      "4\n",
      "3\n",
      "2\n",
      "[2, 3, 4, 5, 6, 7]\n"
     ]
    }
   ],
   "source": [
    "# range(start, stop, step) : range(5) -> 0~4까지, range(1,5) -> 1에서 4까지\n",
    "# range(0,5,2) -> 0에서 4까지 2씩 증가\n",
    "list_a = [2,3,4,5,6,7]\n",
    "for item in list_a:\n",
    "    print(item)\n",
    "print()\n",
    "# range사용\n",
    "# for idx in range(6):\n",
    "for idx in range(len(list_a)):\n",
    "    print(list_a[idx])\n",
    "print()\n",
    "# 역으로 출력\n",
    "for r_idx in reversed(range(len(list_a))):\n",
    "    print(list_a[r_idx])\n",
    "list_a.sort() # 자료를 정렬, 기존 자료 변경\n",
    "print(list_a)\n",
    "list_a.reverse()"
   ]
  },
  {
   "cell_type": "code",
   "execution_count": 9,
   "id": "ef80cf22",
   "metadata": {},
   "outputs": [
    {
     "name": "stdout",
     "output_type": "stream",
     "text": [
      "3초 동안 19853842회 실행\n"
     ]
    }
   ],
   "source": [
    "# while 시간을 기준으로 반복문 작성\n",
    "import time\n",
    "count = 0\n",
    "target_time = time.time()+3.5 #현재 시간 반환\n",
    "while time.time() < target_time:\n",
    "    count +=1\n",
    "print(\"3.5초 동안 {}회 실행\".format(count))"
   ]
  },
  {
   "cell_type": "code",
   "execution_count": 26,
   "id": "5481c965",
   "metadata": {},
   "outputs": [
    {
     "name": "stdout",
     "output_type": "stream",
     "text": [
      "두 수를 입력하시오.4 15\n",
      "4\n",
      "11\n",
      "21\n",
      "34\n",
      "4\n",
      "13\n",
      "27\n"
     ]
    }
   ],
   "source": [
    "# 두 수를 입력받아 두 수 사이의 3의 배수의 합과 5의 배수의 합을 구하세요.\n",
    "# range() 함수를 사용하세요\n",
    "# 두 수는 포함\n",
    "\n",
    "num1, num2 = input(\"두 수를 입력하시오.\").split()\n",
    "num1 = int(num1)\n",
    "num2 = int(num2)\n",
    "if num1 > num2:\n",
    "    num1,num2 = num2,num1\n",
    "sum_x3 = 0\n",
    "for x3 in range(num1, num2+1,3):\n",
    "    sum_x3 += x3\n",
    "    print(sum_x3)\n",
    "sum_x5 = 0\n",
    "for x5 in range(num1, num2+1,5):\n",
    "    sum_x5 += x5\n",
    "    print(sum_x5)"
   ]
  },
  {
   "cell_type": "code",
   "execution_count": 24,
   "id": "9879ee5f",
   "metadata": {},
   "outputs": [
    {
     "name": "stdout",
     "output_type": "stream",
     "text": [
      "두 수를 입력하시오.4 12\n",
      "4부터 12까지 3의 배수의 합은 27\n",
      "4부터 12까지 3씩 증가하는 수의 합은 21\n",
      "4부터 12까지 5의 배수의 합은 15\n",
      "4부터 12까지 5씩 증가하는 수의 합은 13\n"
     ]
    }
   ],
   "source": [
    "# 두 수를 입력받아 두 수 사이의 3의 배수의 합과 5의 배수의 합을 구하세요.\n",
    "# range() 함수를 사용하세요\n",
    "# 두 수는 포함\n",
    "\n",
    "num1, num2 = input(\"두 수를 입력하시오.\").split()\n",
    "num1 = int(num1)\n",
    "num2 = int(num2)\n",
    "if num1 > num2:\n",
    "    num1,num2 = num2,num1\n",
    "total = 0\n",
    "for num in range(num1, num2+1):\n",
    "    if num % 3 ==0:\n",
    "        total += num\n",
    "print(\"{}부터 {}까지 3의 배수의 합은 {}\".format(num1, num2, total))\n",
    "print(\"{}부터 {}까지 3씩 증가하는 수의 합은 {}\".format(num1, num2, \\\n",
    "                                         sum(range(num1, num2+1,3))))\n",
    "\n",
    "total = 0\n",
    "for num in range(num1, num2+1):\n",
    "    if num % 5 ==0:\n",
    "        total += num\n",
    "print(\"{}부터 {}까지 5의 배수의 합은 {}\".format(num1, num2, total))\n",
    "print(\"{}부터 {}까지 5씩 증가하는 수의 합은 {}\".format(num1, num2, \\\n",
    "                                         sum(range(num1, num2+1,5))))"
   ]
  },
  {
   "cell_type": "code",
   "execution_count": 29,
   "id": "6802775b",
   "metadata": {},
   "outputs": [
    {
     "name": "stdout",
     "output_type": "stream",
     "text": [
      "<class 'int'>\n"
     ]
    }
   ],
   "source": [
    "print(type(range(5)[2]))"
   ]
  },
  {
   "cell_type": "code",
   "execution_count": 31,
   "id": "d3d785d3",
   "metadata": {},
   "outputs": [
    {
     "name": "stdout",
     "output_type": "stream",
     "text": [
      "111 5\n",
      "111 4\n",
      "111 3\n",
      "111 2\n",
      "111 1\n",
      "222 5\n",
      "222 4\n",
      "222 3\n",
      "222 2\n",
      "222 1\n"
     ]
    }
   ],
   "source": [
    "# 문자열, 리스트, 딕셔너리와 관련된 함수\n",
    "# 리스트 : sum(list), min(list), max(list), reversed(list)\n",
    "list_a = [1,2,3,4,5]\n",
    "list_reversed = reversed(list_a)\n",
    "# list_reversed = list(reversed(list_a)) 위에 것과는 차이가 있음\n",
    "# print(\"list_reversed : \", list(list_reversed))\n",
    "\n",
    "for i in list_reversed:\n",
    "    print(\"111\", i)\n",
    "for i in list_reversed:\n",
    "    print(\"222\", i)"
   ]
  },
  {
   "cell_type": "code",
   "execution_count": 32,
   "id": "63c6d9c4",
   "metadata": {},
   "outputs": [
    {
     "name": "stdout",
     "output_type": "stream",
     "text": [
      "4\n",
      "5\n",
      "6\n",
      "7\n",
      "8\n",
      "9\n",
      "0 4\n",
      "1 5\n",
      "2 6\n",
      "3 7\n",
      "4 8\n",
      "5 9\n",
      "0번째 값 : 4\n",
      "1번째 값 : 5\n",
      "2번째 값 : 6\n",
      "3번째 값 : 7\n",
      "4번째 값 : 8\n",
      "5번째 값 : 9\n"
     ]
    }
   ],
   "source": [
    "list_a = [4,5,6,7,8,9]\n",
    "for num in list_a:  #list의 값을 가져 옴\n",
    "    print(num)\n",
    "for idx in range(len(list_a)):  #list의 index를 가져 옴\n",
    "    print(idx, list_a[idx])\n",
    "# list의 인덱스와 값을 같이 가져옴 -> enumerate(리스트)\n",
    "for idx, value in enumerate(list_a): #딕셔너리에서는 딕셔너리.items() 키와 값\n",
    "    print(\"{}번째 값 : {}\".format(idx, value))"
   ]
  },
  {
   "cell_type": "code",
   "execution_count": 34,
   "id": "8cc03652",
   "metadata": {},
   "outputs": [],
   "source": [
    "# 리스트에 적용 가능한 함수 : max(리스트), min(리스트),sum(리스트),\n",
    "#    enumerate(리스트), reversed(리스트),　\n",
    "#    list.sort(), list.reversed() -> 해당 오브젝트를 변경\n",
    "# 딕셔너리 오브젝트에 관련된 함수 : dict.keys(), dict.values(), dict.items()\n",
    "#  for key in dict : -> 딕셔너리의 키를 가져옴\n",
    "# 리스트는 인덱스로 데이터 접근 : 리스트[인덱스], 리스트[start:stop]\n",
    "# 딕셔너리는 키로 데이터 접근 : 딕셔너리[키]"
   ]
  },
  {
   "cell_type": "code",
   "execution_count": 35,
   "id": "383c556f",
   "metadata": {},
   "outputs": [
    {
     "name": "stdout",
     "output_type": "stream",
     "text": [
      "[0, 4, 16, 36, 64, 100, 144, 196, 256, 324]\n"
     ]
    }
   ],
   "source": [
    "# 0부터 20까지 2씩 증가된 숫자의 제곱을 구해서 리스트에 저장\n",
    "list_b = []\n",
    "for num in range(0,20,2):\n",
    "    list_b.append(num * num)\n",
    "print(list_b)"
   ]
  },
  {
   "cell_type": "code",
   "execution_count": 38,
   "id": "2ff73822",
   "metadata": {},
   "outputs": [
    {
     "name": "stdout",
     "output_type": "stream",
     "text": [
      "[0, 4, 16, 36, 64, 100, 144, 196, 256, 324]\n"
     ]
    }
   ],
   "source": [
    "# 위의 문장을 한번에 쓰면\n",
    "# 리스트 이름 = [표현식 for 반복자 in 반복자로 if 조건문]\n",
    "list_c = [num * num for num in range(0,20,2)]\n",
    "print(list_c)"
   ]
  },
  {
   "cell_type": "code",
   "execution_count": 41,
   "id": "2956b488",
   "metadata": {},
   "outputs": [
    {
     "name": "stdout",
     "output_type": "stream",
     "text": [
      "1683\n",
      "10\n"
     ]
    }
   ],
   "source": [
    "# 1부터 100까지 3의 배수의 합을 구하세요\n",
    "print(sum([i for i in range(1,100) if i%3 ==0]))\n",
    "print(sum(range(5)))"
   ]
  },
  {
   "cell_type": "code",
   "execution_count": 2,
   "id": "0542659d",
   "metadata": {},
   "outputs": [
    {
     "name": "stdout",
     "output_type": "stream",
     "text": [
      "a--b--c\n",
      "0*2*4*6*8*10*12*14*16*18\n",
      "0--2--4--6--8--10--12--14--16--18\n"
     ]
    },
    {
     "data": {
      "text/plain": [
       "['0', '2', '4', '6', '8', '10', '12', '14', '16', '18']"
      ]
     },
     "execution_count": 2,
     "metadata": {},
     "output_type": "execute_result"
    }
   ],
   "source": [
    "# 리스트를 문자열로 join => 문자열.join(문자열 리스트) -> 문자열\n",
    "print('--'.join(['a','b','c']))\n",
    "\n",
    "list_d = [str(num) for num in range(0,20,2)]\n",
    "list_d\n",
    "print(\"*\".join(list_d))\n",
    "list_str = \"--\".join(list_d)\n",
    "print(list_str)\n",
    "list_split = list_str.split('--')\n",
    "list_split"
   ]
  },
  {
   "cell_type": "code",
   "execution_count": 10,
   "id": "6825f710",
   "metadata": {},
   "outputs": [
    {
     "name": "stdout",
     "output_type": "stream",
     "text": [
      "\n"
     ]
    }
   ],
   "source": [
    "# 함수 : 코드의 집합\n",
    "# 선언 (정의)\n",
    "# def 함수명(매개변수, ...):\n",
    "#     들여쓰기\n",
    "#     return 값\n",
    "\n",
    "def print_3_times():\n",
    "    print(\"hello!\")\n",
    "    print(\"hello!\")\n",
    "    print(\"hello!\")\n",
    "print()\n",
    "def print_n_times(value, n):\n",
    "    for i in range(n):\n",
    "        print(value)\n",
    "def print_val_times(n, *values):\n",
    "    for i in range(n):\n",
    "        for value in values:\n",
    "            print(value, end =\"\\t\")\n",
    "        print()"
   ]
  },
  {
   "cell_type": "code",
   "execution_count": 11,
   "id": "51402da0",
   "metadata": {},
   "outputs": [
    {
     "name": "stdout",
     "output_type": "stream",
     "text": [
      "hello!\n",
      "hello!\n",
      "hello!\n",
      "\n",
      "test\n",
      "test\n",
      "test\n",
      "test\n",
      "\n",
      "test\tdata\t3rd data\t\n",
      "test\tdata\t3rd data\t\n",
      "test\tdata\t3rd data\t\n"
     ]
    }
   ],
   "source": [
    "print_3_times()\n",
    "print()\n",
    "print_n_times(\"test\",4)\n",
    "print()\n",
    "print_val_times(3,\"test\",\"data\",\"3rd data\")"
   ]
  },
  {
   "cell_type": "code",
   "execution_count": null,
   "id": "328c1369",
   "metadata": {},
   "outputs": [],
   "source": [
    "def compute_func(num1, num2):\n",
    "    return num1 + num2\n",
    "print(compute_func(10,30))"
   ]
  },
  {
   "cell_type": "code",
   "execution_count": 16,
   "id": "6a95c98c",
   "metadata": {},
   "outputs": [
    {
     "name": "stdout",
     "output_type": "stream",
     "text": [
      "110\n",
      "210\n"
     ]
    }
   ],
   "source": [
    "def compute_func(num1, num2=100): #키워드 num2=100 입력\n",
    "    return num1 + num2\n",
    "print(compute_func(10))\n",
    "print(compute_func(10,200)) "
   ]
  },
  {
   "cell_type": "code",
   "execution_count": null,
   "id": "86a49523",
   "metadata": {},
   "outputs": [
    {
     "name": "stdout",
     "output_type": "stream",
     "text": [
      "계산식 입력 : 10 + 20의 형식10 + 20\n",
      "30\n",
      "계산식 입력 : 10 + 20의 형식20/ 4\n",
      "계산식 입력 : 10 + 20의 형식20 / 4\n",
      "5.0\n"
     ]
    }
   ],
   "source": [
    "# 계산기 프로그램 작성\n",
    "# 입력은 10+20 의 형식으로\n",
    "# 입력된 문자열을 분리해서 리스트로 변형한 후 숫자이면 int로 형 변환\n",
    "# 각 부호별로 함수정의\n",
    "def plus_func(num1, num2):\n",
    "    return num1 + num2\n",
    "def minus_func(num1, num2):\n",
    "    return num1 - num2\n",
    "def times_func(num1, num2):\n",
    "    return num1 * num2\n",
    "def div_func(num1, num2):\n",
    "    return num1 / num2\n",
    "\n",
    "\n",
    "def input_func():\n",
    "    while True:\n",
    "        input_data = input(\"계산식 입력 : 10 + 20의 형식\").split()\n",
    "        if input_data[1] == \"+\":\n",
    "            print(plus_func(int(input_data[0]), int(input_data[2])))\n",
    "        if input_data[1] == \"-\":\n",
    "            print(minus_func(int(input_data[0]), int(input_data[2])))\n",
    "        if input_data[1] == \"*\":\n",
    "            print(times_func(int(input_data[0]), int(input_data[2])))\n",
    "        if input_data[1] == \"/\":\n",
    "            print(div_func(int(input_data[0]), int(input_data[2])))\n",
    "print(input_func())"
   ]
  }
 ],
 "metadata": {
  "kernelspec": {
   "display_name": "Python 3 (ipykernel)",
   "language": "python",
   "name": "python3"
  },
  "language_info": {
   "codemirror_mode": {
    "name": "ipython",
    "version": 3
   },
   "file_extension": ".py",
   "mimetype": "text/x-python",
   "name": "python",
   "nbconvert_exporter": "python",
   "pygments_lexer": "ipython3",
   "version": "3.9.7"
  }
 },
 "nbformat": 4,
 "nbformat_minor": 5
}
