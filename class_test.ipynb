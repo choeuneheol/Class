{
 "cells": [
  {
   "cell_type": "code",
   "execution_count": 5,
   "id": "f17e8698",
   "metadata": {},
   "outputs": [
    {
     "name": "stdout",
     "output_type": "stream",
     "text": [
      "홍길동 : 90, 80, 총점 : 170\n"
     ]
    }
   ],
   "source": [
    "class Student:\n",
    "#     def __init__(self, 추가적인 매개변수)\n",
    "    def __init__(self, name, kor,math):\n",
    "        self.name = name\n",
    "        self.kor = kor\n",
    "        self.math = math\n",
    "\n",
    "    def get_sum(self):\n",
    "        return self.kor + self.math\n",
    "\n",
    "student_1 = Student('홍길동', 90,80) # 클래스명() -> 생성자,하나의 instance 생성\n",
    "print(\"{} : {}, {}, 총점 : {}\".format(student_1.name,student_1.kor,\n",
    "                                   student_1.math, student_1.get_sum()))"
   ]
  },
  {
   "cell_type": "code",
   "execution_count": null,
   "id": "68663dec",
   "metadata": {},
   "outputs": [],
   "source": [
    "# 이름, 국어, 영어, 수학 점수를 입력받아\n",
    "# 클래스의 리스트로 저장한 후\n",
    "# 각 학생의 이름, 성적, 총합, 평균\n",
    "# 전체 학생의 과목별 총점과 평균을 구하세요"
   ]
  },
  {
   "cell_type": "code",
   "execution_count": 7,
   "id": "71072e2b",
   "metadata": {},
   "outputs": [],
   "source": [
    "class Student:\n",
    "    def __init__(self, name, kor,eng,math):\n",
    "        self.name = name\n",
    "        self.kor = kor\n",
    "        self.math = math\n",
    "        self.eng = eng           \n",
    "    def get_sum(self):\n",
    "        return self.kor + self.eng + self.math\n",
    "    def get_avg(self):\n",
    "        return self.get_sum() / 3"
   ]
  },
  {
   "cell_type": "code",
   "execution_count": 13,
   "id": "ff4b075c",
   "metadata": {},
   "outputs": [],
   "source": [
    "def input_data():\n",
    "    name = input(\"이름 입력 \")\n",
    "    while name != 'q':\n",
    "        score = input(\"국어 영어 수학 점수 입력 : \").split()\n",
    "        #새로운 학생 자료 생성 : instance\n",
    "        students.append(Student(name,int(score[0]), int(score[1]),\n",
    "                               int(score[2])))\n",
    "        name = input(\"이름 입력 \")"
   ]
  },
  {
   "cell_type": "code",
   "execution_count": 14,
   "id": "3882518b",
   "metadata": {},
   "outputs": [
    {
     "name": "stdout",
     "output_type": "stream",
     "text": [
      "이름 입력 a \n",
      "국어 영어 수학 점수 입력 : 22 33 44\n",
      "이름 입력 b \n",
      "국어 영어 수학 점수 입력 : 55 66 77\n",
      "이름 입력 q\n"
     ]
    }
   ],
   "source": [
    "students = []\n",
    "input_data()"
   ]
  },
  {
   "cell_type": "code",
   "execution_count": 24,
   "id": "234a6881",
   "metadata": {},
   "outputs": [
    {
     "name": "stdout",
     "output_type": "stream",
     "text": [
      "a  22 44 99 33.0\n",
      "b  55 77 198 66.0\n"
     ]
    }
   ],
   "source": [
    "score_tot = [[],[],[]]\n",
    "for student in  students:\n",
    "    print(student.name, student.kor, student.math, student.get_sum(), \n",
    "          student.get_avg())\n",
    "    score_tot[0].append(student.kor)\n",
    "    score_tot[1].append(student.eng)\n",
    "    score_tot[2].append(student.math)    "
   ]
  },
  {
   "cell_type": "code",
   "execution_count": 26,
   "id": "673e1d62",
   "metadata": {
    "scrolled": true
   },
   "outputs": [
    {
     "name": "stdout",
     "output_type": "stream",
     "text": [
      "77 38.5\n",
      "99 49.5\n",
      "121 60.5\n"
     ]
    }
   ],
   "source": [
    "for data in score_tot:\n",
    "    print(sum(data), sum(data)/len(data))"
   ]
  },
  {
   "cell_type": "code",
   "execution_count": 2,
   "id": "0263b7e3",
   "metadata": {},
   "outputs": [
    {
     "name": "stdout",
     "output_type": "stream",
     "text": [
      "공부를 합니다\n",
      "공부를 합니다\n",
      "학생을 가르칩니다\n",
      "공부를 합니다\n",
      "학생을 가르칩니다\n"
     ]
    }
   ],
   "source": [
    "# isinstance(instance, class) 함수 : instance가 클래스소속에 대해 True, False\n",
    "class Student:\n",
    "    def study(self):\n",
    "        print(\"공부를 합니다\")\n",
    "\n",
    "class Teacher:\n",
    "    def teach(self):\n",
    "        print(\"학생을 가르칩니다\")\n",
    "classroom = [Student(),Student(),Teacher(),Student(),Teacher()]\n",
    "\n",
    "# 각 인스턴스가 Student 이면 학생의 print 아니면 teacher의 print\n",
    "for person in classroom:\n",
    "    if isinstance(person, Student):\n",
    "        person.study() #학생 클래스의 print\n",
    "    else:\n",
    "        person.teach() #선생님 클래스의 print"
   ]
  },
  {
   "cell_type": "code",
   "execution_count": 8,
   "id": "019e0165",
   "metadata": {},
   "outputs": [],
   "source": [
    "# 클래스를 선언합니다.\n",
    "class Student:\n",
    "    def __init__(self, name, korean, math, english, science):\n",
    "        self.name = name\n",
    "        self.korean = korean\n",
    "        self.math = math\n",
    "        self.english = english\n",
    "        self.science = science\n",
    "\n",
    "    def get_sum(self):\n",
    "        return self.korean + self.math +\\\n",
    "            self.english + self.science\n",
    "\n",
    "    def get_average(self):\n",
    "        return self.get_sum() / 4\n",
    "\n",
    "    def __str__(self):   #함수 호출시 일반 함수처럼 호출 가능\n",
    "        return \"{}\\t{}\\t{}\".format(\n",
    "            self.name,\n",
    "            self.get_sum(),\n",
    "            self.get_average()) "
   ]
  },
  {
   "cell_type": "code",
   "execution_count": null,
   "id": "db14577c",
   "metadata": {},
   "outputs": [],
   "source": [
    "    def __eq__(self, value):  #a == b\n",
    "        return self.get_sum() == value.get_sum()\n",
    "    def __ne__(self, value):  #a != b\n",
    "        return self.get_sum() != value.get_sum()"
   ]
  },
  {
   "cell_type": "code",
   "execution_count": 9,
   "id": "7f0df753",
   "metadata": {},
   "outputs": [
    {
     "name": "stdout",
     "output_type": "stream",
     "text": [
      "이름\t총점\t평균\n",
      "윤인성\t368\t92.0\n",
      "연하진\t384\t96.0\n",
      "구지연\t356\t89.0\n",
      "나선주\t378\t94.5\n",
      "윤아린\t389\t97.25\n",
      "윤명월\t336\t84.0\n"
     ]
    }
   ],
   "source": [
    "    \n",
    "# 학생 리스트를 선언합니다.\n",
    "students = [\n",
    "    Student(\"윤인성\", 87, 98, 88, 95),\n",
    "    Student(\"연하진\", 92, 98, 96, 98),\n",
    "    Student(\"구지연\", 76, 96, 94, 90),\n",
    "    Student(\"나선주\", 98, 92, 96, 92),\n",
    "    Student(\"윤아린\", 95, 98, 98, 98),\n",
    "    Student(\"윤명월\", 64, 88, 92, 92)\n",
    "]\n",
    "\n",
    "# 출력합니다.\n",
    "print(\"이름\", \"총점\", \"평균\", sep=\"\\t\")\n",
    "for student in students:\n",
    "    print(str(student))"
   ]
  },
  {
   "cell_type": "code",
   "execution_count": 15,
   "id": "7ca2c7fb",
   "metadata": {},
   "outputs": [],
   "source": [
    "# 클래스 변수 : 클래스명.변수명, 클래스 함수 : @함수명 def 함수명() :\n",
    "class Student:\n",
    "#     클래스 변수\n",
    "    count = 0\n",
    "    students = []\n",
    "    \n",
    "#     클래스 함수\n",
    "    @classmethod\n",
    "    def print(cls):\n",
    "        print(\"-------학생 목록--------\")\n",
    "        print(\"이름\\t총점\\t평균\")\n",
    "        for student in cls.students:\n",
    "            print(str(student))\n",
    "        print(\"------------------------\")\n",
    "    def __init__(self, name, korean, math, english, science):\n",
    "        self.name = name\n",
    "        self.korean = korean\n",
    "        self.math = math\n",
    "        self.english = english\n",
    "        self.science = science\n",
    "        \n",
    "#         class 변수를 1증가 시킴\n",
    "        Student.count += 1 #\n",
    "#         class 변수 출력\n",
    "        Student.students.append(self) #학생 리스트에 데이터 추가\n",
    "    def get_sum(self):\n",
    "        return self.korean + self.math +\\\n",
    "            self.english + self.science\n",
    "\n",
    "    def get_average(self):\n",
    "        return self.get_sum() / 4\n",
    "\n",
    "    def __str__(self):   #함수 호출시 일반 함수처럼 호출 가능\n",
    "        return \"{}\\t{}\\t{}\".format(\n",
    "            self.name,\n",
    "            self.get_sum(),\n",
    "            self.get_average()) "
   ]
  },
  {
   "cell_type": "code",
   "execution_count": 16,
   "id": "7c25a3b1",
   "metadata": {},
   "outputs": [
    {
     "name": "stdout",
     "output_type": "stream",
     "text": [
      "-------학생 목록--------\n",
      "이름\t총점\t평균\n",
      "윤인성\t368\t92.0\n",
      "연하진\t384\t96.0\n",
      "구지연\t356\t89.0\n",
      "나선주\t378\t94.5\n",
      "윤아린\t389\t97.25\n",
      "윤명월\t336\t84.0\n",
      "김미화\t354\t88.5\n",
      "김연화\t332\t83.0\n",
      "박아현\t372\t93.0\n",
      "서준서\t247\t61.75\n",
      "------------------------\n"
     ]
    }
   ],
   "source": [
    "Student(\"윤인성\", 87, 98, 88, 95)\n",
    "Student(\"연하진\", 92, 98, 96, 98)\n",
    "Student(\"구지연\", 76, 96, 94, 90)\n",
    "Student(\"나선주\", 98, 92, 96, 92)\n",
    "Student(\"윤아린\", 95, 98, 98, 98)\n",
    "Student(\"윤명월\", 64, 88, 92, 92)\n",
    "Student(\"김미화\", 82, 86, 98, 88)\n",
    "Student(\"김연화\", 88, 74, 78, 92)\n",
    "Student(\"박아현\", 97, 92, 88, 95)\n",
    "Student(\"서준서\", 45, 52, 72, 78)\n",
    "\n",
    "Student.print()"
   ]
  },
  {
   "cell_type": "code",
   "execution_count": 17,
   "id": "7e1c3ac4",
   "metadata": {},
   "outputs": [],
   "source": [
    "class Stu:\n",
    "    stus=[]\n",
    "\n",
    "    def __init__(self, name, score):\n",
    "        self.__name = name\n",
    "        self.score = score\n",
    "        \n",
    "    @classmethod\n",
    "    def print(cls):\n",
    "        print(\"-------학생 목록--------\")\n",
    "        print(\"이름\\t성적\")\n",
    "        for stu in cls.stus:\n",
    "            print(str(stu))\n",
    "        print(\"------------------------\")\n",
    "    def __str__(self):   #함수 호출시 일반 함수처럼 호출 가능\n",
    "        return \"{}\\t{}\".format(self.__name,self.score) \n"
   ]
  },
  {
   "cell_type": "code",
   "execution_count": 19,
   "id": "6020da0f",
   "metadata": {},
   "outputs": [
    {
     "name": "stdout",
     "output_type": "stream",
     "text": [
      "학생 이름과 성적을 입력하시오.(q입력시 종료)mark 100\n",
      "학생 이름과 성적을 입력하시오.(q입력시 종료)steve 90\n",
      "학생 이름과 성적을 입력하시오.(q입력시 종료)john 100\n",
      "학생 이름과 성적을 입력하시오.(q입력시 종료)q\n"
     ]
    }
   ],
   "source": [
    "while True:\n",
    "    input_data = input(\"학생 이름과 성적을 입력하시오.(q입력시 종료)\").split()\n",
    "    if input_data[0] == 'q':\n",
    "        break\n",
    "    if len(input_data) != 2:\n",
    "        print(\"다시 입력하시오\")\n",
    "        continue\n",
    "    Stu(input_data[0],input_data[1])"
   ]
  },
  {
   "cell_type": "code",
   "execution_count": 21,
   "id": "57c0b191",
   "metadata": {},
   "outputs": [
    {
     "name": "stdout",
     "output_type": "stream",
     "text": [
      "이름 성적 입력 : a 100\n",
      "이름 성적 입력 : b 200\n",
      "이름 성적 입력 : c 300\n",
      "이름 성적 입력 : d 400\n",
      "이름 성적 입력 : q\n",
      "a  :  100\n",
      "b  :  200\n",
      "c  :  300\n",
      "d  :  400\n",
      "\n",
      "수정하고자 하는 이름 입력 :d\n",
      "바꿀 이름 입력 : e\n",
      "수정하고자 하는 이름 없음\n",
      "\n",
      "a  :  100\n",
      "b  :  200\n",
      "c  :  300\n",
      "e  :  400\n",
      "\n"
     ]
    }
   ],
   "source": [
    "class Stu:\n",
    "    def __init__(self, name, score):\n",
    "        self.__name = name\n",
    "        self.score = score\n",
    "    @property\n",
    "    def name(self):\n",
    "        return self.__name\n",
    "    @name.setter\n",
    "    def name(self, value):\n",
    "        self.__name = value        \n",
    "\n",
    "students = []\n",
    "while True:\n",
    "    input_data = input(\"이름 성적 입력 : \").split()\n",
    "    if  input_data[0] == 'q':\n",
    "        break\n",
    "    students.append(Stu(input_data[0],input_data[1]))\n",
    "# 학생의 이름과 성적 출력\n",
    "for student in students:\n",
    "    print(student.name, ' : ', student.score)\n",
    "print()\n",
    "\n",
    "# 수정하고자 하는 이름 입력\n",
    "search_name = input(\"수정하고자 하는 이름 입력 :\")\n",
    "for student in students:\n",
    "    if student.name == search_name:\n",
    "        change_name = input(\"바꿀 이름 입력 : \")\n",
    "        student.name = change_name\n",
    "else:\n",
    "    print(\"수정하고자 하는 이름 없음\")\n",
    "print()\n",
    "\n",
    "# 변경된 학생의 이름과 성적 출력\n",
    "for student in students:\n",
    "    print(student.name, ' : ', student.score)\n",
    "print()"
   ]
  },
  {
   "cell_type": "markdown",
   "id": "049c66e8",
   "metadata": {},
   "source": [
    "# 클래스 상속"
   ]
  },
  {
   "cell_type": "code",
   "execution_count": 25,
   "id": "bff94bc7",
   "metadata": {},
   "outputs": [],
   "source": [
    "# 부모 클래스 선언\n",
    "class Parent:\n",
    "    def __init__(self):\n",
    "        self.value = '테스트'\n",
    "        print(\"Parent 클래스의 __init__ 메소드 호출\")\n",
    "    def test(self):\n",
    "        print(\"Parent 클래스 호출\")\n",
    "# 자식 클래스 생성\n",
    "class Child(Parent):\n",
    "    def __init__(self):\n",
    "        Parent.__init__(self)\n",
    "        print(\"Child 클래스의 __init__ 메소드 호출\")\n",
    "    def test(self): #부모와 같은 이름의 함수 재정의 : 오버라이드\n",
    "        print(\"Child 클래스 호출\")\n",
    "    def child_func(self):\n",
    "        print(\"child Nes function 호출\")"
   ]
  },
  {
   "cell_type": "code",
   "execution_count": 27,
   "id": "3f574487",
   "metadata": {},
   "outputs": [
    {
     "name": "stdout",
     "output_type": "stream",
     "text": [
      "Parent 클래스의 __init__ 메소드 호출\n",
      "Child 클래스의 __init__ 메소드 호출\n",
      "Child 클래스 호출\n",
      "테스트\n",
      "child Nes function 호출\n"
     ]
    }
   ],
   "source": [
    "child = Child()\n",
    "child.test()\n",
    "print(child.value)\n",
    "child.child_func()"
   ]
  }
 ],
 "metadata": {
  "kernelspec": {
   "display_name": "Python 3 (ipykernel)",
   "language": "python",
   "name": "python3"
  },
  "language_info": {
   "codemirror_mode": {
    "name": "ipython",
    "version": 3
   },
   "file_extension": ".py",
   "mimetype": "text/x-python",
   "name": "python",
   "nbconvert_exporter": "python",
   "pygments_lexer": "ipython3",
   "version": "3.9.7"
  }
 },
 "nbformat": 4,
 "nbformat_minor": 5
}
