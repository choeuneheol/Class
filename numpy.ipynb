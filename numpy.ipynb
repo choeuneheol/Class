{
 "cells": [
  {
   "cell_type": "markdown",
   "id": "bfe1e778",
   "metadata": {},
   "source": [
    "arange()함수를 이용하여 배열 생성\n",
    "\n",
    "ndim:배열의 차수, shape:3*5, dtype.name : 데이터형식\n",
    "\n",
    "dtype.itemsize : 각 데이터의 저장 사이즈, size: 배열의 총 데이터 갯수"
   ]
  },
  {
   "cell_type": "code",
   "execution_count": 2,
   "id": "d3b6fa0c",
   "metadata": {},
   "outputs": [
    {
     "name": "stdout",
     "output_type": "stream",
     "text": [
      "[ 0  1  2  3  4  5  6  7  8  9 10 11 12 13 14] 1 차원 (15,)\n",
      "\n",
      "[[ 0  1  2  3  4]\n",
      " [ 5  6  7  8  9]\n",
      " [10 11 12 13 14]] 2 차원 (3, 5)\n",
      "int32 4 15\n"
     ]
    }
   ],
   "source": [
    "import numpy as np\n",
    "# arange()함수를 이용하여 배열 생성\n",
    "arr = np.arange(15)\n",
    "print(arr, arr.ndim,\"차원\",arr.shape)\n",
    "# .ndim 차원, .shape 배열의 사이즈\n",
    "print()\n",
    "arr2 = arr.reshape(3,5) #배열의 차수를 변경\n",
    "print(arr2, arr2.ndim,\"차원\",arr2.shape)\n",
    "print(arr.dtype.name, arr2.dtype.itemsize, arr2.size)"
   ]
  },
  {
   "cell_type": "code",
   "execution_count": 14,
   "id": "1a4699ae",
   "metadata": {},
   "outputs": [
    {
     "data": {
      "text/plain": [
       "array([[-5. , -4.5, -4. , -3.5],\n",
       "       [-3. , -2.5, -2. , -1.5],\n",
       "       [-1. , -0.5,  0. ,  0.5],\n",
       "       [ 1. ,  1.5,  2. ,  2.5],\n",
       "       [ 3. ,  3.5,  4. ,  4.5]])"
      ]
     },
     "execution_count": 14,
     "metadata": {},
     "output_type": "execute_result"
    }
   ],
   "source": [
    "a = np.arange(-5,5,0.5)\n",
    "a.size\n",
    "arr = a.reshape(int(a.size/4), 4)\n",
    "arr"
   ]
  },
  {
   "cell_type": "code",
   "execution_count": 15,
   "id": "7d8ad9fe",
   "metadata": {},
   "outputs": [
    {
     "data": {
      "text/plain": [
       "numpy.ndarray"
      ]
     },
     "execution_count": 15,
     "metadata": {},
     "output_type": "execute_result"
    }
   ],
   "source": [
    "b = np.array([1,2,3,4])\n",
    "type(b)"
   ]
  },
  {
   "cell_type": "code",
   "execution_count": 16,
   "id": "f1fc6fd6",
   "metadata": {},
   "outputs": [
    {
     "name": "stdout",
     "output_type": "stream",
     "text": [
      "[[1, 2, 3], [4, 5, 6]] <class 'list'>\n"
     ]
    }
   ],
   "source": [
    "a_list = [[1,2,3],[4,5,6]]\n",
    "print(a_list, type(a_list))"
   ]
  },
  {
   "cell_type": "code",
   "execution_count": 18,
   "id": "8aad74c2",
   "metadata": {},
   "outputs": [
    {
     "name": "stdout",
     "output_type": "stream",
     "text": [
      "[[1 2 3]\n",
      " [4 5 6]] <class 'numpy.ndarray'>\n"
     ]
    }
   ],
   "source": [
    "a_arr = np.array(a_list)\n",
    "print(a_arr, type(a_arr))"
   ]
  },
  {
   "cell_type": "code",
   "execution_count": 24,
   "id": "b6a2728e",
   "metadata": {},
   "outputs": [
    {
     "data": {
      "text/plain": [
       "array([  1,   2,   3,   4,   5,   6,   7,   8,   9,  10,  11,  12,  13,\n",
       "        14,  15,  16,  17,  18,  19,  20,  21,  22,  23,  24,  25,  26,\n",
       "        27,  28,  29,  30,  31,  32,  33,  34,  35,  36,  37,  38,  39,\n",
       "        40,  41,  42,  43,  44,  45,  46,  47,  48,  49,  50,  51,  52,\n",
       "        53,  54,  55,  56,  57,  58,  59,  60,  61,  62,  63,  64,  65,\n",
       "        66,  67,  68,  69,  70,  71,  72,  73,  74,  75,  76,  77,  78,\n",
       "        79,  80,  81,  82,  83,  84,  85,  86,  87,  88,  89,  90,  91,\n",
       "        92,  93,  94,  95,  96,  97,  98,  99, 100])"
      ]
     },
     "execution_count": 24,
     "metadata": {},
     "output_type": "execute_result"
    }
   ],
   "source": [
    "# 1부터 100까지의 수를 리스트로 만든 후 5*4*5 의 배열로 변경\n",
    "arr = np.array(list(range(1,101))).reshape(5,4,5)\n",
    "arr\n",
    "arr.flatten() #평탄화(1차원으로 변경)"
   ]
  },
  {
   "cell_type": "code",
   "execution_count": 21,
   "id": "7ec27d0e",
   "metadata": {},
   "outputs": [
    {
     "data": {
      "text/plain": [
       "3"
      ]
     },
     "execution_count": 21,
     "metadata": {},
     "output_type": "execute_result"
    }
   ],
   "source": [
    "arr.ndim #차원 알아보기"
   ]
  },
  {
   "cell_type": "code",
   "execution_count": 22,
   "id": "84e6e174",
   "metadata": {
    "scrolled": true
   },
   "outputs": [
    {
     "data": {
      "text/plain": [
       "array([  1,   2,   3,   4,   5,   6,   7,   8,   9,  10,  11,  12,  13,\n",
       "        14,  15,  16,  17,  18,  19,  20,  21,  22,  23,  24,  25,  26,\n",
       "        27,  28,  29,  30,  31,  32,  33,  34,  35,  36,  37,  38,  39,\n",
       "        40,  41,  42,  43,  44,  45,  46,  47,  48,  49,  50,  51,  52,\n",
       "        53,  54,  55,  56,  57,  58,  59,  60,  61,  62,  63,  64,  65,\n",
       "        66,  67,  68,  69,  70,  71,  72,  73,  74,  75,  76,  77,  78,\n",
       "        79,  80,  81,  82,  83,  84,  85,  86,  87,  88,  89,  90,  91,\n",
       "        92,  93,  94,  95,  96,  97,  98,  99, 100])"
      ]
     },
     "execution_count": 22,
     "metadata": {},
     "output_type": "execute_result"
    }
   ],
   "source": [
    "arr.reshape(5*4*5)"
   ]
  },
  {
   "cell_type": "code",
   "execution_count": 5,
   "id": "81abb239",
   "metadata": {},
   "outputs": [
    {
     "ename": "TypeError",
     "evalue": "Cannot interpret '3' as a data type",
     "output_type": "error",
     "traceback": [
      "\u001b[1;31m---------------------------------------------------------------------------\u001b[0m",
      "\u001b[1;31mTypeError\u001b[0m                                 Traceback (most recent call last)",
      "\u001b[1;32m~\\AppData\\Local\\Temp/ipykernel_14856/1455579589.py\u001b[0m in \u001b[0;36m<module>\u001b[1;34m\u001b[0m\n\u001b[0;32m      2\u001b[0m \u001b[1;31m# 초기값을 0로\u001b[0m\u001b[1;33m\u001b[0m\u001b[1;33m\u001b[0m\u001b[0m\n\u001b[0;32m      3\u001b[0m \u001b[0mnp\u001b[0m\u001b[1;33m.\u001b[0m\u001b[0mzeros\u001b[0m\u001b[1;33m(\u001b[0m\u001b[1;36m5\u001b[0m\u001b[1;33m)\u001b[0m \u001b[1;31m#1차원 배열 5인 ->초기값이 0\u001b[0m\u001b[1;33m\u001b[0m\u001b[1;33m\u001b[0m\u001b[0m\n\u001b[1;32m----> 4\u001b[1;33m \u001b[0mnp\u001b[0m\u001b[1;33m.\u001b[0m\u001b[0mzeros\u001b[0m\u001b[1;33m(\u001b[0m\u001b[1;36m2\u001b[0m\u001b[1;33m,\u001b[0m\u001b[1;36m3\u001b[0m\u001b[1;33m,\u001b[0m\u001b[1;36m5\u001b[0m\u001b[1;33m)\u001b[0m\u001b[1;31m#배열의 차원은 tuple로\u001b[0m\u001b[1;33m\u001b[0m\u001b[1;33m\u001b[0m\u001b[0m\n\u001b[0m\u001b[0;32m      5\u001b[0m \u001b[0mnp\u001b[0m\u001b[1;33m.\u001b[0m\u001b[0mzeros\u001b[0m\u001b[1;33m(\u001b[0m\u001b[1;33m(\u001b[0m\u001b[1;36m5\u001b[0m\u001b[1;33m,\u001b[0m\u001b[1;36m2\u001b[0m\u001b[1;33m)\u001b[0m\u001b[1;33m,\u001b[0m \u001b[0mdtype\u001b[0m\u001b[1;33m=\u001b[0m\u001b[1;34m\"i\"\u001b[0m\u001b[1;33m)\u001b[0m \u001b[1;31m#값을 정수형으로 사이즈는 32bit\u001b[0m\u001b[1;33m\u001b[0m\u001b[1;33m\u001b[0m\u001b[0m\n\u001b[0;32m      6\u001b[0m \u001b[0mnp\u001b[0m\u001b[1;33m.\u001b[0m\u001b[0mzeros\u001b[0m\u001b[1;33m(\u001b[0m\u001b[1;36m5\u001b[0m\u001b[1;33m,\u001b[0m\u001b[0mdtype\u001b[0m\u001b[1;33m=\u001b[0m\u001b[1;34m\"U4\"\u001b[0m\u001b[1;33m)\u001b[0m \u001b[1;31m#값의 형식이 문자, null이 초기화 됨\u001b[0m\u001b[1;33m\u001b[0m\u001b[1;33m\u001b[0m\u001b[0m\n",
      "\u001b[1;31mTypeError\u001b[0m: Cannot interpret '3' as a data type"
     ]
    }
   ],
   "source": [
    "# 초기값을 부여하면서 배열 생성하기\n",
    "# 초기값을 0로\n",
    "np.zeros(5) #1차원 배열 5인 ->초기값이 0\n",
    "np.zeros(2,3,5)#배열의 차원은 tuple로\n",
    "np.zeros((5,2), dtype=\"i\") #값을 정수형으로 사이즈는 32bit\n",
    "np.zeros(5,dtype=\"U4\") #값의 형식이 문자, null이 초기화 됨\n",
    "np.zeros(5,dtype='i8') #64bit\n",
    "np.zeros(5,dtype='f') #float 32\n",
    "np.ones(5,dtype='f') #float 32, 1로 초기화\n",
    "no.ones_like(np.zeros((5,2),dtype=\"i\",dtype=\"f\"))\n",
    "np.empty(4,3)\n"
   ]
  },
  {
   "cell_type": "code",
   "execution_count": null,
   "id": "44a9cd38",
   "metadata": {},
   "outputs": [],
   "source": []
  },
  {
   "cell_type": "code",
   "execution_count": 6,
   "id": "841e5cb7",
   "metadata": {},
   "outputs": [
    {
     "ename": "NameError",
     "evalue": "name 'x1' is not defined",
     "output_type": "error",
     "traceback": [
      "\u001b[1;31m---------------------------------------------------------------------------\u001b[0m",
      "\u001b[1;31mNameError\u001b[0m                                 Traceback (most recent call last)",
      "\u001b[1;32m~\\AppData\\Local\\Temp/ipykernel_14856/1424657705.py\u001b[0m in \u001b[0;36m<module>\u001b[1;34m\u001b[0m\n\u001b[1;32m----> 1\u001b[1;33m \u001b[0mprint\u001b[0m\u001b[1;33m(\u001b[0m\u001b[0mx1\u001b[0m\u001b[1;33m+\u001b[0m\u001b[0my1\u001b[0m\u001b[1;33m)\u001b[0m\u001b[1;33m\u001b[0m\u001b[1;33m\u001b[0m\u001b[0m\n\u001b[0m\u001b[0;32m      2\u001b[0m \u001b[0mprint\u001b[0m\u001b[1;33m(\u001b[0m\u001b[0mx1\u001b[0m\u001b[1;33m+\u001b[0m\u001b[0my1\u001b[0m\u001b[1;33m)\u001b[0m\u001b[1;33m\u001b[0m\u001b[1;33m\u001b[0m\u001b[0m\n\u001b[0;32m      3\u001b[0m \u001b[0mprint\u001b[0m\u001b[1;33m(\u001b[0m\u001b[0mx1\u001b[0m\u001b[1;33m*\u001b[0m\u001b[0my1\u001b[0m\u001b[1;33m)\u001b[0m\u001b[1;33m\u001b[0m\u001b[1;33m\u001b[0m\u001b[0m\n",
      "\u001b[1;31mNameError\u001b[0m: name 'x1' is not defined"
     ]
    }
   ],
   "source": [
    "print(x1+y1)\n",
    "print(x1+y1)\n",
    "print(x1*y1)\n"
   ]
  },
  {
   "cell_type": "code",
   "execution_count": 7,
   "id": "a1bcaa3a",
   "metadata": {},
   "outputs": [
    {
     "ename": "NameError",
     "evalue": "name 'x2' is not defined",
     "output_type": "error",
     "traceback": [
      "\u001b[1;31m---------------------------------------------------------------------------\u001b[0m",
      "\u001b[1;31mNameError\u001b[0m                                 Traceback (most recent call last)",
      "\u001b[1;32m~\\AppData\\Local\\Temp/ipykernel_14856/207296731.py\u001b[0m in \u001b[0;36m<module>\u001b[1;34m\u001b[0m\n\u001b[1;32m----> 1\u001b[1;33m \u001b[0mprint\u001b[0m\u001b[1;33m(\u001b[0m\u001b[0mx2\u001b[0m \u001b[1;33m+\u001b[0m \u001b[0mz1\u001b[0m\u001b[1;33m)\u001b[0m\u001b[1;33m\u001b[0m\u001b[1;33m\u001b[0m\u001b[0m\n\u001b[0m\u001b[0;32m      2\u001b[0m \u001b[0mprint\u001b[0m\u001b[1;33m(\u001b[0m\u001b[0mx1\u001b[0m \u001b[1;33m**\u001b[0m \u001b[1;36m2\u001b[0m\u001b[1;33m)\u001b[0m\u001b[1;33m\u001b[0m\u001b[1;33m\u001b[0m\u001b[0m\n\u001b[0;32m      3\u001b[0m \u001b[0mprint\u001b[0m\u001b[1;33m(\u001b[0m\u001b[0mx1\u001b[0m \u001b[1;33m>=\u001b[0m \u001b[1;36m2\u001b[0m\u001b[1;33m)\u001b[0m\u001b[1;33m\u001b[0m\u001b[1;33m\u001b[0m\u001b[0m\n",
      "\u001b[1;31mNameError\u001b[0m: name 'x2' is not defined"
     ]
    }
   ],
   "source": [
    "print(x2 + z1)\n",
    "print(x1 ** 2)\n",
    "print(x1 >= 2)"
   ]
  },
  {
   "cell_type": "code",
   "execution_count": 8,
   "id": "8d531b0d",
   "metadata": {},
   "outputs": [
    {
     "ename": "SyntaxError",
     "evalue": "invalid syntax (Temp/ipykernel_14856/2337244425.py, line 2)",
     "output_type": "error",
     "traceback": [
      "\u001b[1;36m  File \u001b[1;32m\"C:\\Users\\wpgud\\AppData\\Local\\Temp/ipykernel_14856/2337244425.py\"\u001b[1;36m, line \u001b[1;32m2\u001b[0m\n\u001b[1;33m    x2.flatten{}\u001b[0m\n\u001b[1;37m              ^\u001b[0m\n\u001b[1;31mSyntaxError\u001b[0m\u001b[1;31m:\u001b[0m invalid syntax\n"
     ]
    }
   ],
   "source": [
    "print(x2.ndim,x2)\n",
    "x2.flatten{}"
   ]
  },
  {
   "cell_type": "code",
   "execution_count": 9,
   "id": "1a18edc9",
   "metadata": {},
   "outputs": [
    {
     "name": "stdout",
     "output_type": "stream",
     "text": [
      "[ 0  1  4  9 16 25 36 49 64 81]\n",
      "4\n",
      "[ 9 16 25 36]\n",
      "[ 0  4 16 36 64]\n",
      "[81 64 49 36 25 16  9  4  1  0]\n",
      "0\n",
      "1\n",
      "4\n",
      "9\n",
      "16\n",
      "25\n",
      "36\n",
      "49\n",
      "64\n",
      "81\n"
     ]
    }
   ],
   "source": [
    "arr = np.arange(10) ** 2\n",
    "print(arr)\n",
    "print(arr[2])\n",
    "print(arr[3:7])\n",
    "print(arr[0:-1:2])\n",
    "print(arr[::-1])\n",
    "for data in arr:\n",
    "    print(data)\n"
   ]
  },
  {
   "cell_type": "code",
   "execution_count": 14,
   "id": "387fafbc",
   "metadata": {},
   "outputs": [
    {
     "name": "stdout",
     "output_type": "stream",
     "text": [
      "[[ 1  2  3  4]\n",
      " [ 5  6  7  8]\n",
      " [ 9 10 11 12]\n",
      " [13 14 15 16]\n",
      " [17 18 19 20]]\n",
      "6 15 [ 6 15]\n",
      "[[ 5  6  7  8]\n",
      " [ 9 10 11 12]]\n",
      "[ 4  8 12 16 20]\n",
      "[[ 1  2  3  4]\n",
      " [-5 -6 -7 -8]\n",
      " [ 9 10 11 12]\n",
      " [13 14 15 16]\n",
      " [17 18 19 20]]\n"
     ]
    }
   ],
   "source": [
    "arr = np.arange(1,20+1,1).reshape(5,4)\n",
    "print(arr)\n",
    "print(arr[1,1], arr[3,2], arr[[1,3],[1,2]])\n",
    "#        행,열     행,열      행s  , 열s\n",
    "print(arr[1:3, :])\n",
    "print(arr[:, -1])\n",
    "arr[1,:] *= -1\n",
    "print(arr)\n"
   ]
  },
  {
   "cell_type": "code",
   "execution_count": 17,
   "id": "a641a53f",
   "metadata": {},
   "outputs": [
    {
     "name": "stderr",
     "output_type": "stream",
     "text": [
      "C:\\Users\\wpgud\\AppData\\Local\\Temp/ipykernel_14856/103171832.py:3: RuntimeWarning: divide by zero encountered in log\n",
      "  np.log(np.arange(0.0,1,0.05))\n"
     ]
    },
    {
     "data": {
      "text/plain": [
       "array([       -inf, -2.99573227, -2.30258509, -1.89711998, -1.60943791,\n",
       "       -1.38629436, -1.2039728 , -1.04982212, -0.91629073, -0.7985077 ,\n",
       "       -0.69314718, -0.597837  , -0.51082562, -0.43078292, -0.35667494,\n",
       "       -0.28768207, -0.22314355, -0.16251893, -0.10536052, -0.05129329])"
      ]
     },
     "execution_count": 17,
     "metadata": {},
     "output_type": "execute_result"
    }
   ],
   "source": [
    "# np의 일반함수 : np.arange(), np.sin(a)\n",
    "np.sin(arr)\n",
    "np.log(np.arange(0.0,1,0.05))"
   ]
  },
  {
   "cell_type": "code",
   "execution_count": 23,
   "id": "a0cfe6b3",
   "metadata": {},
   "outputs": [
    {
     "name": "stdout",
     "output_type": "stream",
     "text": [
      "[3 7 5]\n",
      "[1 4 3]\n",
      "11\n",
      "1\n",
      "0\n"
     ]
    }
   ],
   "source": [
    "# maximum, minimum, sum, argmax\n",
    "a1 = np.array([1,7,3])\n",
    "a2 = np.array([3,4,5])\n",
    "print(np.maximum(a1,a2))\n",
    "print(np.minimum(a1,a2))\n",
    "print(np.sum(a1))\n",
    "print(np.argmax(a1)) # max값이 위치한 위치 반환\n",
    "print(np.argmin(a2)) # min값이 위치한 위치 반환"
   ]
  },
  {
   "cell_type": "markdown",
   "id": "2f070209",
   "metadata": {},
   "source": [
    "# random 함수"
   ]
  },
  {
   "cell_type": "code",
   "execution_count": 25,
   "id": "eaf6440f",
   "metadata": {},
   "outputs": [
    {
     "data": {
      "text/plain": [
       "array([[-0.19908439, -0.07804325,  0.43398609],\n",
       "       [-0.49764631, -1.07672068, -0.56992347]])"
      ]
     },
     "execution_count": 25,
     "metadata": {},
     "output_type": "execute_result"
    }
   ],
   "source": [
    "np.random.seed(0)\n",
    "np.random.choice(100,5) # 0~100 사이의 수 중에서 5개 선택\n",
    "np.random.rand(2,3) # 0에서 1 사이의 수를 2*3으로 선택 (총 6개의 수)\n",
    "np.random.randn(2,3) # -무한대에서 +무한대 사이의 수를 표준정규분포 형태로 랜덤 추출"
   ]
  },
  {
   "cell_type": "code",
   "execution_count": 26,
   "id": "bc8d756a",
   "metadata": {},
   "outputs": [
    {
     "data": {
      "text/plain": [
       "array([2, 0, 1], dtype=int64)"
      ]
     },
     "execution_count": 26,
     "metadata": {},
     "output_type": "execute_result"
    }
   ],
   "source": [
    "a = np.array([[0.1,0.8,0.2],[0.3,0.2,0.5],[0.9,0.5,0.3]])\n",
    "np.argmax(a, axis =0)"
   ]
  },
  {
   "cell_type": "code",
   "execution_count": 29,
   "id": "de6a4a61",
   "metadata": {},
   "outputs": [
    {
     "name": "stdout",
     "output_type": "stream",
     "text": [
      "26 4.8076923076923075\n",
      "5.0 115.23224852071006 10.734628476137871 23\n",
      "-24 0.0 10.0 23.0\n"
     ]
    }
   ],
   "source": [
    "# 통계함수 : count(), mean(), median(), var(), std(), max(), min(), percentile()\n",
    "x = np.array([18,   5,  10,  23,  19,  -8,  10,   0,   0,   5,   2,  15,   8,\n",
    "              2,   5,   4,  15,  -1,   4,  -7, -24,   7,   9,  -6,  23, -13])\n",
    "print(len(x),np.mean(x)) # 개수, 평균\n",
    "print(np.median(x), np.var(x), np.std(x), np.max(x))\n",
    "print(np.min(x), np.percentile(x, 25),np.percentile(x, 75),np.percentile(x, 100))"
   ]
  },
  {
   "cell_type": "code",
   "execution_count": 30,
   "id": "4b28b803",
   "metadata": {},
   "outputs": [
    {
     "data": {
      "text/plain": [
       "array([3, 0, 2, 2, 3, 3, 2, 2, 3, 3])"
      ]
     },
     "execution_count": 30,
     "metadata": {},
     "output_type": "execute_result"
    }
   ],
   "source": [
    "np.random.choice(10,5, replace=False) #중복 안됨, replace=True는 중복가능\n",
    "np.random.choice(5,10, p=[0.1,0,0.3,0.6,0]) # 0,1,2,3,4에 대한 확률을 p에 입력\n"
   ]
  },
  {
   "cell_type": "code",
   "execution_count": 31,
   "id": "98d66818",
   "metadata": {},
   "outputs": [
    {
     "data": {
      "text/plain": [
       "array([ 18,   5,  10,  23,  19,  -8,  10,   0,   0,   5,   2,  15,   8,\n",
       "         2,   5,   4,  15,  -1,   4,  -7, -24,   7,   9,  -6,  23, -13])"
      ]
     },
     "execution_count": 31,
     "metadata": {},
     "output_type": "execute_result"
    }
   ],
   "source": [
    "x"
   ]
  },
  {
   "cell_type": "code",
   "execution_count": 33,
   "id": "e6703f8e",
   "metadata": {},
   "outputs": [
    {
     "data": {
      "text/plain": [
       "array([ -6,   5,   2,  23,  23,   7,  15,  -8,   5,   0,  15,   0,  10,\n",
       "         9,  19, -13,   8, -24,   5,  18,  -7,  10,   4,   2,  -1,   4])"
      ]
     },
     "execution_count": 33,
     "metadata": {},
     "output_type": "execute_result"
    }
   ],
   "source": [
    "np.random.shuffle(x)  #배열 재조합\n",
    "x"
   ]
  },
  {
   "cell_type": "code",
   "execution_count": 34,
   "id": "109d3ea4",
   "metadata": {},
   "outputs": [
    {
     "data": {
      "text/plain": [
       "array([ 19,  18, -13,   7, -24])"
      ]
     },
     "execution_count": 34,
     "metadata": {},
     "output_type": "execute_result"
    }
   ],
   "source": [
    "np.random.choice(x,5, replace=False)"
   ]
  },
  {
   "cell_type": "code",
   "execution_count": 104,
   "id": "85e4f34a",
   "metadata": {},
   "outputs": [
    {
     "data": {
      "text/plain": [
       "array([[12, 17, 22, 29, 18],\n",
       "       [17, 14, 20, 25, 16],\n",
       "       [27, 10, 17, 17, 19]])"
      ]
     },
     "execution_count": 104,
     "metadata": {},
     "output_type": "execute_result"
    }
   ],
   "source": [
    "# np.random.randint(low, high=None, size = None)\n",
    "np.random.randint(10,size=10)\n",
    "np.random.randint(10,30,size=10) #10은 나오고 30은 안나옴\n",
    "np.random.randint(10,30,size=(3,5))"
   ]
  },
  {
   "cell_type": "code",
   "execution_count": 98,
   "id": "4459004e",
   "metadata": {},
   "outputs": [
    {
     "name": "stdout",
     "output_type": "stream",
     "text": [
      "[3, 6, 9, 12, 15, 18]\n",
      "[1, 5, 9, 13, 17]\n",
      "[9]\n"
     ]
    }
   ],
   "source": [
    "# 다음 행렬과 같은 배열이 있다.\n",
    "x = np.array([1, 2, 3, 4, 5, 6, 7, 8, 9, 10, 11, 12,13, 14, 15, 16, 17, 18, 19, 20])\n",
    "\n",
    "# 이 배열에서 3의 배수를 찾아라.\n",
    "# 이 배열에서 4로 나누면 1이 남는 수를 찾아라.\n",
    "# 이 배열에서 3으로 나누면 나누어지고 4로 나누면 1이 남는 수를 찾아라.\n",
    "print(list(filter(lambda y:y%3==0,x)))\n",
    "print(list(filter(lambda y:y%4==1,x)))\n",
    "print(list(filter(lambda y:(y%3==0) & (y%4==1),x)))"
   ]
  },
  {
   "cell_type": "code",
   "execution_count": null,
   "id": "6a5110db",
   "metadata": {},
   "outputs": [],
   "source": []
  }
 ],
 "metadata": {
  "kernelspec": {
   "display_name": "Python 3 (ipykernel)",
   "language": "python",
   "name": "python3"
  },
  "language_info": {
   "codemirror_mode": {
    "name": "ipython",
    "version": 3
   },
   "file_extension": ".py",
   "mimetype": "text/x-python",
   "name": "python",
   "nbconvert_exporter": "python",
   "pygments_lexer": "ipython3",
   "version": "3.9.7"
  }
 },
 "nbformat": 4,
 "nbformat_minor": 5
}
