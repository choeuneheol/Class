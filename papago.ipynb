{
 "cells": [
  {
   "cell_type": "code",
   "execution_count": 1,
   "id": "f59ad3f7",
   "metadata": {},
   "outputs": [],
   "source": [
    "# api를 활용한 자료 검색->네이버의 파파고를 활용하여 번역 프로그램 작성\n",
    "import requests"
   ]
  },
  {
   "cell_type": "code",
   "execution_count": 2,
   "id": "15db5eb3",
   "metadata": {},
   "outputs": [],
   "source": [
    "text='''Yesterday\n",
    "All my troubles seemed so far away\n",
    "Now it looks as though they're here to stay\n",
    "Oh, I believe in yesterday\n",
    "Suddenly\n",
    "I'm not half the man I used to be\n",
    "There's a shadow hanging over me\n",
    "Oh, yesterday came suddenly\n",
    "Why she had to go, I don't know\n",
    "She wouldn't say\n",
    "I said something wrong\n",
    "Now I long for yesterday\n",
    "Yesterday\n",
    "Love was such an easy game to play\n",
    "Now I need a place to hide away\n",
    "Oh, I believe in yesterday\n",
    "Why she'''"
   ]
  },
  {
   "cell_type": "code",
   "execution_count": 8,
   "id": "3f4f97cb",
   "metadata": {},
   "outputs": [],
   "source": [
    "url = 'https://openapi.naver.com/v1/papago/n2mt'\n",
    "headers = {\n",
    "    'X-Naver-Client-Id': 'uk1wzaZHFqP7vwZ_cCkQ',\n",
    "    'X-Naver-Client-Secret': 'gKPa9ckpV3'\n",
    "}\n",
    "params = {\"source\":'en','target':'ko','text':text}"
   ]
  },
  {
   "cell_type": "code",
   "execution_count": 10,
   "id": "6d6875fa",
   "metadata": {},
   "outputs": [
    {
     "name": "stdout",
     "output_type": "stream",
     "text": [
      "어제,\n",
      "내 모든 시름들이 멀리 사라져버린듯 했다\n",
      "이제 그들은 여기에 머물기 위해 온 것 같다.\n",
      "오, 나는 어제를 다시 그리게 돼.\n",
      "갑자기\n",
      "예전의 나의 반도 안 되는구나.\n",
      "그림자가 내 몸에 드리워\n",
      "아, 어제가 갑자기 왔구나.\n",
      "잘 모르겠는데요.\n",
      "말 안 해줬어\n",
      "내가 잘못 말했다.\n",
      "이제 나는 어제가 그립다.\n",
      "어제,\n",
      "사랑은 정말 하기 쉬운 게임이었다.\n",
      "이제 난 숨을 곳이 필요해\n",
      "오, 나는 어제를 다시 그리게 돼.\n",
      "왜 그녀는\n"
     ]
    }
   ],
   "source": [
    "# .posst(\n",
    "response = requests.post(url, headers=headers, data = params)\n",
    "response.text\n",
    "# str을 json 형식으로 변경 -> 딕셔너리와 유사, 같은 방법으로 처리\n",
    "result = response.json()\n",
    "target = result[\"message\"][\"result\"][\"translatedText\"]\n",
    "print(target)"
   ]
  },
  {
   "cell_type": "code",
   "execution_count": null,
   "id": "ac29e298",
   "metadata": {},
   "outputs": [],
   "source": []
  }
 ],
 "metadata": {
  "kernelspec": {
   "display_name": "Python 3 (ipykernel)",
   "language": "python",
   "name": "python3"
  },
  "language_info": {
   "codemirror_mode": {
    "name": "ipython",
    "version": 3
   },
   "file_extension": ".py",
   "mimetype": "text/x-python",
   "name": "python",
   "nbconvert_exporter": "python",
   "pygments_lexer": "ipython3",
   "version": "3.9.7"
  }
 },
 "nbformat": 4,
 "nbformat_minor": 5
}
