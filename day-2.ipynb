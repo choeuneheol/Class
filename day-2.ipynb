{
 "cells": [
  {
   "cell_type": "code",
   "execution_count": 6,
   "id": "d60e2b6f",
   "metadata": {},
   "outputs": [
    {
     "name": "stdout",
     "output_type": "stream",
     "text": [
      "문자 입력 >Test\n",
      "입력받은 문자 : Test\n",
      "소문자로 변경 : test\n",
      "대문자로 변경 : TEST\n"
     ]
    }
   ],
   "source": [
    "# 키보드에서 문자를 입력받아 출력 하세요.\n",
    "input_str = input(\"문자 입력 >\")\n",
    "# print(input_str)\n",
    "print(\"입력받은 문자 : {}\\n소문자로 변경 : {}\\n대문자로 변경 : {}\"\\\n",
    "      .format(input_str, input_str.lower(), input_str.upper()))"
   ]
  },
  {
   "cell_type": "code",
   "execution_count": 8,
   "id": "4eb8565f",
   "metadata": {},
   "outputs": [
    {
     "name": "stdout",
     "output_type": "stream",
     "text": [
      "양측 공백 제거 : /test 1234 abcd/\n",
      "우측 공백 제거 : /   test 1234 abcd/\n",
      "좌측 공백 제거 : /test 1234 abcd    /\n"
     ]
    }
   ],
   "source": [
    "# 문자열의 함수 strip(), lstrip(), rstrip() -> 공백 제거\n",
    "a_str = \"   test 1234 abcd    \"\n",
    "print(\"양측 공백 제거 : /{}/\\n우측 공백 제거 : /{}/\\n좌측 공백 제거 : /{}/\"\\\n",
    "     .format(a_str.strip(), a_str.rstrip(), a_str.lstrip()))"
   ]
  },
  {
   "cell_type": "code",
   "execution_count": 13,
   "id": "b25d7be0",
   "metadata": {},
   "outputs": [
    {
     "data": {
      "text/plain": [
       "True"
      ]
     },
     "execution_count": 13,
     "metadata": {},
     "output_type": "execute_result"
    }
   ],
   "source": [
    "# 문자열의 구성 파악하기 : .isOOO()\n",
    "a_str[:3].isspace()"
   ]
  },
  {
   "cell_type": "code",
   "execution_count": 18,
   "id": "0251e20b",
   "metadata": {},
   "outputs": [
    {
     "name": "stdout",
     "output_type": "stream",
     "text": [
      "3\n",
      "5\n"
     ]
    },
    {
     "data": {
      "text/plain": [
       "'test 12'"
      ]
     },
     "execution_count": 18,
     "metadata": {},
     "output_type": "execute_result"
    }
   ],
   "source": [
    "# find(문자), rfind(문자), -> 처음 나오는 문자의 인덱스 변환,rfind는 우측부터/\n",
    "# 찾아서 처음나온 문자\n",
    "# 문자에는 문자열이 들어가야함, 숫자 안됨\n",
    "print(a_str.find(\"te\"))\n",
    "print(a_str.find(\"st\"))\n",
    "a_str[a_str.find(\"t\"):a_str.find(\"3\")]"
   ]
  },
  {
   "cell_type": "code",
   "execution_count": 19,
   "id": "47cb42f3",
   "metadata": {},
   "outputs": [
    {
     "name": "stdout",
     "output_type": "stream",
     "text": [
      "True\n",
      "False\n"
     ]
    }
   ],
   "source": [
    "# 문자열과 in 연산자 : 문자 in 문자여 -> 문자열에 해당 문자가 존재하면 True\n",
    "# in은 키워드임\n",
    "print(\"test\" in a_str)\n",
    "print(\"aa\" in a_str)"
   ]
  },
  {
   "cell_type": "code",
   "execution_count": 28,
   "id": "ad575b79",
   "metadata": {},
   "outputs": [
    {
     "name": "stdout",
     "output_type": "stream",
     "text": [
      "/10, 20, 30, 40, 50/\n",
      "/['10,', '20,', '30,', '40,', '50']/\n"
     ]
    },
    {
     "data": {
      "text/plain": [
       "['10', ' test', ' 30', ' 40', ' 50', ' True']"
      ]
     },
     "execution_count": 28,
     "metadata": {},
     "output_type": "execute_result"
    }
   ],
   "source": [
    "# split(구분자) -> 구분자를 기준으로 문자 나누기\n",
    "# 구분자가 없으면 공백을 기준으로 문자를 나눔\n",
    "a_str = \"10, 20, 30, 40, 50\"\n",
    "print(\"/{}/\\n/{}/\".format(a_str, a_str.split()))\n",
    "b_str = \"10, test, 30, 40, 50, True\"\n",
    "b_str.split(\",\")"
   ]
  },
  {
   "cell_type": "code",
   "execution_count": 23,
   "id": "3c534359",
   "metadata": {},
   "outputs": [
    {
     "data": {
      "text/plain": [
       "True"
      ]
     },
     "execution_count": 23,
     "metadata": {},
     "output_type": "execute_result"
    }
   ],
   "source": [
    "\"10\" in b_str.split(\",\")"
   ]
  },
  {
   "cell_type": "code",
   "execution_count": 24,
   "id": "0da854f6",
   "metadata": {},
   "outputs": [
    {
     "data": {
      "text/plain": [
       "False"
      ]
     },
     "execution_count": 24,
     "metadata": {},
     "output_type": "execute_result"
    }
   ],
   "source": [
    "\"1\" in b_str.split(\",\")"
   ]
  },
  {
   "cell_type": "code",
   "execution_count": 26,
   "id": "b614aa93",
   "metadata": {},
   "outputs": [
    {
     "name": "stdout",
     "output_type": "stream",
     "text": [
      "<class 'list'>\n",
      "[' 30', ' 40', ' 50']\n"
     ]
    },
    {
     "data": {
      "text/plain": [
       "['10', ' test', ' 30', ' 40', ' 50', ' True']"
      ]
     },
     "execution_count": 26,
     "metadata": {},
     "output_type": "execute_result"
    }
   ],
   "source": [
    "print(type(b_str.split(\",\")[2:-1]))\n",
    "print(b_str.split(\",\")[2:-1])\n",
    "b_str.split(\",\")"
   ]
  },
  {
   "cell_type": "code",
   "execution_count": 30,
   "id": "404660a9",
   "metadata": {},
   "outputs": [
    {
     "name": "stdout",
     "output_type": "stream",
     "text": [
      "True\n"
     ]
    }
   ],
   "source": [
    "# Boolean -> 연산자, and, or, not\n",
    "print(not False and True)"
   ]
  },
  {
   "cell_type": "code",
   "execution_count": null,
   "id": "47846675",
   "metadata": {},
   "outputs": [],
   "source": [
    "# if 조건 :\n",
    "#     실행문"
   ]
  },
  {
   "cell_type": "code",
   "execution_count": 34,
   "id": "47448315",
   "metadata": {},
   "outputs": [
    {
     "name": "stdout",
     "output_type": "stream",
     "text": [
      "숫자를 입력하시오.: 29\n",
      "100보다 작음\n"
     ]
    }
   ],
   "source": [
    "# 숫자를 키보드에서 입력받아 100보다 작으면 \"100보다 작음\"\n",
    "# 100보다 크면 \"100보다 큼\"으로 출력\n",
    "\n",
    "number = input(\"숫자를 입력하시오.: \")\n",
    "number = int(number)\n",
    "\n",
    "if number < 100:\n",
    "    print(\"100보다 작음\")\n",
    "if number > 100:\n",
    "    print(\"100보다 큼\")\n",
    "if number == 100:\n",
    "    print(\"100이랑 같음\")"
   ]
  },
  {
   "cell_type": "code",
   "execution_count": 35,
   "id": "8592cd1b",
   "metadata": {},
   "outputs": [
    {
     "name": "stdout",
     "output_type": "stream",
     "text": [
      "2022년 4월 29일 11시 7분 51초\n"
     ]
    }
   ],
   "source": [
    "# import 모듈\n",
    "# datetime.datetime.now() 함수 사용\n",
    "import datetime\n",
    "now = datetime.datetime.now()\n",
    "print(\"{}년 {}월 {}일 {}시 {}분 {}초\".format(\n",
    "now.year, now.month, now.day, now.hour, now.minute, now.second))"
   ]
  },
  {
   "cell_type": "code",
   "execution_count": 38,
   "id": "39f1d968",
   "metadata": {},
   "outputs": [
    {
     "name": "stdout",
     "output_type": "stream",
     "text": [
      "4월은 봄입니다.\n"
     ]
    }
   ],
   "source": [
    "# 계절 출력\n",
    "if now.month >=3 and now.month <=5:\n",
    "    print(\"{}월은 봄입니다.\".format(now.month))\n",
    "if now.month >=6 and now.month <=8:\n",
    "    print(\"{}월은 여름입니다.\".format(now.month))\n",
    "if now.month >=9 and now.month <=11:\n",
    "    print(\"{}월은 가을입니다.\".format(now.month))\n",
    "if now.month ==12 or now.month ==1 or now.month ==2:\n",
    "    print(\"{}월은 겨울입니다.\".format(now.month))\n",
    "# 아래처럼 표현할 수도 있음\n",
    "if now.month in [1,2,12]:\n",
    "    print(\"{}월은 겨울입니다.\".format(now.month))"
   ]
  },
  {
   "cell_type": "code",
   "execution_count": 43,
   "id": "1037d638",
   "metadata": {},
   "outputs": [
    {
     "name": "stdout",
     "output_type": "stream",
     "text": [
      "자연수를 입력하시오.: 1345\n",
      "입력된 숫자 1345는 홀수\n"
     ]
    }
   ],
   "source": [
    "# 숫자를 입력받아 숫자가 짝수이면 \"입력된 숫자 12는 짝수\"\n",
    "# 숫자를 입력받아 숫자가 홀수이면 \"입력된 숫자 12는 홀수\"\n",
    "\n",
    "num_a = input(\"자연수를 입력하시오.: \")\n",
    "num_a = int(num_a)\n",
    "\n",
    "if num_a % 2 == 0:\n",
    "    print(\"입력된 숫자 {}는 짝수\".format(num_a))\n",
    "if num_a % 2 == 1:\n",
    "    print(\"입력된 숫자 {}는 홀수\".format(num_a))\n"
   ]
  },
  {
   "cell_type": "code",
   "execution_count": 49,
   "id": "b677ee83",
   "metadata": {},
   "outputs": [
    {
     "name": "stdout",
     "output_type": "stream",
     "text": [
      "자연수를 입력하시오.: 2349\n",
      "입력된 숫자는 9로 끝나므로 홀수\n"
     ]
    }
   ],
   "source": [
    "# 표현되는 값이 어색함\n",
    "num_b = input(\"자연수를 입력하시오.: \")\n",
    "num_b = int(num_b[-1])\n",
    "   \n",
    "if num_b in [1,3,5,7,9]:\n",
    "    print(\"입력된 숫자는 {}로 끝나므로 홀수\".format(num_b))\n",
    "if num_b in [0,2,4,6,8]:\n",
    "    print(\"입력된 숫자는 {}로 끝나므로 짝수\".format(num_b))"
   ]
  },
  {
   "cell_type": "code",
   "execution_count": 47,
   "id": "64692058",
   "metadata": {},
   "outputs": [
    {
     "name": "stdout",
     "output_type": "stream",
     "text": [
      "자연수를 입력하시오.: 283\n",
      "입력된 숫자 283는 홀수\n"
     ]
    }
   ],
   "source": [
    "num_c = input(\"자연수를 입력하시오.: \")\n",
    "  \n",
    "if num_c[-1] in \"13579\":\n",
    "    print(\"입력된 숫자 {}는 홀수\".format(num_c))\n",
    "if num_c[-1] in \"02468\":\n",
    "    print(\"입력된 숫자 {}는 짝수\".format(num_c))"
   ]
  },
  {
   "cell_type": "code",
   "execution_count": 55,
   "id": "6b8f0ee6",
   "metadata": {},
   "outputs": [
    {
     "name": "stdout",
     "output_type": "stream",
     "text": [
      "값을 입력하시오.how\n",
      "입력한 how에 t가 존재하지 않습니다.\n"
     ]
    }
   ],
   "source": [
    "# 값을 입력받아 순자인지 확인후\n",
    "# 숫자이면 int형으로 형변환 후 3의 배수인지 확인\n",
    "# 문자이면 입력한 문자중에 \"t\"문자가 있는지 확인\n",
    "\n",
    "word = input(\"값을 입력하시오.\")\n",
    "\n",
    "if word.isnumeric():\n",
    "    if int(word) % 3 ==0:\n",
    "        print(\"입력한 {}은 3의 배수 입니다.\".format(word))\n",
    "    else:\n",
    "        print(\"입력한 {}은 3의 배수가 아닙니다.\".format(word))\n",
    "\n",
    "else:\n",
    "    if \"t\" in word:\n",
    "        print(\"입력한 {}에 t가 존재합니다.\".format(word))\n",
    "    else:\n",
    "        print(\"입력한 {}에 t가 존재하지 않습니다.\".format(word))\n",
    " \n"
   ]
  },
  {
   "cell_type": "code",
   "execution_count": 56,
   "id": "aaca8b4a",
   "metadata": {},
   "outputs": [
    {
     "name": "stdout",
     "output_type": "stream",
     "text": [
      "값을 입력하시오.24\n",
      "입력한 24은 3의 배수 입니다.\n"
     ]
    }
   ],
   "source": [
    "word = input(\"값을 입력하시오.\")\n",
    "\n",
    "if word.isnumeric():\n",
    "    if int(word) % 3 !=0:\n",
    "        print(\"입력한 {}은 3의 배수가 아닙니다.\".format(word))\n",
    "    else:\n",
    "        print(\"입력한 {}은 3의 배수 입니다.\".format(word))\n",
    "\n",
    "else:\n",
    "    if \"t\" in word:\n",
    "        print(\"입력한 {}에 t가 존재합니다.\".format(word))\n",
    "    else:\n",
    "        print(\"입력한 {}에 t가 존재하지 않습니다.\".format(word))"
   ]
  },
  {
   "cell_type": "code",
   "execution_count": 62,
   "id": "0791d0ae",
   "metadata": {},
   "outputs": [
    {
     "name": "stdout",
     "output_type": "stream",
     "text": [
      "숫자를 입력 하시오.3484.4\n",
      "숫자를 입력 하시오.23\n",
      "사칙연산 기호를 입력 하시오./\n",
      "3484.4 / 23 = 151.49565217391304\n"
     ]
    }
   ],
   "source": [
    "# 숫자 두개와 부호를 입력 받아\n",
    "# 1. 처음 숫자 입력\n",
    "# 2. 두 번째숫자 입력\n",
    "# 3. 부호 입력 (+,-,*,/가 아니면 '부호에러'출력)\n",
    "# 4. 각 부호에 맞는 계산식과 결과 출력\n",
    "a = input(\"숫자를 입력 하시오.\")\n",
    "b = input(\"숫자를 입력 하시오.\")\n",
    "c = input(\"사칙연산 기호를 입력 하시오.\")\n",
    "\n",
    "if c in \"+-/*\":\n",
    "    if c == \"+\":\n",
    "        print(\"{} {} {} = {}\".format(a, c, b,float(a)+float(b)))\n",
    "    if c == \"-\":\n",
    "        print(\"{} {} {} = {}\".format(a, c, b,float(a)-float(b)))\n",
    "    if c == \"*\":\n",
    "        print(\"{} {} {} = {}\".format(a, c, b,float(a)*float(b)))\n",
    "    if c == \"/\":\n",
    "        print(\"{} {} {} = {}\".format(a, c, b,float(a)/float(b)))\n",
    "else:\n",
    "    print(\"기호가 잘못되었습니다.\")"
   ]
  },
  {
   "cell_type": "code",
   "execution_count": 65,
   "id": "49eb1e01",
   "metadata": {},
   "outputs": [
    {
     "name": "stdout",
     "output_type": "stream",
     "text": [
      "숫자를 입력 하시오.54238.4\n",
      "숫자를 입력 하시오.2345\n",
      "사칙연산 기호를 입력 하시오./\n",
      "54238.4 / 2345 = 23.12938166311301\n"
     ]
    }
   ],
   "source": [
    "a = input(\"숫자를 입력 하시오.\")\n",
    "b = input(\"숫자를 입력 하시오.\")\n",
    "c = input(\"사칙연산 기호를 입력 하시오.\")\n",
    "\n",
    "na= float(a)\n",
    "nb= float(b)\n",
    "\n",
    "if c in \"+-/*\":\n",
    "    if c == \"+\":\n",
    "        result = na+nb\n",
    "    elif c == \"-\":\n",
    "        result = na-nb\n",
    "    elif c == \"*\":\n",
    "        result = na*nb\n",
    "    else:\n",
    "        result = na/nb\n",
    "    print(\"{} {} {} = {}\".format(a, c, b,result))\n",
    "else:\n",
    "    print(\"기호가 잘못되었습니다.\")"
   ]
  },
  {
   "cell_type": "code",
   "execution_count": 3,
   "id": "241d3e27",
   "metadata": {},
   "outputs": [
    {
     "name": "stdout",
     "output_type": "stream",
     "text": [
      "- 100 이상의 수: 273\n",
      "- 100 이상의 수: 103\n",
      "- 100 이상의 수: 350\n",
      "- 100 이상의 수: 556\n",
      "- 100 이상의 수: 100\n"
     ]
    }
   ],
   "source": [
    "numbers = [273, 103, 2,350,46,556,5,100]\n",
    "\n",
    "for number in numbers:\n",
    "    if number >= 100:\n",
    "        print(\"- 100 이상의 수:\",number)"
   ]
  },
  {
   "cell_type": "code",
   "execution_count": 4,
   "id": "11ddc835",
   "metadata": {},
   "outputs": [
    {
     "name": "stdout",
     "output_type": "stream",
     "text": [
      "273 는 홀수입니다.\n",
      "103 는 홀수입니다.\n",
      "5 는 홀수입니다.\n",
      "32 는 짝수입니다.\n",
      "65 는 홀수입니다.\n",
      "9 는 홀수입니다.\n",
      "72 는 짝수입니다.\n",
      "800 는 짝수입니다.\n",
      "99 는 홀수입니다.\n"
     ]
    }
   ],
   "source": [
    "numbers = [273, 103, 5, 32, 65, 9, 72, 800, 99]\n",
    "\n",
    "for number in numbers:\n",
    "    if number%2 ==1:\n",
    "        print(number,\"는 홀수입니다.\")\n",
    "    else:\n",
    "        print(number,\"는 짝수입니다.\")\n"
   ]
  },
  {
   "cell_type": "code",
   "execution_count": 5,
   "id": "d210e2fa",
   "metadata": {},
   "outputs": [
    {
     "name": "stdout",
     "output_type": "stream",
     "text": [
      "273 는 3 자릿수입니다.\n",
      "103 는 3 자릿수입니다.\n",
      "5 는 1 자릿수입니다.\n",
      "32 는 2 자릿수입니다.\n",
      "65 는 2 자릿수입니다.\n",
      "9 는 1 자릿수입니다.\n",
      "72 는 2 자릿수입니다.\n",
      "800 는 3 자릿수입니다.\n",
      "99 는 2 자릿수입니다.\n"
     ]
    }
   ],
   "source": [
    "numbers = [273, 103, 5, 32, 65, 9, 72, 800, 99]\n",
    "\n",
    "for number in numbers:\n",
    "    if number < 10:\n",
    "        print(number,\"는 1 자릿수입니다.\")\n",
    "    if 10 <=number < 100:\n",
    "        print(number,\"는 2 자릿수입니다.\")\n",
    "    if 100 <=number < 1000:\n",
    "        print(number,\"는 3 자릿수입니다.\")"
   ]
  },
  {
   "cell_type": "code",
   "execution_count": 9,
   "id": "b14aa5b1",
   "metadata": {},
   "outputs": [
    {
     "name": "stdout",
     "output_type": "stream",
     "text": [
      "계산식 입력 : (10 + 20 의 형태)10 \n",
      "다시 입력하시오.\n",
      "계산식 입력 : (10 + 20 의 형태)10 ( 20\n",
      "기호가 잘못되었습니다.\n"
     ]
    },
    {
     "ename": "KeyboardInterrupt",
     "evalue": "Interrupted by user",
     "output_type": "error",
     "traceback": [
      "\u001b[1;31m---------------------------------------------------------------------------\u001b[0m",
      "\u001b[1;31mKeyboardInterrupt\u001b[0m                         Traceback (most recent call last)",
      "\u001b[1;32m~\\AppData\\Local\\Temp/ipykernel_2244/3340461692.py\u001b[0m in \u001b[0;36m<module>\u001b[1;34m\u001b[0m\n\u001b[0;32m      1\u001b[0m \u001b[1;32mwhile\u001b[0m \u001b[1;32mTrue\u001b[0m\u001b[1;33m:\u001b[0m\u001b[1;33m\u001b[0m\u001b[1;33m\u001b[0m\u001b[0m\n\u001b[1;32m----> 2\u001b[1;33m     \u001b[0minput_data\u001b[0m \u001b[1;33m=\u001b[0m \u001b[0minput\u001b[0m\u001b[1;33m(\u001b[0m\u001b[1;34m\"계산식 입력 : (10 + 20 의 형태)\"\u001b[0m\u001b[1;33m)\u001b[0m\u001b[1;33m.\u001b[0m\u001b[0msplit\u001b[0m\u001b[1;33m(\u001b[0m\u001b[1;33m)\u001b[0m\u001b[1;33m\u001b[0m\u001b[1;33m\u001b[0m\u001b[0m\n\u001b[0m\u001b[0;32m      3\u001b[0m     \u001b[1;32mif\u001b[0m \u001b[0minput_data\u001b[0m\u001b[1;33m[\u001b[0m\u001b[1;36m0\u001b[0m\u001b[1;33m]\u001b[0m \u001b[1;33m==\u001b[0m \u001b[1;34m\"q\"\u001b[0m\u001b[1;33m:\u001b[0m\u001b[1;33m\u001b[0m\u001b[1;33m\u001b[0m\u001b[0m\n\u001b[0;32m      4\u001b[0m         \u001b[1;32mbreak\u001b[0m\u001b[1;33m\u001b[0m\u001b[1;33m\u001b[0m\u001b[0m\n\u001b[0;32m      5\u001b[0m     \u001b[1;32mif\u001b[0m \u001b[0mlen\u001b[0m\u001b[1;33m(\u001b[0m\u001b[0minput_data\u001b[0m\u001b[1;33m)\u001b[0m \u001b[1;33m!=\u001b[0m \u001b[1;36m3\u001b[0m\u001b[1;33m:\u001b[0m\u001b[1;33m\u001b[0m\u001b[1;33m\u001b[0m\u001b[0m\n",
      "\u001b[1;32mC:\\ProgramData\\Anaconda3\\lib\\site-packages\\ipykernel\\kernelbase.py\u001b[0m in \u001b[0;36mraw_input\u001b[1;34m(self, prompt)\u001b[0m\n\u001b[0;32m   1004\u001b[0m                 \u001b[1;34m\"raw_input was called, but this frontend does not support input requests.\"\u001b[0m\u001b[1;33m\u001b[0m\u001b[1;33m\u001b[0m\u001b[0m\n\u001b[0;32m   1005\u001b[0m             )\n\u001b[1;32m-> 1006\u001b[1;33m         return self._input_request(\n\u001b[0m\u001b[0;32m   1007\u001b[0m             \u001b[0mstr\u001b[0m\u001b[1;33m(\u001b[0m\u001b[0mprompt\u001b[0m\u001b[1;33m)\u001b[0m\u001b[1;33m,\u001b[0m\u001b[1;33m\u001b[0m\u001b[1;33m\u001b[0m\u001b[0m\n\u001b[0;32m   1008\u001b[0m             \u001b[0mself\u001b[0m\u001b[1;33m.\u001b[0m\u001b[0m_parent_ident\u001b[0m\u001b[1;33m[\u001b[0m\u001b[1;34m\"shell\"\u001b[0m\u001b[1;33m]\u001b[0m\u001b[1;33m,\u001b[0m\u001b[1;33m\u001b[0m\u001b[1;33m\u001b[0m\u001b[0m\n",
      "\u001b[1;32mC:\\ProgramData\\Anaconda3\\lib\\site-packages\\ipykernel\\kernelbase.py\u001b[0m in \u001b[0;36m_input_request\u001b[1;34m(self, prompt, ident, parent, password)\u001b[0m\n\u001b[0;32m   1049\u001b[0m             \u001b[1;32mexcept\u001b[0m \u001b[0mKeyboardInterrupt\u001b[0m\u001b[1;33m:\u001b[0m\u001b[1;33m\u001b[0m\u001b[1;33m\u001b[0m\u001b[0m\n\u001b[0;32m   1050\u001b[0m                 \u001b[1;31m# re-raise KeyboardInterrupt, to truncate traceback\u001b[0m\u001b[1;33m\u001b[0m\u001b[1;33m\u001b[0m\u001b[0m\n\u001b[1;32m-> 1051\u001b[1;33m                 \u001b[1;32mraise\u001b[0m \u001b[0mKeyboardInterrupt\u001b[0m\u001b[1;33m(\u001b[0m\u001b[1;34m\"Interrupted by user\"\u001b[0m\u001b[1;33m)\u001b[0m \u001b[1;32mfrom\u001b[0m \u001b[1;32mNone\u001b[0m\u001b[1;33m\u001b[0m\u001b[1;33m\u001b[0m\u001b[0m\n\u001b[0m\u001b[0;32m   1052\u001b[0m             \u001b[1;32mexcept\u001b[0m \u001b[0mException\u001b[0m\u001b[1;33m:\u001b[0m\u001b[1;33m\u001b[0m\u001b[1;33m\u001b[0m\u001b[0m\n\u001b[0;32m   1053\u001b[0m                 \u001b[0mself\u001b[0m\u001b[1;33m.\u001b[0m\u001b[0mlog\u001b[0m\u001b[1;33m.\u001b[0m\u001b[0mwarning\u001b[0m\u001b[1;33m(\u001b[0m\u001b[1;34m\"Invalid Message:\"\u001b[0m\u001b[1;33m,\u001b[0m \u001b[0mexc_info\u001b[0m\u001b[1;33m=\u001b[0m\u001b[1;32mTrue\u001b[0m\u001b[1;33m)\u001b[0m\u001b[1;33m\u001b[0m\u001b[1;33m\u001b[0m\u001b[0m\n",
      "\u001b[1;31mKeyboardInterrupt\u001b[0m: Interrupted by user"
     ]
    }
   ],
   "source": [
    "while True:\n",
    "    input_data = input(\"계산식 입력 : (10 + 20 의 형태)\").split()\n",
    "    if input_data[0] == \"q\":\n",
    "        break\n",
    "    if len(input_data) != 3:\n",
    "        print(\"다시 입력하시오.\")\n",
    "        continue\n",
    "    if not input_data[0].isnumeric() or not input_data[2].isnumeric():\n",
    "        print(\"다시 입력하시오.\")\n",
    "        continue\n",
    "    \n",
    "    num_1 = int(input_data[0])\n",
    "    num_2 = int(input_data[2])\n",
    "    buho = input_data[1]\n",
    "    \n",
    "    if buho in \"+-/*\":\n",
    "        if buho == \"+\":\n",
    "            result = num_1+num_2\n",
    "        elif buho == \"-\":\n",
    "            result = num_1-num_2\n",
    "        elif buho == \"*\":\n",
    "            result = num_1*num_2\n",
    "        else:\n",
    "            result = num_1/num_2\n",
    "        print(\"{} {} {} = {}\".format(num_1, buho, num_2,result))\n",
    "    else:\n",
    "        print(\"기호가 잘못되었습니다.\")"
   ]
  },
  {
   "cell_type": "code",
   "execution_count": 17,
   "id": "7bb20147",
   "metadata": {},
   "outputs": [
    {
     "name": "stdout",
     "output_type": "stream",
     "text": [
      "2 * 1 = 2\n",
      "2 * 2 = 4\n",
      "2 * 3 = 6\n",
      "2 * 4 = 8\n",
      "2 * 5 = 10\n",
      "2 * 6 = 12\n",
      "2 * 7 = 14\n",
      "2 * 8 = 16\n",
      "2 * 9 = 18\n",
      "\n",
      "3 * 1 = 3\n",
      "3 * 2 = 6\n",
      "3 * 3 = 9\n",
      "3 * 4 = 12\n",
      "3 * 5 = 15\n",
      "3 * 6 = 18\n",
      "3 * 7 = 21\n",
      "3 * 8 = 24\n",
      "3 * 9 = 27\n",
      "\n",
      "4 * 1 = 4\n",
      "4 * 2 = 8\n",
      "4 * 3 = 12\n",
      "4 * 4 = 16\n",
      "4 * 5 = 20\n",
      "4 * 6 = 24\n",
      "4 * 7 = 28\n",
      "4 * 8 = 32\n",
      "4 * 9 = 36\n",
      "\n",
      "5 * 1 = 5\n",
      "5 * 2 = 10\n",
      "5 * 3 = 15\n",
      "5 * 4 = 20\n",
      "5 * 5 = 25\n",
      "5 * 6 = 30\n",
      "5 * 7 = 35\n",
      "5 * 8 = 40\n",
      "5 * 9 = 45\n",
      "\n",
      "6 * 1 = 6\n",
      "6 * 2 = 12\n",
      "6 * 3 = 18\n",
      "6 * 4 = 24\n",
      "6 * 5 = 30\n",
      "6 * 6 = 36\n",
      "6 * 7 = 42\n",
      "6 * 8 = 48\n",
      "6 * 9 = 54\n",
      "\n",
      "7 * 1 = 7\n",
      "7 * 2 = 14\n",
      "7 * 3 = 21\n",
      "7 * 4 = 28\n",
      "7 * 5 = 35\n",
      "7 * 6 = 42\n",
      "7 * 7 = 49\n",
      "7 * 8 = 56\n",
      "7 * 9 = 63\n",
      "\n",
      "8 * 1 = 8\n",
      "8 * 2 = 16\n",
      "8 * 3 = 24\n",
      "8 * 4 = 32\n",
      "8 * 5 = 40\n",
      "8 * 6 = 48\n",
      "8 * 7 = 56\n",
      "8 * 8 = 64\n",
      "8 * 9 = 72\n",
      "\n",
      "9 * 1 = 9\n",
      "9 * 2 = 18\n",
      "9 * 3 = 27\n",
      "9 * 4 = 36\n",
      "9 * 5 = 45\n",
      "9 * 6 = 54\n",
      "9 * 7 = 63\n",
      "9 * 8 = 72\n",
      "9 * 9 = 81\n",
      "\n"
     ]
    }
   ],
   "source": [
    "num_1 = 2\n",
    "while num_1 < 10:\n",
    "    num_2 = 1\n",
    "    while num_2 < 10:\n",
    "        print(\"{} * {} = {}\".format(num_1, num_2, num_1*num_2), end=\"\\n\")\n",
    "        num_2 += 1\n",
    "    print()\n",
    "    num_1 += 1"
   ]
  },
  {
   "cell_type": "code",
   "execution_count": 21,
   "id": "6d4e8307",
   "metadata": {},
   "outputs": [
    {
     "name": "stdout",
     "output_type": "stream",
     "text": [
      "수를 입력하시오.2930\n",
      "수를 입력하시오.5000\n",
      "8211515.0\n"
     ]
    }
   ],
   "source": [
    "# 두 수를 입력받아 두 수 사이의 합을 구하세요.\n",
    "a = input(\"수를 입력하시오.\")\n",
    "b = input(\"수를 입력하시오.\")\n",
    "num_a= int(a)\n",
    "num_b= int(b)\n",
    "print((num_a+num_b)*(num_b-num_a+1)/2)"
   ]
  },
  {
   "cell_type": "code",
   "execution_count": 44,
   "id": "4bc4ef04",
   "metadata": {},
   "outputs": [
    {
     "name": "stdout",
     "output_type": "stream",
     "text": [
      "두 수를 입력하시오.(10 20)2934 129\n",
      "4297389\n",
      "2934와129사이 수의 합은 4297389입니다.\n"
     ]
    },
    {
     "ename": "KeyboardInterrupt",
     "evalue": "Interrupted by user",
     "output_type": "error",
     "traceback": [
      "\u001b[1;31m---------------------------------------------------------------------------\u001b[0m",
      "\u001b[1;31mKeyboardInterrupt\u001b[0m                         Traceback (most recent call last)",
      "\u001b[1;32m~\\AppData\\Local\\Temp/ipykernel_2244/568593853.py\u001b[0m in \u001b[0;36m<module>\u001b[1;34m\u001b[0m\n\u001b[0;32m      1\u001b[0m \u001b[1;32mwhile\u001b[0m \u001b[1;32mTrue\u001b[0m\u001b[1;33m:\u001b[0m\u001b[1;33m\u001b[0m\u001b[1;33m\u001b[0m\u001b[0m\n\u001b[1;32m----> 2\u001b[1;33m     \u001b[0minput_data\u001b[0m \u001b[1;33m=\u001b[0m \u001b[0minput\u001b[0m\u001b[1;33m(\u001b[0m\u001b[1;34m\"두 수를 입력하시오.(10 20)\"\u001b[0m\u001b[1;33m)\u001b[0m\u001b[1;33m.\u001b[0m\u001b[0msplit\u001b[0m\u001b[1;33m(\u001b[0m\u001b[1;33m)\u001b[0m\u001b[1;33m\u001b[0m\u001b[1;33m\u001b[0m\u001b[0m\n\u001b[0m\u001b[0;32m      3\u001b[0m     \u001b[1;32mif\u001b[0m \u001b[0minput_data\u001b[0m \u001b[1;33m==\u001b[0m \u001b[1;34m\"q\"\u001b[0m\u001b[1;33m:\u001b[0m\u001b[1;33m\u001b[0m\u001b[1;33m\u001b[0m\u001b[0m\n\u001b[0;32m      4\u001b[0m         \u001b[1;32mbreak\u001b[0m\u001b[1;33m\u001b[0m\u001b[1;33m\u001b[0m\u001b[0m\n\u001b[0;32m      5\u001b[0m     \u001b[1;32mif\u001b[0m \u001b[0mlen\u001b[0m\u001b[1;33m(\u001b[0m\u001b[0minput_data\u001b[0m\u001b[1;33m)\u001b[0m \u001b[1;33m!=\u001b[0m \u001b[1;36m2\u001b[0m\u001b[1;33m:\u001b[0m\u001b[1;33m\u001b[0m\u001b[1;33m\u001b[0m\u001b[0m\n",
      "\u001b[1;32mC:\\ProgramData\\Anaconda3\\lib\\site-packages\\ipykernel\\kernelbase.py\u001b[0m in \u001b[0;36mraw_input\u001b[1;34m(self, prompt)\u001b[0m\n\u001b[0;32m   1004\u001b[0m                 \u001b[1;34m\"raw_input was called, but this frontend does not support input requests.\"\u001b[0m\u001b[1;33m\u001b[0m\u001b[1;33m\u001b[0m\u001b[0m\n\u001b[0;32m   1005\u001b[0m             )\n\u001b[1;32m-> 1006\u001b[1;33m         return self._input_request(\n\u001b[0m\u001b[0;32m   1007\u001b[0m             \u001b[0mstr\u001b[0m\u001b[1;33m(\u001b[0m\u001b[0mprompt\u001b[0m\u001b[1;33m)\u001b[0m\u001b[1;33m,\u001b[0m\u001b[1;33m\u001b[0m\u001b[1;33m\u001b[0m\u001b[0m\n\u001b[0;32m   1008\u001b[0m             \u001b[0mself\u001b[0m\u001b[1;33m.\u001b[0m\u001b[0m_parent_ident\u001b[0m\u001b[1;33m[\u001b[0m\u001b[1;34m\"shell\"\u001b[0m\u001b[1;33m]\u001b[0m\u001b[1;33m,\u001b[0m\u001b[1;33m\u001b[0m\u001b[1;33m\u001b[0m\u001b[0m\n",
      "\u001b[1;32mC:\\ProgramData\\Anaconda3\\lib\\site-packages\\ipykernel\\kernelbase.py\u001b[0m in \u001b[0;36m_input_request\u001b[1;34m(self, prompt, ident, parent, password)\u001b[0m\n\u001b[0;32m   1049\u001b[0m             \u001b[1;32mexcept\u001b[0m \u001b[0mKeyboardInterrupt\u001b[0m\u001b[1;33m:\u001b[0m\u001b[1;33m\u001b[0m\u001b[1;33m\u001b[0m\u001b[0m\n\u001b[0;32m   1050\u001b[0m                 \u001b[1;31m# re-raise KeyboardInterrupt, to truncate traceback\u001b[0m\u001b[1;33m\u001b[0m\u001b[1;33m\u001b[0m\u001b[0m\n\u001b[1;32m-> 1051\u001b[1;33m                 \u001b[1;32mraise\u001b[0m \u001b[0mKeyboardInterrupt\u001b[0m\u001b[1;33m(\u001b[0m\u001b[1;34m\"Interrupted by user\"\u001b[0m\u001b[1;33m)\u001b[0m \u001b[1;32mfrom\u001b[0m \u001b[1;32mNone\u001b[0m\u001b[1;33m\u001b[0m\u001b[1;33m\u001b[0m\u001b[0m\n\u001b[0m\u001b[0;32m   1052\u001b[0m             \u001b[1;32mexcept\u001b[0m \u001b[0mException\u001b[0m\u001b[1;33m:\u001b[0m\u001b[1;33m\u001b[0m\u001b[1;33m\u001b[0m\u001b[0m\n\u001b[0;32m   1053\u001b[0m                 \u001b[0mself\u001b[0m\u001b[1;33m.\u001b[0m\u001b[0mlog\u001b[0m\u001b[1;33m.\u001b[0m\u001b[0mwarning\u001b[0m\u001b[1;33m(\u001b[0m\u001b[1;34m\"Invalid Message:\"\u001b[0m\u001b[1;33m,\u001b[0m \u001b[0mexc_info\u001b[0m\u001b[1;33m=\u001b[0m\u001b[1;32mTrue\u001b[0m\u001b[1;33m)\u001b[0m\u001b[1;33m\u001b[0m\u001b[1;33m\u001b[0m\u001b[0m\n",
      "\u001b[1;31mKeyboardInterrupt\u001b[0m: Interrupted by user"
     ]
    }
   ],
   "source": [
    "while True:\n",
    "    input_data = input(\"두 수를 입력하시오.(10 20)\").split()\n",
    "    if input_data == \"q\":\n",
    "        break\n",
    "    if len(input_data) != 2:\n",
    "        print(\"다시 입력하시오.\")\n",
    "        continue\n",
    "    if input_data[0].isalpha() or input_data[1].isalpha():\n",
    "        print(\"다시 입력하시오.\")\n",
    "        continue\n",
    "    \n",
    "    num_a=int(input_data[0])\n",
    "    num_b=int(input_data[1])\n",
    "    if num_a > num_b:\n",
    "        num_a, num_b = num_b, num_a\n",
    "    total=num_a\n",
    "    mid_num=num_a\n",
    "    while mid_num < num_b:\n",
    "        mid_num += 1\n",
    "        total += mid_num\n",
    "    print(total)\n",
    "    print(\"{}와{}사이 수의 합은 {}입니다.\".format(input_data[0], input_data[1],total))"
   ]
  },
  {
   "cell_type": "code",
   "execution_count": 14,
   "id": "ec52169c",
   "metadata": {},
   "outputs": [
    {
     "name": "stdout",
     "output_type": "stream",
     "text": [
      "1\n",
      "2\n",
      "3\n",
      "4\n",
      "5\n",
      "6\n",
      "7\n",
      "8\n",
      "9\n"
     ]
    }
   ],
   "source": [
    "list_of_list = [[1,2,3], [4,5,6,7], [8,9]]\n",
    "\n",
    "for list in list_of_list:\n",
    "    for number in list:\n",
    "        print(number)\n"
   ]
  },
  {
   "cell_type": "code",
   "execution_count": 41,
   "id": "b364e261",
   "metadata": {},
   "outputs": [
    {
     "name": "stdout",
     "output_type": "stream",
     "text": [
      "[[1, 4, 7], [2, 5, 8], [3, 6, 9]]\n"
     ]
    }
   ],
   "source": [
    "numbers = [1, 2, 3, 4, 5, 6, 7, 8, 9]\n",
    "ouput = [[], [], []]\n",
    "\n",
    "for number in numbers:\n",
    "    ouput[number%3-1].append(number)\n",
    "# 인덱스에는 숫자이기만 하면 됨\n",
    "print(ouput)"
   ]
  },
  {
   "cell_type": "code",
   "execution_count": 43,
   "id": "8e4757a6",
   "metadata": {},
   "outputs": [
    {
     "name": "stdout",
     "output_type": "stream",
     "text": [
      "[] <class 'list'>\n"
     ]
    }
   ],
   "source": [
    "numbers = [1, 2, 3, 4, 5, 6, 7, 8, 9]\n",
    "numbers.clear()\n",
    "print(numbers, type(numbers))"
   ]
  },
  {
   "cell_type": "code",
   "execution_count": 47,
   "id": "f6eaab6d",
   "metadata": {
    "scrolled": true
   },
   "outputs": [
    {
     "name": "stdout",
     "output_type": "stream",
     "text": [
      "0\n",
      "1\n",
      "2\n",
      "3\n",
      "4\n",
      "\n",
      "1\n",
      "2\n",
      "3\n",
      "4\n",
      "\n",
      "1\n",
      "3\n"
     ]
    }
   ],
   "source": [
    "# for 반복자 in 반복 자료'\n",
    "# 처리\n",
    "for i in range(5):\n",
    "    print(i)\n",
    "print()\n",
    "for i in range(1,5):\n",
    "    print(i)\n",
    "print()\n",
    "for i in range(1,5,2):#2칸씩 이동\n",
    "    print(i)\n"
   ]
  },
  {
   "cell_type": "code",
   "execution_count": 50,
   "id": "64f76851",
   "metadata": {
    "scrolled": true
   },
   "outputs": [
    {
     "name": "stdout",
     "output_type": "stream",
     "text": [
      "1\n",
      "2\n",
      "3\n",
      "4\n",
      "5\n",
      "6\n",
      "7\n",
      "8\n",
      "9\n"
     ]
    }
   ],
   "source": [
    "numbers = [1, 2, 3, 4, 5, 6, 7, 8, 9]\n",
    "for number in numbers:\n",
    "    print(number)"
   ]
  },
  {
   "cell_type": "code",
   "execution_count": 56,
   "id": "3f30fd1a",
   "metadata": {},
   "outputs": [
    {
     "name": "stdout",
     "output_type": "stream",
     "text": [
      "273\n",
      "45\n",
      "3\n",
      "4\n",
      "88\n",
      "0\n",
      "1\n",
      "2\n",
      "3\n",
      "4\n"
     ]
    }
   ],
   "source": [
    "a_list = [273, 45, 3, 4, 88]\n",
    "for i in range(len(a_list)):\n",
    "    print(a_list[i])\n",
    "\n",
    "for z in range(5):\n",
    "    print(z)"
   ]
  },
  {
   "cell_type": "code",
   "execution_count": 57,
   "id": "ddb6c5b0",
   "metadata": {},
   "outputs": [
    {
     "name": "stdout",
     "output_type": "stream",
     "text": [
      "0\n",
      "1\n",
      "2\n",
      "3\n",
      "4\n"
     ]
    }
   ],
   "source": [
    "a_list = [273, 45, 3, 4, 88]\n",
    "for i in range(len(a_list)):\n",
    "    print(i)"
   ]
  }
 ],
 "metadata": {
  "kernelspec": {
   "display_name": "Python 3 (ipykernel)",
   "language": "python",
   "name": "python3"
  },
  "language_info": {
   "codemirror_mode": {
    "name": "ipython",
    "version": 3
   },
   "file_extension": ".py",
   "mimetype": "text/x-python",
   "name": "python",
   "nbconvert_exporter": "python",
   "pygments_lexer": "ipython3",
   "version": "3.9.7"
  }
 },
 "nbformat": 4,
 "nbformat_minor": 5
}
