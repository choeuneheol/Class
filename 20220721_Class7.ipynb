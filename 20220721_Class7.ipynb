{
 "cells": [
  {
   "cell_type": "markdown",
   "id": "addd604c",
   "metadata": {},
   "source": [
    "# 복습"
   ]
  },
  {
   "cell_type": "code",
   "execution_count": 1,
   "id": "2cac8a98",
   "metadata": {},
   "outputs": [],
   "source": [
    "import cv2\n",
    "import numpy as np\n",
    "import sys\n",
    "import matplotlib.pyplot as plt\n",
    "import glob"
   ]
  },
  {
   "cell_type": "code",
   "execution_count": 4,
   "id": "7f96c145",
   "metadata": {},
   "outputs": [],
   "source": [
    "img = cv2.imread(\"./fig1/puppy.bmp\",0)\n",
    "\n",
    "if img is None:\n",
    "    print(\"image read failed\")\n",
    "    sys.exit()\n",
    "    \n",
    "cv2.namedWindow(\"image\")\n",
    "\n",
    "cv2.imshow(\"image\", img)\n",
    "\n",
    "while True:\n",
    "    key = cv2.waitKey()\n",
    "    if  key == 27 or key == ord(\"q\"):\n",
    "        break\n",
    "\n",
    "cv2.destroyAllWindows()"
   ]
  },
  {
   "cell_type": "code",
   "execution_count": 5,
   "id": "729bd5a9",
   "metadata": {},
   "outputs": [],
   "source": [
    "img_files = glob.glob(\"./fig1/images/*.*\")\n",
    "\n",
    "cv2.namedWindow(\"scene\", cv2.WINDOW_NORMAL)\n",
    "cv2.setWindowProperty(\"scene\", cv2.WND_PROP_FULLSCREEN,cv2.WINDOW_FULLSCREEN)\n",
    "\n",
    "idx = 0\n",
    "\n",
    "while True:\n",
    "    img = cv2.imread(img_files[idx])\n",
    "    \n",
    "    if img is None:\n",
    "        print(\"image read failed\")\n",
    "        break\n",
    "        \n",
    "    cv2.imshow(\"scene\", img)\n",
    "    \n",
    "    if cv2.waitKey(2000) == 27:\n",
    "        break\n",
    "    \n",
    "    idx += 1\n",
    "    \n",
    "    if idx >= len(img_files):\n",
    "        idx = 0\n",
    "cv2.destroyAllWindows()"
   ]
  },
  {
   "cell_type": "code",
   "execution_count": 7,
   "id": "182fa998",
   "metadata": {},
   "outputs": [],
   "source": [
    "dst = cv2.imread(\"fig/airplane.bmp\")\n",
    "mask = cv2.imread(\"fig/mask_plane.bmp\",0) #grayscale\n",
    "src = cv2.imread(\"fig/field.bmp\")\n",
    "\n",
    "mask_inv = -mask\n",
    "\n",
    "cv2.copyTo(dst, mask_inv, src)\n",
    "\n",
    "cv2.imshow(\"src\",src)\n",
    "cv2.imshow(\"mask\",mask)\n",
    "cv2.imshow(\"dst\",dst)\n",
    "\n",
    "cv2.waitKey()\n",
    "cv2.destroyAllWindows()"
   ]
  },
  {
   "cell_type": "code",
   "execution_count": 11,
   "id": "03b2a981",
   "metadata": {},
   "outputs": [],
   "source": [
    "img = np.full((800,1200,3),255, np.uint8)\n",
    "\n",
    "cv2.line(img,(50,50),(400,100),(255,0,0),5,cv2.LINE_AA)\n",
    "cv2.arrowedLine(img,(400,100),(400,300),(0,0,255),5,cv2.LINE_AA)\n",
    "cv2.rectangle(img,(50,200),(200,400),(255,255,0),-1)\n",
    "cv2.rectangle(img,(50,200,150,200),(255,255,0),10,cv2.LINE_AA)\n",
    "text = \"Hello OPencv!\"\n",
    "\n",
    "cv2.putText(img,text,(100,500),cv2.FONT_HERSHEY_SIMPLEX, 2, (0,0,255),4,cv2.LINE_AA)\n",
    "\n",
    "cv2.imshow(\"image\", img)\n",
    "\n",
    "cv2.waitKey()\n",
    "\n",
    "cv2.destroyAllWindows()"
   ]
  },
  {
   "cell_type": "code",
   "execution_count": 12,
   "id": "cbf821fd",
   "metadata": {},
   "outputs": [],
   "source": [
    "cap = cv2.VideoCapture(0)\n",
    "\n",
    "w = int(cap.get(cv2.CAP_PROP_FRAME_WIDTH))\n",
    "h = int(cap.get(cv2.CAP_PROP_FRAME_HEIGHT))\n",
    "fps = int(cap.get(cv2.CAP_PROP_FPS)*0.8)\n",
    "fourcc = cv2.VideoWriter_fourcc(*\"DIVX\")\n",
    "\n",
    "out = cv2.VideoWriter(\"review.avi\", fourcc = fourcc, fps = fps, frameSize =(w,h))\n",
    "\n",
    "\n",
    "\n",
    "while True:\n",
    "    ret, frame = cap.read()\n",
    "    \n",
    "    if not ret:\n",
    "        print(\"Go home!\")\n",
    "        break\n",
    "    \n",
    "    \n",
    "    edge = cv2.Canny(frame,50,150)\n",
    "    out.write(frame)\n",
    "    \n",
    "    cv2.imshow(\"frame\", frame)\n",
    "    cv2.imshow(\"edge\", edge)\n",
    "    \n",
    "    \n",
    "    if cv2.waitKey(30) == 27:\n",
    "        break\n",
    "\n",
    "out.release()\n",
    "cap.release()\n",
    "cv2.destroyAllWindows()"
   ]
  },
  {
   "cell_type": "code",
   "execution_count": 14,
   "id": "7daba175",
   "metadata": {},
   "outputs": [],
   "source": [
    "def call_mouse(event,x,y,flags,param):\n",
    "    \n",
    "    global oldx, oldy\n",
    "    \n",
    "    if event == cv2.EVENT_LBUTTONDOWN:\n",
    "        oldx, oldy = x, y\n",
    "        \n",
    "    elif event == cv2.EVENT_MOUSEMOVE:\n",
    "        if flags == cv2.EVENT_FLAG_LBUTTON:\n",
    "            cv2.line(img,(oldx, oldy),(x,y),(255,0,255),4,cv2.LINE_AA)\n",
    "            cv2.imshow(\"image\", img)\n",
    "            oldx, oldy = x, y\n",
    "    \n",
    "\n",
    "\n",
    "\n",
    "img = np.ones((600,1200,3), np.uint8)*255\n",
    "\n",
    "cv2.imshow(\"image\", img)\n",
    "cv2.setMouseCallback(\"image\", call_mouse, img)\n",
    "\n",
    "\n",
    "cv2.waitKey()\n",
    "cv2.destroyAllWindows()"
   ]
  },
  {
   "cell_type": "code",
   "execution_count": null,
   "id": "355598a7",
   "metadata": {},
   "outputs": [],
   "source": []
  },
  {
   "cell_type": "markdown",
   "id": "cf7eb8fa",
   "metadata": {},
   "source": [
    "# 본 수업"
   ]
  },
  {
   "cell_type": "code",
   "execution_count": 15,
   "id": "acb840ab",
   "metadata": {},
   "outputs": [],
   "source": [
    "def call_trackbar(pos):\n",
    "    img[:] = pos\n",
    "    cv2.imshow(\"image\",img)\n",
    "\n",
    "\n",
    "img = np.zeros((480, 640), np.uint8)\n",
    "\n",
    "cv2.namedWindow(\"image\")\n",
    "\n",
    "\n",
    "cv2.createTrackbar(\"level\",\"image\",0,255,call_trackbar)\n",
    "\n",
    "\n",
    "cv2.imshow(\"image\",img)\n",
    "\n",
    "cv2.waitKey()\n",
    "cv2.destroyAllWindows()"
   ]
  },
  {
   "cell_type": "code",
   "execution_count": 19,
   "id": "f427108b",
   "metadata": {},
   "outputs": [],
   "source": [
    "def call_trackbar(pos):\n",
    "    global img\n",
    "    \n",
    "    img_glass = img*pos\n",
    "    cv2.imshow(\"image\",img_glass)\n",
    "\n",
    "\n",
    "img_alpha = cv2.imread(\"./fig/imgbin_sunglasses_1.png\",cv2.IMREAD_UNCHANGED)\n",
    "img = img_alpha[:,:,-1]\n",
    "img[img>0] = 1\n",
    "\n",
    "cv2.namedWindow(\"image\")\n",
    "\n",
    "\n",
    "cv2.createTrackbar(\"level\",\"image\",0,255,call_trackbar)\n",
    "\n",
    "\n",
    "cv2.imshow(\"image\",img)\n",
    "\n",
    "cv2.waitKey()\n",
    "cv2.destroyAllWindows()"
   ]
  },
  {
   "cell_type": "code",
   "execution_count": 24,
   "id": "93ec971a",
   "metadata": {},
   "outputs": [],
   "source": [
    "img = cv2.imread(\"./fig1/lenna.bmp\")\n",
    "\n",
    "if img is None:\n",
    "    print(\"image read failed\")\n",
    "    sys.exit()\n",
    "    \n",
    "# dst = np.clip(img +100., 0 , 255).astype(np.uint8)\n",
    "dst = cv2.add(img, (100,100,100,0))\n",
    "\n",
    "cv2.imshow(\"image\",img)\n",
    "cv2.imshow(\"dst\",dst)\n",
    "\n",
    "cv2.waitKey()\n",
    "cv2.destroyAllWindows()"
   ]
  },
  {
   "cell_type": "code",
   "execution_count": 25,
   "id": "38bd6bec",
   "metadata": {},
   "outputs": [],
   "source": [
    "import matplotlib.pylab as plt"
   ]
  },
  {
   "cell_type": "code",
   "execution_count": 31,
   "id": "5a6e4be0",
   "metadata": {},
   "outputs": [],
   "source": [
    "src1 =cv2.imread(\"fig1/lenna256.bmp\",0)\n",
    "h,w = src1.shape[:2]\n",
    "src2 = np.zeros((h,w), np.uint8)\n",
    "cv2.circle(src2, (128,128),100,200,-1)\n",
    "cv2.circle(src2, (128,128),50,50,-1)\n",
    "cv2.circle(src2, (128,128),20,20,-1)\n",
    "\n",
    "dst1 = cv2.add(src1,src2)\n",
    "dst2 = cv2.addWeighted(src1, .5,src2,.5,0)\n",
    "dst3 = cv2.subtract(src1,src2)\n",
    "dst4 = cv2.absdiff(src1,src2)\n",
    "\n",
    "cv2.imshow(\"src1\",src1)\n",
    "cv2.imshow(\"src2\",src2)\n",
    "cv2.imshow(\"dst1\",dst1)\n",
    "cv2.imshow(\"dst2\",dst2)\n",
    "cv2.imshow(\"dst3\",dst3)\n",
    "cv2.imshow(\"dst4\",dst4)\n",
    "\n",
    "cv2.waitKey()\n",
    "cv2.destroyAllWindows()"
   ]
  },
  {
   "cell_type": "code",
   "execution_count": 34,
   "id": "1aa612ef",
   "metadata": {},
   "outputs": [],
   "source": [
    "src1 = np.zeros((256,256), np.uint8)\n",
    "cv2.rectangle(src1, (10,10),(128,240),255,-1)\n",
    "\n",
    "src2 = np.zeros((256,256), np.uint8)\n",
    "cv2.circle(src2, (128,128), 50, 255, -1)\n",
    "\n",
    "cv2.imshow(\"src1\",src1)\n",
    "cv2.imshow(\"src2\",src2)\n",
    "\n",
    "cv2.waitKey()\n",
    "cv2.destroyAllWindows()"
   ]
  },
  {
   "cell_type": "code",
   "execution_count": 40,
   "id": "3d5fd36c",
   "metadata": {},
   "outputs": [
    {
     "data": {
      "image/png": "[encoded data removed]",
      "text/plain": [
       "<Figure size 864x432 with 6 Axes>"
      ]
     },
     "metadata": {
      "needs_background": "light"
     },
     "output_type": "display_data"
    }
   ],
   "source": [
    "src1 = np.zeros((256,256), np.uint8)\n",
    "cv2.rectangle(src1, (10,10),(128,240),255,-1)\n",
    "\n",
    "src2 = np.zeros((256,256), np.uint8)\n",
    "cv2.circle(src2, (128,128), 50, 255, -1)\n",
    "\n",
    "dst_and = cv2.bitwise_and(src1,src2)\n",
    "dst_or = cv2.bitwise_or(src1,src2)\n",
    "dst_xor = cv2.bitwise_xor(src1,src2)\n",
    "dst_not = cv2.bitwise_not(src1)\n",
    "\n",
    "plt.figure(figsize=(12,6))\n",
    "\n",
    "plt.subplot(231), plt.imshow(src1, cmap='gray'), plt.axis('off'), plt.title('src1')\n",
    "plt.subplot(232), plt.imshow(src2, cmap='gray'), plt.axis('off'), plt.title('src2')\n",
    "plt.subplot(233), plt.imshow(dst_and, cmap='gray'), plt.axis('off'), plt.title('dst_and')\n",
    "plt.subplot(234), plt.imshow(dst_or, cmap='gray'), plt.axis('off'), plt.title('dst_or')\n",
    "plt.subplot(235), plt.imshow(dst_xor, cmap='gray'), plt.axis('off'), plt.title('dst_xor')\n",
    "plt.subplot(236), plt.imshow(dst_not, cmap='gray'), plt.axis('off'), plt.title('dst_not')\n",
    "\n",
    "plt.show()"
   ]
  },
  {
   "cell_type": "code",
   "execution_count": 38,
   "id": "80c72b16",
   "metadata": {},
   "outputs": [],
   "source": [
    "src = cv2.imread(\"./fig1/flowers.jpg\")\n",
    "\n",
    "b,g,r = cv2.split(src)\n",
    "dst = cv2.merge([b,g,r])\n",
    "\n",
    "\n",
    "\n",
    "cv2.imshow(\"src\",src)\n",
    "cv2.imshow(\"dst\",dst)\n",
    "\n",
    "\n",
    "cv2.imshow(\"b\",b)\n",
    "cv2.imshow(\"g\",g)\n",
    "cv2.imshow(\"r\",r)\n",
    "\n",
    "\n",
    "cv2.waitKey()\n",
    "cv2.destroyAllWindows()"
   ]
  },
  {
   "cell_type": "code",
   "execution_count": 39,
   "id": "e0f02a5d",
   "metadata": {},
   "outputs": [],
   "source": [
    "src = cv2.imread(\"./fig1/flowers.jpg\")\n",
    "\n",
    "b,g,r = cv2.split(src)\n",
    "dst = cv2.merge([b,g,r])\n",
    "\n",
    "src_hsv = cv2.cvtColor(src, cv2.COLOR_BGR2HSV)\n",
    "\n",
    "h,s,v = cv2.split(src_hsv)\n",
    "\n",
    "cv2.imshow(\"src\",src)\n",
    "\n",
    "\n",
    "cv2.imshow(\"h\",h)\n",
    "cv2.imshow(\"s\",s)\n",
    "cv2.imshow(\"v\",v)\n",
    "\n",
    "\n",
    "cv2.waitKey()\n",
    "cv2.destroyAllWindows()"
   ]
  }
 ],
 "metadata": {
  "kernelspec": {
   "display_name": "Python 3 (ipykernel)",
   "language": "python",
   "name": "python3"
  },
  "language_info": {
   "codemirror_mode": {
    "name": "ipython",
    "version": 3
   },
   "file_extension": ".py",
   "mimetype": "text/x-python",
   "name": "python",
   "nbconvert_exporter": "python",
   "pygments_lexer": "ipython3",
   "version": "3.9.12"
  }
 },
 "nbformat": 4,
 "nbformat_minor": 5
}
