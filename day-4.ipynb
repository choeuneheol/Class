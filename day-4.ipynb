{
 "cells": [
  {
   "cell_type": "code",
   "execution_count": null,
   "id": "fccb63f0",
   "metadata": {},
   "outputs": [],
   "source": [
    "# 반복문으로 팩토리얼 구하기\n",
    "def factorial(n):\n",
    "    global counter\n",
    "    output = 1\n",
    "    for i in range(1, n+1):\n",
    "        output *= i\n",
    "        counter += 1\n",
    "    return output\n",
    "counter = 0\n",
    "print(\"1!:\",factorial(1))\n",
    "print(\"2!:\",factorial(2))\n",
    "print(\"3!:\",factorial(3))\n",
    "print(\"4!:\",factorial(4))\n",
    "print(factorial(6), counter)"
   ]
  },
  {
   "cell_type": "code",
   "execution_count": null,
   "id": "10915fd6",
   "metadata": {},
   "outputs": [],
   "source": [
    "# 재귀함수로 팩토리얼 구하기\n",
    "def fact(n):\n",
    "    global counter\n",
    "    if n == 0:\n",
    "        return 1\n",
    "    else:\n",
    "        return n * fact(n-1)\n",
    "print(factorial(6), counter)    "
   ]
  },
  {
   "cell_type": "code",
   "execution_count": null,
   "id": "49462979",
   "metadata": {},
   "outputs": [],
   "source": [
    "def fibonacci(n):\n",
    "#     print(\"fibonacci({}) 를 구함\".format(n))\n",
    "    global counter\n",
    "    counter += 1\n",
    "    if n == 1:\n",
    "        return 1\n",
    "    elif n == 2:\n",
    "        return 1\n",
    "    else: #위에 두값이 return을 나타내기때문에 else를 지우고 return을 한칸 당길 수 있음\n",
    "        return fibonacci(n-1) + fibonacci(n-2)\n",
    "counter = 0\n",
    "fibonacci(30)\n",
    "print(\"{}회 계산\".format(counter))"
   ]
  },
  {
   "cell_type": "code",
   "execution_count": null,
   "id": "b2514510",
   "metadata": {},
   "outputs": [],
   "source": [
    "#실행 속도 업그레이드, 한번 구했던 함수값을 딕셔너리에 추가하여 메모하기\n",
    "def fibo_memo(n):\n",
    "    global counter\n",
    "    counter +=1\n",
    "    if n in dictionary:\n",
    "        return dictionary[n]\n",
    "    output = fibo_memo(n-1) + fibo_memo(n-2)\n",
    "    dictionary[n] = output\n",
    "    return output\n",
    "dictionary = {1:1,2:1}\n",
    "counter = 0\n",
    "fibo_memo(30)\n",
    "print(\"{}회 계산\".format(counter))"
   ]
  },
  {
   "cell_type": "code",
   "execution_count": null,
   "id": "29eee7a3",
   "metadata": {},
   "outputs": [],
   "source": [
    "# 고급 함수 : lambda\n",
    "# 함수를 매개변수로 전달하는 대표적인 표준함수\n",
    "# map(함수명, 리스트) : 리스트의 각 요소에 함수를 적용\n",
    "# filter(함수명, 리스트) : 리스트의 각 요소중 조건에 맞는 요소만 함수를 적용\n",
    "def power(item):\n",
    "    return item * item\n",
    "def under_3(item):\n",
    "    return item < 3\n",
    "\n",
    "list_a = [1,2,3,4,5]\n",
    "# map() 함수를 사용\n",
    "output_a = map(power, list_a)\n",
    "print(list(output_a))\n",
    "\n",
    "# filter() 함수를 사용\n",
    "output_b = filter(under_3, list_a)\n",
    "print(list(output_b))"
   ]
  },
  {
   "cell_type": "code",
   "execution_count": null,
   "id": "81993c9d",
   "metadata": {},
   "outputs": [],
   "source": [
    "power_1 = lambda x : x*x\n",
    "under_3_1 = lambda x : x < 3\n",
    "\n",
    "list_a = [1,2,3,4,5]\n",
    "# map() 함수를 사용\n",
    "output_a = map(power_1, list_a)\n",
    "print(list(output_a))\n",
    "\n",
    "# filter() 함수를 사용\n",
    "output_b = filter(under_3_1, list_a)\n",
    "print(list(output_b))"
   ]
  },
  {
   "cell_type": "code",
   "execution_count": null,
   "id": "2ce6f6b7",
   "metadata": {},
   "outputs": [],
   "source": [
    "list_a = [1,2,3,4,5]\n",
    "# map() 함수를 사용\n",
    "output_a = map(lambda x : x*x, list_a)\n",
    "print(list(output_a))\n",
    "\n",
    "# filter() 함수를 사용\n",
    "output_b = filter(lambda x : x < 3, list_a)\n",
    "print(list(output_b))"
   ]
  },
  {
   "cell_type": "code",
   "execution_count": null,
   "id": "eea9cf38",
   "metadata": {},
   "outputs": [],
   "source": [
    "# 파일 처리 : fp = open(\"파일명\",\"모드\") ~ fp.close()\n",
    "fp = open(\"./basic.txt\", \"w\")\n",
    "fp.write(\"file write test!\")\n",
    "fp.close()"
   ]
  },
  {
   "cell_type": "code",
   "execution_count": null,
   "id": "ba07b4a5",
   "metadata": {},
   "outputs": [],
   "source": [
    "# with 키워드를 사용해서 file open, with 구문 종료시 file 자동 close\n",
    "with open(\"basic.txt\",\"a\") as fp:\n",
    "    fp.write(\"with file write test\\n\")"
   ]
  },
  {
   "cell_type": "code",
   "execution_count": null,
   "id": "d0710d19",
   "metadata": {},
   "outputs": [],
   "source": [
    "# file read\n",
    "with open(\"basic.txt\",\"r\") as fp:\n",
    "    content = fp.read() # 파일의 전체 데이터 읽음   \n",
    "    fp.seek(0) #파일의 처음으로 이동\n",
    "    print(\"111\", fp.readlines())\n",
    "    print()\n",
    "    fp.seek(0) #파일의 처음으로 이동\n",
    "    for line in fp.readlines(): #\\n 을 기준으로 데이터를 읽음\n",
    "        print(\"222\", line)"
   ]
  },
  {
   "cell_type": "code",
   "execution_count": 2,
   "id": "d6e7b46d",
   "metadata": {},
   "outputs": [
    {
     "name": "stdout",
     "output_type": "stream",
     "text": [
      "이름을 입력하시오.mark\n",
      "국어 영어 수학 점수를 입력하시오.100 20 80\n",
      "이름을 입력하시오.james\n",
      "국어 영어 수학 점수를 입력하시오.89 29 38\n",
      "이름을 입력하시오.steve\n",
      "국어 영어 수학 점수를 입력하시오.30 80 90\n",
      "이름을 입력하시오.q\n"
     ]
    }
   ],
   "source": [
    "# 이름 국어 영어 수학 점수를 입력 받아 파일에 저장 한 후\n",
    "# 파일의 내용을 가져와서 이름을 키로 성적을 데이터로 딕셔너리에 저장 후\n",
    "# 학생 이름 국어 영어 수학 총점 평균을 출력하는 프로그램 작성\n",
    "# 파일명은 student.txt, 딕셔너리는 student로 하세요\n",
    "# 입력은 이름에 'q'가 입력되면 종료\n",
    "# 홍길동,90,80,70 이 형식으로 파일에 저장\n",
    "# student={}\n",
    "fp = open(\"student.txt\",\"a+\")\n",
    "while True:\n",
    "    name = input(\"이름을 입력하시오.\")\n",
    "    if name == 'q':\n",
    "        break\n",
    "    while True:\n",
    "        input_score = input(\"국어 영어 수학 점수를 입력하시오.\").split()\n",
    "        if len(input_score) == 3:\n",
    "            break\n",
    "    output = name + ','+','.join(input_score) + '\\n'\n",
    "    fp.write(output)"
   ]
  },
  {
   "cell_type": "code",
   "execution_count": 3,
   "id": "b99addd9",
   "metadata": {},
   "outputs": [
    {
     "name": "stdout",
     "output_type": "stream",
     "text": [
      "{'mark': [100, 20, 80], 'james': [89, 29, 38], 'steve': [30, 80, 90]}\n"
     ]
    }
   ],
   "source": [
    "student={}\n",
    "fp.seek(0)\n",
    "for line in fp.readlines():\n",
    "    line_list = line.strip('\\n').split(',')\n",
    "    student[line_list[0]]=[int(line_list[i]) for i in range(1,4),\n",
    "                          ]\n",
    "fp.close()\n",
    "print(student)"
   ]
  },
  {
   "cell_type": "code",
   "execution_count": 1,
   "id": "ca9aae8e",
   "metadata": {},
   "outputs": [
    {
     "name": "stdout",
     "output_type": "stream",
     "text": [
      "first \n",
      "Second\n",
      "test func\n",
      "<generator object test at 0x0000022F71A07A50>\n"
     ]
    }
   ],
   "source": [
    "# 제너레이터 함수 : yeild가 존재하면\n",
    "def test():\n",
    "    print(\"test func\")\n",
    "    yield \"test\"\n",
    "\n",
    "# 함수 호출\n",
    "print(\"first \")\n",
    "test()\n",
    "\n",
    "print(\"Second\")\n",
    "next(test())\n",
    "print(test())"
   ]
  },
  {
   "cell_type": "code",
   "execution_count": null,
   "id": "87a7616e",
   "metadata": {},
   "outputs": [],
   "source": [
    "# 제너레이터 함수는 next(제너레이터 함수명)으로 실행, yeild을 만나면 멈춤\n",
    "def test():\n",
    "    print(\"A 지점 통과\")\n",
    "    yield 1\n",
    "    print(\"B 지점 통과\")\n",
    "    yield 2\n",
    "    print(\"C 지점 통과\")\n",
    "# 함수 호출\n",
    "func = test()\n",
    "print(\"pass D point\")\n",
    "print(next(func))\n",
    "print(\"pass E point\")\n",
    "print(next(func))\n",
    "# next(func) 는 print(\"C 지점 통과\")이후에 yeild가 없기때문에 에러발생"
   ]
  },
  {
   "cell_type": "code",
   "execution_count": 2,
   "id": "54654ba0",
   "metadata": {},
   "outputs": [
    {
     "data": {
      "text/plain": [
       "4"
      ]
     },
     "execution_count": 2,
     "metadata": {},
     "output_type": "execute_result"
    }
   ],
   "source": [
    "(lambda x,y : x+y)(1,3)"
   ]
  },
  {
   "cell_type": "code",
   "execution_count": null,
   "id": "2fa8e8a9",
   "metadata": {},
   "outputs": [],
   "source": [
    "# try ~ except : 프로그램 실행시 예외 발생시 처리하는 구문\n",
    "# try:\n",
    "#     예외 발생 가능성 있는 코드\n",
    "# except:\n",
    "#     예외 발생시 실행하는 코드\n",
    "# else:\n",
    "#     정상 작동시 실행하는 코드\n",
    "# finally:\n",
    "#     무조건 실행하는 코드\n",
    "try:\n",
    "    imput_num = int(input(\"정수 입력\"))\n",
    "except:\n",
    "    pass\n",
    "    # print(\"정수를 입력하세요\")"
   ]
  },
  {
   "cell_type": "code",
   "execution_count": 4,
   "id": "65cbe524",
   "metadata": {},
   "outputs": [
    {
     "name": "stdout",
     "output_type": "stream",
     "text": [
      "func start\n",
      "try 구문 실행\n",
      "finally 실행\n"
     ]
    }
   ],
   "source": [
    "# try ~ except ~ else ~ finally ~ : finally는 어느 경우에도 무조건 실행함\n",
    "def test():\n",
    "    print(\"func start\")\n",
    "    try:\n",
    "        print(\"try 구문 실행\")\n",
    "        return\n",
    "    except:\n",
    "        print(\"except 구문 실행\")\n",
    "    finally:\n",
    "        print(\"finally 실행\")\n",
    "    print(\"test end\")\n",
    "    \n",
    "test()"
   ]
  },
  {
   "cell_type": "code",
   "execution_count": 5,
   "id": "521e05d6",
   "metadata": {},
   "outputs": [
    {
     "ename": "SyntaxError",
     "evalue": "unexpected EOF while parsing (Temp/ipykernel_3136/3567735397.py, line 15)",
     "output_type": "error",
     "traceback": [
      "\u001b[1;36m  File \u001b[1;32m\"C:\\Users\\wpgud\\AppData\\Local\\Temp/ipykernel_3136/3567735397.py\"\u001b[1;36m, line \u001b[1;32m15\u001b[0m\n\u001b[1;33m    \u001b[0m\n\u001b[1;37m    ^\u001b[0m\n\u001b[1;31mSyntaxError\u001b[0m\u001b[1;31m:\u001b[0m unexpected EOF while parsing\n"
     ]
    }
   ],
   "source": [
    "# 이름과 성적을 입력 받아 파일에 저장하는 프로그램 작성\n",
    "# try ~ except ~ finally 를 사용하여 입력 자료 검증\n",
    "# 이름은 isalpha, 점수는 isdigit인지 확인\n",
    "# 이름에 'q'가 입력되면 종료\n",
    "\n",
    "def input_data(tp):\n",
    "    while True:\n",
    "        try:\n",
    "            i_data = input(\"이름 성적 입력\").split()\n",
    "            name = i_data[0]\n",
    "            if name == \"q\":\n",
    "                return\n",
    "            score = i_data[1]\n",
    "            fp.write(','.join(i_))\n",
    "            "
   ]
  },
  {
   "cell_type": "code",
   "execution_count": 16,
   "id": "00c0a1b6",
   "metadata": {},
   "outputs": [
    {
     "name": "stdout",
     "output_type": "stream",
     "text": [
      "0.8414709848078965\n",
      "4\n",
      "7\n"
     ]
    }
   ],
   "source": [
    "# 모듈 import 모듈명, from 패키지 or모듈명 import 모듈명 or 함수명,변수\n",
    "# import 모듈 as 사용하고자 하는 식별자 (별명)\n",
    "import math as mt\n",
    "\n",
    "print(mt.sin(1))\n",
    "print(mt.floor(4.5)) #버림\n",
    "print(mt.ceil(6.3)) #올림"
   ]
  },
  {
   "cell_type": "code",
   "execution_count": 17,
   "id": "819b7c66",
   "metadata": {},
   "outputs": [
    {
     "data": {
      "text/plain": [
       "-0.5440211108893698"
      ]
     },
     "execution_count": 17,
     "metadata": {},
     "output_type": "execute_result"
    }
   ],
   "source": [
    "from math import sin, cos, floor\n",
    "\n",
    "sin(10)"
   ]
  },
  {
   "cell_type": "code",
   "execution_count": 18,
   "id": "2c1cb75c",
   "metadata": {},
   "outputs": [
    {
     "name": "stdout",
     "output_type": "stream",
     "text": [
      "random() :  0.7953295672669864\n"
     ]
    }
   ],
   "source": [
    "# random 모듈 사용해 보기\n",
    "import random\n",
    "\n",
    "print(\"random() : \", random.random())"
   ]
  },
  {
   "cell_type": "code",
   "execution_count": 23,
   "id": "0cafe139",
   "metadata": {},
   "outputs": [
    {
     "name": "stdout",
     "output_type": "stream",
     "text": [
      "nt C:\\Users\\wpgud\\Desktop\\python_sic\n",
      "['.ipynb_checkpoints', 'basic.txt', 'day-1 (review).ipynb', 'day-1.ipynb', 'day-1.py', 'day-1test.ipynb', 'day-2 (review).ipynb', 'Day-2.ipynb', 'day-3 (teacher).ipynb', 'Day-3.ipynb', 'Day-4.ipynb', 'dest_dir', 'student.txt', 'test.py', 'test0502.ipynb', 'test0503.ipynb', 'Untitled.ipynb', '파이썬 100문.ipynb']\n",
      "None\n"
     ]
    }
   ],
   "source": [
    "import os # 운영환경의 명령어 실행 가능\n",
    "\n",
    "print(os.name, os.getcwd())\n",
    "print(os.listdir())\n",
    "print(os.mkdir('test_dir'))"
   ]
  },
  {
   "cell_type": "code",
   "execution_count": 24,
   "id": "435ec8cf",
   "metadata": {},
   "outputs": [
    {
     "ename": "SyntaxError",
     "evalue": "invalid syntax (Temp/ipykernel_3136/817817077.py, line 4)",
     "output_type": "error",
     "traceback": [
      "\u001b[1;36m  File \u001b[1;32m\"C:\\Users\\wpgud\\AppData\\Local\\Temp/ipykernel_3136/817817077.py\"\u001b[1;36m, line \u001b[1;32m4\u001b[0m\n\u001b[1;33m    os.\u001b[0m\n\u001b[1;37m       ^\u001b[0m\n\u001b[1;31mSyntaxError\u001b[0m\u001b[1;31m:\u001b[0m invalid syntax\n"
     ]
    }
   ],
   "source": [
    "print(os.listdir())\n",
    "os.rmdir(\"test_dir/\")\n",
    "print(os.listdir())\n",
    "os."
   ]
  }
 ],
 "metadata": {
  "kernelspec": {
   "display_name": "Python 3 (ipykernel)",
   "language": "python",
   "name": "python3"
  },
  "language_info": {
   "codemirror_mode": {
    "name": "ipython",
    "version": 3
   },
   "file_extension": ".py",
   "mimetype": "text/x-python",
   "name": "python",
   "nbconvert_exporter": "python",
   "pygments_lexer": "ipython3",
   "version": "3.9.7"
  }
 },
 "nbformat": 4,
 "nbformat_minor": 5
}
