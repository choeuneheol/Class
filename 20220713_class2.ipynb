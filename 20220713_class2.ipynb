{
 "cells": [
  {
   "cell_type": "code",
   "execution_count": null,
   "id": "42306f63",
   "metadata": {},
   "outputs": [],
   "source": [
    "import cv2\n",
    "import numpy as np\n",
    "import sys"
   ]
  },
  {
   "cell_type": "code",
   "execution_count": null,
   "id": "3f8e0bcb",
   "metadata": {},
   "outputs": [],
   "source": [
    "img = cv2.imread(\"fig/puppy.bmp\", cv2.IMREAD_COLOR)\n",
    "\n",
    "if img is None:\n",
    "    print(\"image read failed\")\n",
    "    sys.exit()\n",
    "\n",
    "cv2.namedWindow(\"image\", cv2.WINDOW_NORMAL)\n",
    "\n",
    "img_resize = cv2.resize(img, (800,650), interpolation = cv2.INTER_LINEAR)\n",
    "\n",
    "cv2.imshow(\"image\", img)\n",
    "cv2.imshow(\"image_re\", img_resize)\n",
    "\n",
    "while True:\n",
    "    if cv2.waitKey() == 27:\n",
    "        break\n",
    "\n",
    "\n",
    "cv2.destroyAllWindows()"
   ]
  },
  {
   "cell_type": "code",
   "execution_count": 1,
   "id": "f83293c3",
   "metadata": {},
   "outputs": [],
   "source": [
    "import cv2\n",
    "import numpy as np\n",
    "import sys\n",
    "import os"
   ]
  },
  {
   "cell_type": "code",
   "execution_count": null,
   "id": "87e2f4df",
   "metadata": {},
   "outputs": [],
   "source": [
    "img_list_os = os.listdir(\"./fig/images/\")\n",
    "print(img_list_os)"
   ]
  },
  {
   "cell_type": "code",
   "execution_count": null,
   "id": "b84a007f",
   "metadata": {},
   "outputs": [],
   "source": [
    "img_files = []\n",
    "for i in img_list_os:\n",
    "    img_path = \"./fig/images/\" + i\n",
    "    img_files.append(img_path)\n",
    "print(img_files)"
   ]
  },
  {
   "cell_type": "code",
   "execution_count": null,
   "id": "3a668f8a",
   "metadata": {},
   "outputs": [],
   "source": [
    "\n",
    "cv2.namedWindow(\"scene\", cv2.WINDOW_NORMAL)\n",
    "cv2.setWindowProperty(\"scene\", cv2.WND_PROP_FULLSCREEN, cv2.WINDOW_FULLSCREEN)\n",
    "\n",
    "\n",
    "idx = 0\n",
    "while True:\n",
    "    img = cv2.imread(img_files[idx], cv2.IMREAD_COLOR)\n",
    "    \n",
    "    cv2.imshow(\"scene\", img)\n",
    "    \n",
    "    if cv2.waitKey(2000) == 27:\n",
    "        break\n",
    "        \n",
    "    idx += 1\n",
    "    \n",
    "    if idx >= len(img_files):\n",
    "        idx=0\n",
    "    \n",
    "cv2.destroyAllWindows()\n",
    "    "
   ]
  },
  {
   "cell_type": "code",
   "execution_count": 3,
   "id": "5730c207",
   "metadata": {},
   "outputs": [],
   "source": [
    "img_list_os2 = os.listdir(\"./fig/images2/\")\n",
    "img2_files = []\n",
    "for i in img_list_os2:\n",
    "    path = \"./fig/images2/\" + i\n",
    "    img2_files.append(path)\n",
    "\n",
    "\n",
    "cv2.namedWindow(\"scene\", cv2.WINDOW_NORMAL)\n",
    "cv2.setWindowProperty(\"scene\", cv2.WND_PROP_FULLSCREEN, cv2.WINDOW_FULLSCREEN)\n",
    "\n",
    "idx = 0\n",
    "while True:\n",
    "    img = cv2.imread(img2_files[idx], cv2.IMREAD_COLOR)\n",
    "    cv2.imshow(\"scene\n",
    "               \", img)\n",
    "    \n",
    "    if cv2.waitKey(2000) == 27:\n",
    "        break\n",
    "    \n",
    "    idx += 1\n",
    "    \n",
    "    if idx >= len(img2_files):\n",
    "        idx = 0\n",
    "        \n",
    "cv2.destroyAllWindows()"
   ]
  },
  {
   "cell_type": "code",
   "execution_count": 2,
   "id": "369621fe",
   "metadata": {},
   "outputs": [],
   "source": [
    "import cv2\n",
    "import numpy as np\n",
    "import sys"
   ]
  },
  {
   "cell_type": "code",
   "execution_count": 5,
   "id": "ba8abb11",
   "metadata": {},
   "outputs": [],
   "source": [
    "img1 = cv2.imread(\"./fig/puppy.bmp\",0)\n",
    "img2 = cv2.imread(\"./fig/puppy_1280_853.jpg\",1)\n",
    "\n",
    "\n",
    "if img1 is None or img2 is None:\n",
    "    print(\"images read failed\")\n",
    "    sys.exit()\n",
    "\n",
    "h, w = img1.shape[:2]\n",
    "img1[100:200, 200:300] = 127\n",
    "img2[100:200, 200:300] = (0,0,127)\n",
    "\n",
    "\n",
    "cv2.imshow(\"img1\", img1)\n",
    "cv2.imshow(\"img2\", img2)\n",
    "\n",
    "while True:\n",
    "    if cv2.waitKey() == 27:\n",
    "        break\n",
    "cv2.destroyAllWindows()"
   ]
  },
  {
   "cell_type": "code",
   "execution_count": 8,
   "id": "a86242ac",
   "metadata": {},
   "outputs": [],
   "source": [
    "img1 = np.zeros((400,500), dtype=np.uint8)\n",
    "img2 = np.ones((400,500,3), dtype=np.uint8)*127\n",
    "img3 = np.full((400,500,3), (0,255,255),dtype=np.uint8)\n",
    "\n",
    "\n",
    "cv2.imshow(\"img1\",img3)\n",
    "cv2.waitKey() == 27\n",
    "cv2.destroyAllWindows()"
   ]
  },
  {
   "cell_type": "code",
   "execution_count": 9,
   "id": "6b8427c1",
   "metadata": {},
   "outputs": [],
   "source": [
    "# 영상복사\n",
    "img1 = cv2.imread(\"fig/puppy.bmp\")\n",
    "\n",
    "# img2 = img1　이건 주소값만 복사하는 것임\n",
    "img2 = img1.copy() #데이터를 카피할때는 .copy()메서드\n",
    "\n",
    "img2[130:230, 300:400] = (0,0,255)\n",
    "\n",
    "cv2.imshow(\"image 1\", img1)\n",
    "cv2.imshow(\"image 2\", img2)\n",
    "\n",
    "cv2.waitKey()\n",
    "cv2.destroyAllWindows()"
   ]
  }
 ],
 "metadata": {
  "kernelspec": {
   "display_name": "Python 3 (ipykernel)",
   "language": "python",
   "name": "python3"
  },
  "language_info": {
   "codemirror_mode": {
    "name": "ipython",
    "version": 3
   },
   "file_extension": ".py",
   "mimetype": "text/x-python",
   "name": "python",
   "nbconvert_exporter": "python",
   "pygments_lexer": "ipython3",
   "version": "3.9.12"
  }
 },
 "nbformat": 4,
 "nbformat_minor": 5
}
