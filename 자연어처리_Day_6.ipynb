{
  "nbformat": 4,
  "nbformat_minor": 0,
  "metadata": {
    "colab": {
      "name": "자연어처리_Day-6.ipynb",
      "provenance": [],
      "collapsed_sections": [],
      "authorship_tag": "ABX9TyOjbX+eIROnfYfuyUEAzSsz"
    },
    "kernelspec": {
      "name": "python3",
      "display_name": "Python 3"
    },
    "language_info": {
      "name": "python"
    }
  },
  "cells": [
    {
      "cell_type": "code",
      "execution_count": null,
      "metadata": {
        "id": "-v-epkIKg1Uk"
      },
      "outputs": [],
      "source": [
        "import numpy as np\n",
        "import matplotlib.pyplot as plt\n",
        "from tensorflow.keras.models import Sequential\n",
        "from tensorflow.keras.layers import Dense\n",
        "from tensorflow.keras import optimizers"
      ]
    },
    {
      "cell_type": "code",
      "source": [
        "x = [[],[],[],[]]\n",
        "y = [[],[],[],[]]\n",
        "model = Sequential()\n",
        "model.add(Dense(2, input_dim=3, activation = \"softmax\")) # 2 : output 노드 수/ input_dim = 입력노드 수\n",
        "model.summary() # 파라미터 갯수 = input_nodes * output_nodes + output_nodes(bias)"
      ],
      "metadata": {
        "colab": {
          "base_uri": "https://localhost:8080/"
        },
        "id": "8_3fhNJghPUr",
        "outputId": "afbde734-c8f3-41ea-b968-456b5f7ad51a"
      },
      "execution_count": null,
      "outputs": [
        {
          "output_type": "stream",
          "name": "stdout",
          "text": [
            "Model: \"sequential\"\n",
            "_________________________________________________________________\n",
            " Layer (type)                Output Shape              Param #   \n",
            "=================================================================\n",
            " dense (Dense)               (None, 2)                 8         \n",
            "                                                                 \n",
            "=================================================================\n",
            "Total params: 8\n",
            "Trainable params: 8\n",
            "Non-trainable params: 0\n",
            "_________________________________________________________________\n"
          ]
        }
      ]
    },
    {
      "cell_type": "code",
      "source": [
        "x = [[],[],[],[]]\n",
        "y = [[],[],[],[]]\n",
        "model = Sequential()\n",
        "model.add(Dense(8, input_dim=4, activation = \"relu\")) \n",
        "model.add(Dense(8, input_dim=8, activation = \"relu\")) \n",
        "model.add(Dense(3, activation = \"softmax\")) # 앞의 아웃풋이 인풋이기 때문에 input_dim을 입력하지 않아도 됨\n",
        "model.summary()"
      ],
      "metadata": {
        "colab": {
          "base_uri": "https://localhost:8080/"
        },
        "id": "xD3gb1diiGiq",
        "outputId": "c9ec2a3b-9966-4180-b9b6-0b8a014feb9d"
      },
      "execution_count": null,
      "outputs": [
        {
          "output_type": "stream",
          "name": "stdout",
          "text": [
            "Model: \"sequential_3\"\n",
            "_________________________________________________________________\n",
            " Layer (type)                Output Shape              Param #   \n",
            "=================================================================\n",
            " dense_7 (Dense)             (None, 8)                 40        \n",
            "                                                                 \n",
            " dense_8 (Dense)             (None, 8)                 72        \n",
            "                                                                 \n",
            " dense_9 (Dense)             (None, 3)                 27        \n",
            "                                                                 \n",
            "=================================================================\n",
            "Total params: 139\n",
            "Trainable params: 139\n",
            "Non-trainable params: 0\n",
            "_________________________________________________________________\n"
          ]
        }
      ]
    },
    {
      "cell_type": "markdown",
      "source": [
        "#손실함수(Loss function)"
      ],
      "metadata": {
        "id": "pP65SegSmd8M"
      }
    },
    {
      "cell_type": "markdown",
      "source": [
        "##MSE(Mean Squared Error)"
      ],
      "metadata": {
        "id": "VGNxpL_Rmldl"
      }
    },
    {
      "cell_type": "code",
      "source": [
        "# model.compile(optimizer = \"adam\", loss =\"mse\", metrics=[\"mse\"])\n",
        "# model.compile(optimizer = \"adam\", loss =tf.keras.losses.MeanSquaredError(), metrics=[\"mse\"])"
      ],
      "metadata": {
        "id": "JyI_Mw56lKqc"
      },
      "execution_count": null,
      "outputs": []
    },
    {
      "cell_type": "markdown",
      "source": [
        "##Binary Cross-Entropy"
      ],
      "metadata": {
        "id": "UbYSKSWgm64y"
      }
    },
    {
      "cell_type": "code",
      "source": [
        "# model.compile(optimizer = \"adam\", loss =\"binary_crossentropy\", metrics=[\"acc\"])\n",
        "# model.compile(optimizer = \"adam\", loss =tf.keras.losses.BinaryCrossentropy(), metrics=[\"acc\"])"
      ],
      "metadata": {
        "id": "dPvMOEKRm5on"
      },
      "execution_count": null,
      "outputs": []
    },
    {
      "cell_type": "markdown",
      "source": [
        "##Categorical Cross-Entropy"
      ],
      "metadata": {
        "id": "8rxBIgHIt9kQ"
      }
    },
    {
      "cell_type": "code",
      "source": [
        "# model.compile(optimizer = \"adam\", loss =\"categorical_crossentropy\", metrics=[\"acc\"])\n",
        "# model.compile(optimizer = \"adam\", loss =tf.keras.losses.CategoricalCrossentropy(), metrics=[\"acc\"])"
      ],
      "metadata": {
        "id": "PwGNJPXfuCOM"
      },
      "execution_count": null,
      "outputs": []
    },
    {
      "cell_type": "markdown",
      "source": [
        "원핫인코딩 과정을 생략하고, 정수값을 가진 레이블에 대해서 다중 클래스 분류를 수행할 경우"
      ],
      "metadata": {
        "id": "jJvrsSpSCGGI"
      }
    },
    {
      "cell_type": "code",
      "source": [
        "# model.compile(optimizer = \"adam\", loss =\"sparse_categorical_crossentropy\", metrics=[\"acc\"])\n",
        "# model.compile(optimizer = \"adam\", loss =tf.keras.losses.SparseCategoricalCrossentropy(), metrics=[\"acc\"])"
      ],
      "metadata": {
        "id": "-iHUghLwB02i"
      },
      "execution_count": null,
      "outputs": []
    },
    {
      "cell_type": "markdown",
      "source": [
        "# 경사 하강법"
      ],
      "metadata": {
        "id": "uk8VPv-Im-sa"
      }
    },
    {
      "cell_type": "markdown",
      "source": [
        "##Batch Size에 따른 경사 하강법(Batch Gradient Descent)"
      ],
      "metadata": {
        "id": "0KucoEGfnJQc"
      }
    },
    {
      "cell_type": "code",
      "source": [
        "# model.fit(X_train, y_train, batch_size=len(X_train))"
      ],
      "metadata": {
        "id": "jV0Gg6D0nVYR"
      },
      "execution_count": null,
      "outputs": []
    },
    {
      "cell_type": "markdown",
      "source": [
        "##확률적 경사 하강법(Stochastic Gradient Descent,SGD)"
      ],
      "metadata": {
        "id": "UbzagUVvnh-i"
      }
    },
    {
      "cell_type": "code",
      "source": [
        "# model.fit(X_train, y_train, batch_size=1)"
      ],
      "metadata": {
        "id": "-KTDHuCenhJF"
      },
      "execution_count": null,
      "outputs": []
    },
    {
      "cell_type": "markdown",
      "source": [
        "##미니 배치 경사 하강법(Mini-Batch Gradient Descent)"
      ],
      "metadata": {
        "id": "S9nssZIFnzCf"
      }
    },
    {
      "cell_type": "code",
      "source": [
        "# model.fit(X_train, y_train, batch_size=128) 2의 제곱\n",
        "# batch_size 지정하지 않을 때 기본값: 32"
      ],
      "metadata": {
        "id": "jZvkcF1-n680"
      },
      "execution_count": null,
      "outputs": []
    },
    {
      "cell_type": "markdown",
      "source": [
        "#옵티마이저"
      ],
      "metadata": {
        "id": "HYPteWN0oUCl"
      }
    },
    {
      "cell_type": "markdown",
      "source": [
        "Momentum"
      ],
      "metadata": {
        "id": "4pmABF0Ropwa"
      }
    },
    {
      "cell_type": "code",
      "source": [
        "# tk.keras.optimizers.SGD(lr=0.01, momentum=0.9)"
      ],
      "metadata": {
        "id": "3b6BkzAmoIAm"
      },
      "execution_count": null,
      "outputs": []
    },
    {
      "cell_type": "markdown",
      "source": [
        "Adagrad"
      ],
      "metadata": {
        "id": "NPXxcPlzo0-Q"
      }
    },
    {
      "cell_type": "code",
      "source": [
        "# tk.keras.optimizers.Adagrad(lr=0.01, epsilon=1e-6)"
      ],
      "metadata": {
        "id": "k9B4JB6fo0L6"
      },
      "execution_count": null,
      "outputs": []
    },
    {
      "cell_type": "markdown",
      "source": [
        "RMSprop"
      ],
      "metadata": {
        "id": "sGbc9W86pBwO"
      }
    },
    {
      "cell_type": "code",
      "source": [
        "# tk.keras.optimizers.RMSprop(lr=0.01, rho=0.9, epsilon=1e-6)"
      ],
      "metadata": {
        "id": "G82HgcOvpA32"
      },
      "execution_count": null,
      "outputs": []
    },
    {
      "cell_type": "markdown",
      "source": [
        "Adam"
      ],
      "metadata": {
        "id": "emgW2g7DpVZl"
      }
    },
    {
      "cell_type": "code",
      "source": [
        "# tf.keras.optimizers.Adam(lr=0.001, beta_1 = 0.9, beta_2=0.999, epsilon=None, decay=0.0,amsgrad=False)\n",
        "# adam = tf.keras.optimizers.Adam(lr=0.001, beta_1 = 0.9, beta_2=0.999, epsilon=None, decay=0.0,amsgrad=False)\n",
        "# model.compile(loss=\"categorical_crossentropy\", optimizer=adam,metrics=[\"acc\"])"
      ],
      "metadata": {
        "id": "iW1tqD1RpUB9"
      },
      "execution_count": null,
      "outputs": []
    },
    {
      "cell_type": "markdown",
      "source": [
        "#신경망 코드 이해하기"
      ],
      "metadata": {
        "id": "G8rtLo0Cx1f2"
      }
    },
    {
      "cell_type": "code",
      "source": [
        "from tensorflow.keras.models import Sequential\n",
        "from tensorflow.keras.layers import Dropout, Dense\n",
        "max_words = 10000\n",
        "num_classes = 46\n",
        "model = Sequential()\n",
        "model.add(Dense(256, input_shape = (max_words,), activation = \"relu\"))\n",
        "model.add(Dropout(0.5)) # 드랍아웃 추가. 비율은 50%\n",
        "model.add(Dense(128, activation = \"relu\"))\n",
        "model.add(Dropout(0.5)) # 드랍아웃 추가. 비율은 50%\n",
        "model.add(Dense(num_classes, activation = \"softmax\"))"
      ],
      "metadata": {
        "id": "pn_ximYdx4Q4"
      },
      "execution_count": null,
      "outputs": []
    },
    {
      "cell_type": "code",
      "source": [
        "from tensorflow.keras.preprocessing.text import Tokenizer\n",
        "from tensorflow.keras.preprocessing.text.sequence import pad_sequences\n",
        "tokenizer = Tokenizer()\n",
        "train_text = \"The earth is an awesome place live\"\n",
        "\n",
        "# 단어 집합 생성\n",
        "tokenizer.fit_on_texts([train_text])\n",
        "\n",
        "# 레이블 인코딩\n",
        "sub_text = \"The earth is an great place live\"\n",
        "sequences"
      ],
      "metadata": {
        "id": "i41s-tpky5rz"
      },
      "execution_count": null,
      "outputs": []
    },
    {
      "cell_type": "markdown",
      "source": [
        "선형회귀 구현 Sequential vs Functional"
      ],
      "metadata": {
        "id": "cADYzQAQglJD"
      }
    },
    {
      "cell_type": "code",
      "source": [
        "import numpy as np\n",
        "import matplotlib.pyplot as plt\n",
        "from tensorflow.keras.models import Sequential\n",
        "from tensorflow.keras.layers import Dense\n",
        "from tensorflow.keras import optimizers\n",
        "x=[1,2,3,4,5,6,7,8,9]\n",
        "y=[11,22,33,44,53,66,77,87,95]\n",
        "\n",
        "model = Sequential()\n",
        "model.add(Dense(1, input_dim=1, activation='linear'))\n",
        "sgd=optimizers.SGD(Ir=0.01)\n",
        "model.compile(optimizer=sgd, loss='mse', metrics=['mse'])\n",
        "model.fit(x,y epochs=300)"
      ],
      "metadata": {
        "colab": {
          "base_uri": "https://localhost:8080/",
          "height": 136
        },
        "id": "s0W-ETSMgipV",
        "outputId": "6ac1344d-3357-44f9-e0e4-e26e4c5f19bc"
      },
      "execution_count": null,
      "outputs": [
        {
          "output_type": "error",
          "ename": "SyntaxError",
          "evalue": "ignored",
          "traceback": [
            "\u001b[0;36m  File \u001b[0;32m\"<ipython-input-5-d9f44c816fb2>\"\u001b[0;36m, line \u001b[0;32m13\u001b[0m\n\u001b[0;31m    model.fit(x,y epochs=300)\u001b[0m\n\u001b[0m                       ^\u001b[0m\n\u001b[0;31mSyntaxError\u001b[0m\u001b[0;31m:\u001b[0m invalid syntax\n"
          ]
        }
      ]
    },
    {
      "cell_type": "code",
      "source": [
        ""
      ],
      "metadata": {
        "id": "FxFCnZFGNy7y"
      },
      "execution_count": null,
      "outputs": []
    }
  ]
}