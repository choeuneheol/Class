{
  "nbformat": 4,
  "nbformat_minor": 0,
  "metadata": {
    "colab": {
      "name": "정규표현식.ipynb",
      "provenance": [],
      "collapsed_sections": [
        "tfLLiNmZFKAq",
        "v9yQdcPsMV6w",
        "Q5eePE37NlWM"
      ],
      "authorship_tag": "ABX9TyNfhszlkE8TBi9YvGOm1uUz"
    },
    "kernelspec": {
      "name": "python3",
      "display_name": "Python 3"
    },
    "language_info": {
      "name": "python"
    }
  },
  "cells": [
    {
      "cell_type": "markdown",
      "source": [
        "# 정규표현식"
      ],
      "metadata": {
        "id": "GWktc8jWFCNQ"
      }
    },
    {
      "cell_type": "code",
      "execution_count": 95,
      "metadata": {
        "id": "1x3ZlT2B7D1A"
      },
      "outputs": [],
      "source": [
        "import re "
      ]
    },
    {
      "cell_type": "code",
      "source": [
        "text = 'I was wondering if anyone out there could enlighten me on this car'"
      ],
      "metadata": {
        "id": "4dXp3n7t7lbD"
      },
      "execution_count": 96,
      "outputs": []
    },
    {
      "cell_type": "code",
      "source": [
        "ab = re.compile(\"ab..\") # ab로 시작되는 4글자 를 찾아달라"
      ],
      "metadata": {
        "id": "3HpDS_Bp8AvF"
      },
      "execution_count": 97,
      "outputs": []
    },
    {
      "cell_type": "code",
      "source": [
        "ab.search(\"kkkkkkkkkkkabcccccccccc\") #search는 중간에 있든 어디있든 위치에 상관없음"
      ],
      "metadata": {
        "colab": {
          "base_uri": "https://localhost:8080/"
        },
        "id": "N5dPWgyG8nt6",
        "outputId": "65085356-502e-4ea8-bc07-229737e674b4"
      },
      "execution_count": 98,
      "outputs": [
        {
          "output_type": "execute_result",
          "data": {
            "text/plain": [
              "<re.Match object; span=(11, 15), match='abcc'>"
            ]
          },
          "metadata": {},
          "execution_count": 98
        }
      ]
    },
    {
      "cell_type": "code",
      "source": [
        "text.split()"
      ],
      "metadata": {
        "colab": {
          "base_uri": "https://localhost:8080/"
        },
        "id": "WJSfUWOi8u06",
        "outputId": "e287738c-51f4-486f-81b3-dee70ea1ad8e"
      },
      "execution_count": 99,
      "outputs": [
        {
          "output_type": "execute_result",
          "data": {
            "text/plain": [
              "['I',\n",
              " 'was',\n",
              " 'wondering',\n",
              " 'if',\n",
              " 'anyone',\n",
              " 'out',\n",
              " 'there',\n",
              " 'could',\n",
              " 'enlighten',\n",
              " 'me',\n",
              " 'on',\n",
              " 'this',\n",
              " 'car']"
            ]
          },
          "metadata": {},
          "execution_count": 99
        }
      ]
    },
    {
      "cell_type": "code",
      "source": [
        "print(ab.match(\"kdabc\")) # match는 맨앞에서 부터 시작해야함\n",
        "print(ab.match(\"abckd\")) # match는 맨앞에서 부터 시작해야함"
      ],
      "metadata": {
        "colab": {
          "base_uri": "https://localhost:8080/"
        },
        "id": "c3d4yfvE8zvo",
        "outputId": "5f300438-1909-4b84-8697-66c451d88a5c"
      },
      "execution_count": 100,
      "outputs": [
        {
          "output_type": "stream",
          "name": "stdout",
          "text": [
            "None\n",
            "<re.Match object; span=(0, 4), match='abck'>\n"
          ]
        }
      ]
    },
    {
      "cell_type": "code",
      "source": [
        "shortword = re.compile(r\"\\W*\\b\\w{1,2}\\b\")"
      ],
      "metadata": {
        "id": "GXoWtVRo9a6Z"
      },
      "execution_count": 101,
      "outputs": []
    },
    {
      "cell_type": "code",
      "source": [
        "print(shortword.sub(\"\",text))"
      ],
      "metadata": {
        "colab": {
          "base_uri": "https://localhost:8080/"
        },
        "id": "QSMsEq3o9tVx",
        "outputId": "8e36ebf3-f0aa-4667-9931-dd58debc13c9"
      },
      "execution_count": 102,
      "outputs": [
        {
          "output_type": "stream",
          "name": "stdout",
          "text": [
            " was wondering anyone out there could enlighten this car\n"
          ]
        }
      ]
    },
    {
      "cell_type": "code",
      "source": [
        "# 정규표현식 실습\n",
        "import re\n",
        "r = re.compile(\"a.c\") # a와c사이 한글자\n",
        "r.search(\"kkk\")\n",
        "r.search(\"abc\")"
      ],
      "metadata": {
        "colab": {
          "base_uri": "https://localhost:8080/"
        },
        "id": "VRQqktkG2JWA",
        "outputId": "b6967af4-c1bb-45b6-8af9-ea2be3c4ffef"
      },
      "execution_count": 103,
      "outputs": [
        {
          "output_type": "execute_result",
          "data": {
            "text/plain": [
              "<re.Match object; span=(0, 3), match='abc'>"
            ]
          },
          "metadata": {},
          "execution_count": 103
        }
      ]
    },
    {
      "cell_type": "code",
      "source": [
        "r = re.compile(\"ab?c\") # ?앞의 글자가 있을수도 없을수도 있음\n",
        "r.search(\"abbc\")\n",
        "r.search(\"abc\")\n",
        "r.search(\"ac\")"
      ],
      "metadata": {
        "colab": {
          "base_uri": "https://localhost:8080/"
        },
        "id": "5X-_TpVc2f17",
        "outputId": "449d3de2-9950-4e8a-d8f9-beb60c66c322"
      },
      "execution_count": 104,
      "outputs": [
        {
          "output_type": "execute_result",
          "data": {
            "text/plain": [
              "<re.Match object; span=(0, 2), match='ac'>"
            ]
          },
          "metadata": {},
          "execution_count": 104
        }
      ]
    },
    {
      "cell_type": "code",
      "source": [
        "r = re.compile(\"ab*c\") # *앞의 글자가 없을 수도 여러개 있을 수도 있음, 단 뒤에 글자는 반드시 있어야함\n",
        "r.search(\"a\")\n",
        "r.search(\"ac\")\n",
        "r.search(\"abc\")\n",
        "r.search(\"abbbbc\")"
      ],
      "metadata": {
        "colab": {
          "base_uri": "https://localhost:8080/"
        },
        "id": "f5_LZcLN3Kla",
        "outputId": "9270d3b1-5705-4826-d791-78e36da28460"
      },
      "execution_count": 105,
      "outputs": [
        {
          "output_type": "execute_result",
          "data": {
            "text/plain": [
              "<re.Match object; span=(0, 6), match='abbbbc'>"
            ]
          },
          "metadata": {},
          "execution_count": 105
        }
      ]
    },
    {
      "cell_type": "code",
      "source": [
        "r = re.compile(\"ab+c\") # +앞의 글자가 여러개 있음, 단 적어도 1개는 무조건 있어야함\n",
        "r.search(\"ac\")\n",
        "r.search(\"abc\")\n",
        "r.search(\"abbbbc\")"
      ],
      "metadata": {
        "colab": {
          "base_uri": "https://localhost:8080/"
        },
        "id": "g7OUofzr4L5X",
        "outputId": "14eb4975-bb39-4afe-c429-ca858baaeeb5"
      },
      "execution_count": 106,
      "outputs": [
        {
          "output_type": "execute_result",
          "data": {
            "text/plain": [
              "<re.Match object; span=(0, 6), match='abbbbc'>"
            ]
          },
          "metadata": {},
          "execution_count": 106
        }
      ]
    },
    {
      "cell_type": "code",
      "source": [
        "r = re.compile(\"^ab\") # 해당 글자앞에 아무것도 없어야함\n",
        "r.search(\"bbc\")\n",
        "r.search(\"zab\")\n",
        "r.search(\"abzzzzz\")"
      ],
      "metadata": {
        "colab": {
          "base_uri": "https://localhost:8080/"
        },
        "id": "0zZQfFBk4rqd",
        "outputId": "567c97f4-824b-46c1-824a-2e4dad46c776"
      },
      "execution_count": 107,
      "outputs": [
        {
          "output_type": "execute_result",
          "data": {
            "text/plain": [
              "<re.Match object; span=(0, 2), match='ab'>"
            ]
          },
          "metadata": {},
          "execution_count": 107
        }
      ]
    },
    {
      "cell_type": "code",
      "source": [
        "r = re.compile(\"ab{2}c\") # {n}앞의 글자가 n개만 있어야함\n",
        "r.search(\"ac\")\n",
        "r.search(\"abc\")\n",
        "r.search(\"abbbbbc\")\n",
        "r.search(\"abbc\")"
      ],
      "metadata": {
        "colab": {
          "base_uri": "https://localhost:8080/"
        },
        "id": "L6mccrLO5M5m",
        "outputId": "2cfdab4e-1208-414f-e3ba-7ffb48108000"
      },
      "execution_count": 108,
      "outputs": [
        {
          "output_type": "execute_result",
          "data": {
            "text/plain": [
              "<re.Match object; span=(0, 4), match='abbc'>"
            ]
          },
          "metadata": {},
          "execution_count": 108
        }
      ]
    },
    {
      "cell_type": "code",
      "source": [
        "r = re.compile(\"ab{2,8}c\") # {a,b}앞의 글자가 a~b개만 있어야함\n",
        "r.search(\"ac\")\n",
        "r.search(\"abc\")\n",
        "r.search(\"abbbbbbbbbc\")\n",
        "r.search(\"abbc\")\n",
        "r.search(\"abbbbbbbbc\")"
      ],
      "metadata": {
        "colab": {
          "base_uri": "https://localhost:8080/"
        },
        "id": "0L9VaLKw51fp",
        "outputId": "e289d88c-30b0-4afb-af0b-8437fbd6edf9"
      },
      "execution_count": 109,
      "outputs": [
        {
          "output_type": "execute_result",
          "data": {
            "text/plain": [
              "<re.Match object; span=(0, 10), match='abbbbbbbbc'>"
            ]
          },
          "metadata": {},
          "execution_count": 109
        }
      ]
    },
    {
      "cell_type": "code",
      "source": [
        "r = re.compile(\"[abc]\") # 가장 먼저 나오는 a혹은b혹은c\n",
        "r.search(\"zzz\")\n",
        "r.search(\"a\")\n",
        "r.search(\"aaaaaaaa\")\n",
        "r.search(\"baac\")\n",
        "# r.search(\"ab\")"
      ],
      "metadata": {
        "colab": {
          "base_uri": "https://localhost:8080/"
        },
        "id": "4s57oyxV6JgQ",
        "outputId": "32197f51-ded0-4481-bc09-1e8a147c7bc8"
      },
      "execution_count": 110,
      "outputs": [
        {
          "output_type": "execute_result",
          "data": {
            "text/plain": [
              "<re.Match object; span=(0, 1), match='b'>"
            ]
          },
          "metadata": {},
          "execution_count": 110
        }
      ]
    },
    {
      "cell_type": "code",
      "source": [
        "r = re.compile(\"[a-c]\") # a부터c까지"
      ],
      "metadata": {
        "id": "6tjuxgWJ6vp8"
      },
      "execution_count": 111,
      "outputs": []
    },
    {
      "cell_type": "code",
      "source": [
        "r = re.compile(\"[^abc]\") # abc를 제외한 나머지 문자로 이루어진 텍스트를 추출\n",
        "r.search(\"a\")\n",
        "r.search(\"ab\")\n",
        "r.search(\"b\")\n",
        "r.search(\"d\")\n",
        "r.search(\"ki\")"
      ],
      "metadata": {
        "colab": {
          "base_uri": "https://localhost:8080/"
        },
        "id": "qLBaejqc7PVF",
        "outputId": "1c663321-268d-4e84-d6d8-bc508411e4bf"
      },
      "execution_count": 112,
      "outputs": [
        {
          "output_type": "execute_result",
          "data": {
            "text/plain": [
              "<re.Match object; span=(0, 1), match='k'>"
            ]
          },
          "metadata": {},
          "execution_count": 112
        }
      ]
    },
    {
      "cell_type": "code",
      "source": [
        "r = re.compile(\"ab.\")\n",
        "r.match(\"nabc\")\n",
        "r.match(\"nabc\")\n",
        "r.match(\"abcn\") #match는 맨앞에서 시작해야지만 매칭이 됨"
      ],
      "metadata": {
        "colab": {
          "base_uri": "https://localhost:8080/"
        },
        "id": "uoT4nQEq78BX",
        "outputId": "4ac69e6b-c0fb-4374-9a52-2109ee9f7d2a"
      },
      "execution_count": 113,
      "outputs": [
        {
          "output_type": "execute_result",
          "data": {
            "text/plain": [
              "<re.Match object; span=(0, 3), match='abc'>"
            ]
          },
          "metadata": {},
          "execution_count": 113
        }
      ]
    },
    {
      "cell_type": "code",
      "source": [
        "text = \"\"\"이름 : 김철수\n",
        "전화번호 : 010 - 1234 - 1234\n",
        "나이 : 30\n",
        "성별 : 남\"\"\"\n",
        "re.findall(\"\\d+\",text) # 숫자는 \\d+\n",
        "re.findall(\"\\d+\",\"자1연2어3처4리5\")"
      ],
      "metadata": {
        "colab": {
          "base_uri": "https://localhost:8080/"
        },
        "id": "0LqknL9W8UkM",
        "outputId": "dfabbb26-22b0-44bb-f6d5-5b730a74e7d0"
      },
      "execution_count": 114,
      "outputs": [
        {
          "output_type": "execute_result",
          "data": {
            "text/plain": [
              "['1', '2', '3', '4', '5']"
            ]
          },
          "metadata": {},
          "execution_count": 114
        }
      ]
    },
    {
      "cell_type": "code",
      "source": [
        "text = \"Regular expression : A regular expression, regex or regexp[1](sometimes called a rational expression)[2][3] is, in theoretical computer science and formal language theory, a sequence of characters that define a search pattern.\"\n",
        "p_text = re.sub(\"[^a-zA-Z]\",\" \",text)\n",
        "print(p_text)"
      ],
      "metadata": {
        "colab": {
          "base_uri": "https://localhost:8080/"
        },
        "id": "cECTJ0MZ9cgi",
        "outputId": "9ae21a2c-867b-4cc2-9fdf-e95c58cc9f53"
      },
      "execution_count": 115,
      "outputs": [
        {
          "output_type": "stream",
          "name": "stdout",
          "text": [
            "Regular expression   A regular expression  regex or regexp    sometimes called a rational expression        is  in theoretical computer science and formal language theory  a sequence of characters that define a search pattern \n"
          ]
        }
      ]
    },
    {
      "cell_type": "markdown",
      "source": [
        "##정규표현식 전처리 실습"
      ],
      "metadata": {
        "id": "oGZQBIpeEIPA"
      }
    },
    {
      "cell_type": "code",
      "source": [
        "text = \"\"\"100 John     PROF\n",
        "101 James     STUD\n",
        "102 Mac     STUD\"\"\"\n",
        "# 공백 기준 분리\n",
        "re.split(\"\\s+\", text) # \\s는 스페이스를 나타내고, \\s+는 여러개의 스페이스를 나타냄"
      ],
      "metadata": {
        "colab": {
          "base_uri": "https://localhost:8080/"
        },
        "id": "hYqXAvd1ELkH",
        "outputId": "e52455c9-4f50-40de-a9c1-2b62c27beb1d"
      },
      "execution_count": 116,
      "outputs": [
        {
          "output_type": "execute_result",
          "data": {
            "text/plain": [
              "['100', 'John', 'PROF', '101', 'James', 'STUD', '102', 'Mac', 'STUD']"
            ]
          },
          "metadata": {},
          "execution_count": 116
        }
      ]
    },
    {
      "cell_type": "code",
      "source": [
        "# 숫자만 추출\n",
        "re.findall(\"\\d+\", text)"
      ],
      "metadata": {
        "colab": {
          "base_uri": "https://localhost:8080/"
        },
        "id": "cVIS8bVmFMe1",
        "outputId": "77dff3e1-6403-4edd-ce2c-9740de2d9c22"
      },
      "execution_count": 117,
      "outputs": [
        {
          "output_type": "execute_result",
          "data": {
            "text/plain": [
              "['100', '101', '102']"
            ]
          },
          "metadata": {},
          "execution_count": 117
        }
      ]
    },
    {
      "cell_type": "code",
      "source": [
        "# 텍스트가 대문자인 행 추출\n",
        "re.findall(\"[A-Z]{4}\", text) # 대문자가 연속해서 4번 나오는 경우"
      ],
      "metadata": {
        "colab": {
          "base_uri": "https://localhost:8080/"
        },
        "id": "vMGGBbBFFMbZ",
        "outputId": "f594e93e-8f55-4083-fac7-ef6d241ffa4d"
      },
      "execution_count": 118,
      "outputs": [
        {
          "output_type": "execute_result",
          "data": {
            "text/plain": [
              "['PROF', 'STUD', 'STUD']"
            ]
          },
          "metadata": {},
          "execution_count": 118
        }
      ]
    },
    {
      "cell_type": "code",
      "source": [
        "# 처음만 대문자 추출\n",
        "re.findall(\"[A-Z][a-z]+\", text)"
      ],
      "metadata": {
        "colab": {
          "base_uri": "https://localhost:8080/"
        },
        "id": "H4HOdtrWF_ag",
        "outputId": "5542ef32-c157-4d41-bbf1-35f13427bf7d"
      },
      "execution_count": 119,
      "outputs": [
        {
          "output_type": "execute_result",
          "data": {
            "text/plain": [
              "['John', 'James', 'Mac']"
            ]
          },
          "metadata": {},
          "execution_count": 119
        }
      ]
    },
    {
      "cell_type": "code",
      "source": [
        "from nltk.tokenize import RegexpTokenizer\n",
        "text = \"Don't be fooled by the dark sounding name, Mr.Jone's Orphanage is as cheery as cheery goes for a pastry shop\"\n",
        "\n",
        "# 특수문자 혹은 공백 기준 단어 및 숫자 분리\n",
        "tokenizer1 = RegexpTokenizer(\"[\\w]+\") # 문자 또는 숫자가 한개 이상, .이나 '와 같은 특수 문자를 기준으로도 분리가 되는 것이 확인 가능\n",
        "print(tokenizer1.tokenize(text))\n",
        "\n",
        "# 공백 기준 단어 분리\n",
        "tokenizer2 = RegexpTokenizer(\"\\s+\", gaps = True) \n",
        "print(tokenizer2.tokenize(text))\n",
        "\n",
        "tokenizer3 = RegexpTokenizer(\"\\s+\") #토큰화 시키는 기준점을 나타냄\n",
        "print(tokenizer3.tokenize(text))"
      ],
      "metadata": {
        "colab": {
          "base_uri": "https://localhost:8080/"
        },
        "id": "CpHAFekRGgjx",
        "outputId": "25e996a1-13f8-4fec-aacc-f07711dbca53"
      },
      "execution_count": 120,
      "outputs": [
        {
          "output_type": "stream",
          "name": "stdout",
          "text": [
            "['Don', 't', 'be', 'fooled', 'by', 'the', 'dark', 'sounding', 'name', 'Mr', 'Jone', 's', 'Orphanage', 'is', 'as', 'cheery', 'as', 'cheery', 'goes', 'for', 'a', 'pastry', 'shop']\n",
            "[\"Don't\", 'be', 'fooled', 'by', 'the', 'dark', 'sounding', 'name,', \"Mr.Jone's\", 'Orphanage', 'is', 'as', 'cheery', 'as', 'cheery', 'goes', 'for', 'a', 'pastry', 'shop']\n",
            "[' ', ' ', ' ', ' ', ' ', ' ', ' ', ' ', ' ', ' ', ' ', ' ', ' ', ' ', ' ', ' ', ' ', ' ', ' ']\n"
          ]
        }
      ]
    },
    {
      "cell_type": "markdown",
      "source": [
        "## 텍스트 레이블 인코딩"
      ],
      "metadata": {
        "id": "1gb1PqhoIcj1"
      }
    },
    {
      "cell_type": "code",
      "source": [
        "from nltk.tokenize import sent_tokenize\n",
        "from nltk.tokenize import word_tokenize\n",
        "from nltk.corpus import stopwords\n",
        "\n",
        "raw_text = \"A barber is a person? a barber is good person. a barber is huge person. he Knew A Secret! The Secret He Kept is huge secret. Huge secret. His barber kept his word. a barber kept his word. His barber kept his secret. But keeping and keeping such a huge secret to himself was driving the barber crazy, the barber went up a huge mountain.\""
      ],
      "metadata": {
        "id": "WB9ARK83IfuQ"
      },
      "execution_count": 121,
      "outputs": []
    },
    {
      "cell_type": "code",
      "source": [
        "sentences = sent_tokenize(raw_text) # 마침표(? ! .)를 기준으로 분리됨\n",
        "print(sentences)"
      ],
      "metadata": {
        "colab": {
          "base_uri": "https://localhost:8080/"
        },
        "id": "_uMWdrj_I6mI",
        "outputId": "64b51315-da2e-4e4f-be46-57b13345d83e"
      },
      "execution_count": 122,
      "outputs": [
        {
          "output_type": "stream",
          "name": "stdout",
          "text": [
            "['A barber is a person?', 'a barber is good person.', 'a barber is huge person.', 'he Knew A Secret!', 'The Secret He Kept is huge secret.', 'Huge secret.', 'His barber kept his word.', 'a barber kept his word.', 'His barber kept his secret.', 'But keeping and keeping such a huge secret to himself was driving the barber crazy, the barber went up a huge mountain.']\n"
          ]
        }
      ]
    },
    {
      "cell_type": "code",
      "source": [
        "vocab = {}\n",
        "preprocessed_sentences = []\n",
        "stop_words = set(stopwords.words(\"english\"))\n",
        "for sentence in sentences:\n",
        "  tokenized_sentence = word_tokenize(sentence)\n",
        "  result = []\n",
        "\n",
        "  for word in tokenized_sentence:\n",
        "    word = word.lower()\n",
        "    if word not in stop_words:\n",
        "      if len(word) > 2:\n",
        "        result.append(word)\n",
        "      if word not in vocab:\n",
        "        vocab[word] = 0\n",
        "      vocab[word] += 1\n",
        "\n",
        "  preprocessed_sentences.append(result)\n",
        "print(vocab)\n",
        "print(vocab[\"barber\"])"
      ],
      "metadata": {
        "colab": {
          "base_uri": "https://localhost:8080/"
        },
        "id": "m7tVo5WsJVBW",
        "outputId": "102c4cdc-abdf-46e6-b106-0c531cdf915d"
      },
      "execution_count": 123,
      "outputs": [
        {
          "output_type": "stream",
          "name": "stdout",
          "text": [
            "{'barber': 8, 'person': 3, '?': 1, 'good': 1, '.': 8, 'huge': 5, 'knew': 1, 'secret': 6, '!': 1, 'kept': 4, 'word': 2, 'keeping': 2, 'driving': 1, 'crazy': 1, ',': 1, 'went': 1, 'mountain': 1}\n",
            "8\n"
          ]
        }
      ]
    },
    {
      "cell_type": "markdown",
      "source": [
        "# 표제어 추출"
      ],
      "metadata": {
        "id": "tfLLiNmZFKAq"
      }
    },
    {
      "cell_type": "markdown",
      "source": [
        "Lemmatization 표제어 추출(사전형 단어 찾기)\\\n",
        "am/are/is -> be\\\n",
        "단어는 언간+접사\\\n",
        "dogs -> dog + s\n"
      ],
      "metadata": {
        "id": "e2p1ziJpBPR5"
      }
    },
    {
      "cell_type": "code",
      "source": [
        "from nltk.stem import WordNetLemmatizer"
      ],
      "metadata": {
        "id": "wnLZE98d9zmE"
      },
      "execution_count": 124,
      "outputs": []
    },
    {
      "cell_type": "code",
      "source": [
        "lemmatizer = WordNetLemmatizer()"
      ],
      "metadata": {
        "id": "PzuI-98dC2cx"
      },
      "execution_count": 125,
      "outputs": []
    },
    {
      "cell_type": "code",
      "source": [
        "import nltk\n",
        "nltk.download(\"wordnet\")\n",
        "nltk.download('omw-1.4')\n",
        "nltk.download('punkt')\n",
        "nltk.download('stopwords')"
      ],
      "metadata": {
        "colab": {
          "base_uri": "https://localhost:8080/"
        },
        "id": "63ceWjEKDsl-",
        "outputId": "f9bf0363-fcff-40a0-d783-5ddacf717e32"
      },
      "execution_count": 126,
      "outputs": [
        {
          "output_type": "stream",
          "name": "stderr",
          "text": [
            "[nltk_data] Downloading package wordnet to /root/nltk_data...\n",
            "[nltk_data]   Package wordnet is already up-to-date!\n",
            "[nltk_data] Downloading package omw-1.4 to /root/nltk_data...\n",
            "[nltk_data]   Package omw-1.4 is already up-to-date!\n",
            "[nltk_data] Downloading package punkt to /root/nltk_data...\n",
            "[nltk_data]   Package punkt is already up-to-date!\n",
            "[nltk_data] Downloading package stopwords to /root/nltk_data...\n",
            "[nltk_data]   Package stopwords is already up-to-date!\n"
          ]
        },
        {
          "output_type": "execute_result",
          "data": {
            "text/plain": [
              "True"
            ]
          },
          "metadata": {},
          "execution_count": 126
        }
      ]
    },
    {
      "cell_type": "code",
      "source": [
        "words = [\"have\", \"going\", \"love\", \"lives\", \"dies\", \"watched\", \"has\"]\n",
        "print(\"표제어 추출 전 :\", words)\n",
        "print(\"표제어 추출 후 :\", [lemmatizer.lemmatize(word) for word in words])"
      ],
      "metadata": {
        "colab": {
          "base_uri": "https://localhost:8080/"
        },
        "id": "3-XURT1BC954",
        "outputId": "7cbe0997-2b19-4893-ca01-823d46403ede"
      },
      "execution_count": 127,
      "outputs": [
        {
          "output_type": "stream",
          "name": "stdout",
          "text": [
            "표제어 추출 전 : ['have', 'going', 'love', 'lives', 'dies', 'watched', 'has']\n",
            "표제어 추출 후 : ['have', 'going', 'love', 'life', 'dy', 'watched', 'ha']\n"
          ]
        }
      ]
    },
    {
      "cell_type": "code",
      "source": [
        "lemmatizer.lemmatize(\"dies\", \"v\") # \"v\"는 동사형\n",
        "# 품사를 입력해주지 않으면 어색해지는 경우가 종종생김"
      ],
      "metadata": {
        "colab": {
          "base_uri": "https://localhost:8080/",
          "height": 0
        },
        "id": "yaIdaRwNDfky",
        "outputId": "78037145-3abe-437b-b68c-4ce8ee2accd4"
      },
      "execution_count": 128,
      "outputs": [
        {
          "output_type": "execute_result",
          "data": {
            "text/plain": [
              "'die'"
            ],
            "application/vnd.google.colaboratory.intrinsic+json": {
              "type": "string"
            }
          },
          "metadata": {},
          "execution_count": 128
        }
      ]
    },
    {
      "cell_type": "code",
      "source": [
        "lemmatizer.lemmatize(\"watched\", \"v\")"
      ],
      "metadata": {
        "colab": {
          "base_uri": "https://localhost:8080/",
          "height": 0
        },
        "id": "nCqnQ49QE3_l",
        "outputId": "1df9360a-d8cb-4d43-d2e1-644607dbe91c"
      },
      "execution_count": 129,
      "outputs": [
        {
          "output_type": "execute_result",
          "data": {
            "text/plain": [
              "'watch'"
            ],
            "application/vnd.google.colaboratory.intrinsic+json": {
              "type": "string"
            }
          },
          "metadata": {},
          "execution_count": 129
        }
      ]
    },
    {
      "cell_type": "code",
      "source": [
        "lemmatizer.lemmatize(\"has\", \"v\")"
      ],
      "metadata": {
        "colab": {
          "base_uri": "https://localhost:8080/",
          "height": 0
        },
        "id": "rPfTq8QGFZB9",
        "outputId": "d764e679-fa25-4991-fc6b-88d0eb78ad2d"
      },
      "execution_count": 130,
      "outputs": [
        {
          "output_type": "execute_result",
          "data": {
            "text/plain": [
              "'have'"
            ],
            "application/vnd.google.colaboratory.intrinsic+json": {
              "type": "string"
            }
          },
          "metadata": {},
          "execution_count": 130
        }
      ]
    },
    {
      "cell_type": "markdown",
      "source": [
        "stemming 어간 추출\\\n",
        "Porter Algorithm\\\n",
        "Lancaster Stemmer Algorithm"
      ],
      "metadata": {
        "id": "IWHcEpAhGynf"
      }
    },
    {
      "cell_type": "code",
      "source": [
        "sentence = \"This was not the map we found in Bill Bones's chest, but an accurate copy, complete in all things--names and heights and soundings--with the single exception of the red crosses and the written notes.\""
      ],
      "metadata": {
        "id": "hxAyDujmGx9m"
      },
      "execution_count": 131,
      "outputs": []
    },
    {
      "cell_type": "code",
      "source": [
        "from nltk.stem import PorterStemmer # 어간과 어미를 분리하는 클래스\n",
        "from nltk.stem import LancasterStemmer\n",
        "from nltk.tokenize import word_tokenize\n",
        "\n",
        "p_stemmer = PorterStemmer()\n",
        "l_stemmer = LancasterStemmer()\n",
        "\n",
        "tokenized_sentence = word_tokenize(sentence)"
      ],
      "metadata": {
        "id": "JUpHSJCSIIin"
      },
      "execution_count": 132,
      "outputs": []
    },
    {
      "cell_type": "code",
      "source": [
        "tokenized_sentence"
      ],
      "metadata": {
        "colab": {
          "base_uri": "https://localhost:8080/"
        },
        "id": "RSxc_5b1Iosn",
        "outputId": "5ed6af83-9df5-4037-cad2-ccb93dc1ebcf"
      },
      "execution_count": 133,
      "outputs": [
        {
          "output_type": "execute_result",
          "data": {
            "text/plain": [
              "['This',\n",
              " 'was',\n",
              " 'not',\n",
              " 'the',\n",
              " 'map',\n",
              " 'we',\n",
              " 'found',\n",
              " 'in',\n",
              " 'Bill',\n",
              " 'Bones',\n",
              " \"'s\",\n",
              " 'chest',\n",
              " ',',\n",
              " 'but',\n",
              " 'an',\n",
              " 'accurate',\n",
              " 'copy',\n",
              " ',',\n",
              " 'complete',\n",
              " 'in',\n",
              " 'all',\n",
              " 'things',\n",
              " '--',\n",
              " 'names',\n",
              " 'and',\n",
              " 'heights',\n",
              " 'and',\n",
              " 'soundings',\n",
              " '--',\n",
              " 'with',\n",
              " 'the',\n",
              " 'single',\n",
              " 'exception',\n",
              " 'of',\n",
              " 'the',\n",
              " 'red',\n",
              " 'crosses',\n",
              " 'and',\n",
              " 'the',\n",
              " 'written',\n",
              " 'notes',\n",
              " '.']"
            ]
          },
          "metadata": {},
          "execution_count": 133
        }
      ]
    },
    {
      "cell_type": "code",
      "source": [
        "print([p_stemmer.stem(word) for word in tokenized_sentence])\n",
        "print([l_stemmer.stem(word) for word in tokenized_sentence])"
      ],
      "metadata": {
        "colab": {
          "base_uri": "https://localhost:8080/"
        },
        "id": "d0ECd3xGJII0",
        "outputId": "f16b5614-5c64-412e-cc6a-c0f1798e59dd"
      },
      "execution_count": 134,
      "outputs": [
        {
          "output_type": "stream",
          "name": "stdout",
          "text": [
            "['thi', 'wa', 'not', 'the', 'map', 'we', 'found', 'in', 'bill', 'bone', \"'s\", 'chest', ',', 'but', 'an', 'accur', 'copi', ',', 'complet', 'in', 'all', 'thing', '--', 'name', 'and', 'height', 'and', 'sound', '--', 'with', 'the', 'singl', 'except', 'of', 'the', 'red', 'cross', 'and', 'the', 'written', 'note', '.']\n",
            "['thi', 'was', 'not', 'the', 'map', 'we', 'found', 'in', 'bil', 'bon', \"'s\", 'chest', ',', 'but', 'an', 'acc', 'cop', ',', 'complet', 'in', 'al', 'thing', '--', 'nam', 'and', 'height', 'and', 'sound', '--', 'with', 'the', 'singl', 'exceiv', 'of', 'the', 'red', 'cross', 'and', 'the', 'writ', 'not', '.']\n"
          ]
        }
      ]
    },
    {
      "cell_type": "markdown",
      "source": [
        "# 한국어 어간 비교\n",
        "5언 9품사\n",
        "언 : 품사\\\n",
        "체언 : 명사, 대명사, 수사\\\n",
        "수식언 : 관형사, 부사\\\n",
        "관계언 : 조사\\\n",
        "독립언 : 감탄사\\\n",
        "용언 : 동사, 형용사\\\n",
        "규칙 활용\n"
      ],
      "metadata": {
        "id": "v9yQdcPsMV6w"
      }
    },
    {
      "cell_type": "markdown",
      "source": [
        "# 불용어\n",
        "Stopword 불용어\\\n",
        "큰 의미가 없는 단어 토큰을 제거하는 작업\\\n",
        "I, my, me, over, 조사, 접미사 등\\\n",
        "직접정의\\\n",
        "영어 및 한국어 불용어 실습"
      ],
      "metadata": {
        "id": "Q5eePE37NlWM"
      }
    },
    {
      "cell_type": "code",
      "source": [
        "pip install konlpy"
      ],
      "metadata": {
        "colab": {
          "base_uri": "https://localhost:8080/"
        },
        "id": "lK0UvM6lnFKQ",
        "outputId": "01bff463-733e-45d6-f4a9-d375089e2fc7"
      },
      "execution_count": 135,
      "outputs": [
        {
          "output_type": "stream",
          "name": "stdout",
          "text": [
            "Looking in indexes: https://pypi.org/simple, https://us-python.pkg.dev/colab-wheels/public/simple/\n",
            "Requirement already satisfied: konlpy in /usr/local/lib/python3.7/dist-packages (0.6.0)\n",
            "Requirement already satisfied: numpy>=1.6 in /usr/local/lib/python3.7/dist-packages (from konlpy) (1.21.6)\n",
            "Requirement already satisfied: JPype1>=0.7.0 in /usr/local/lib/python3.7/dist-packages (from konlpy) (1.4.0)\n",
            "Requirement already satisfied: lxml>=4.1.0 in /usr/local/lib/python3.7/dist-packages (from konlpy) (4.2.6)\n",
            "Requirement already satisfied: typing-extensions in /usr/local/lib/python3.7/dist-packages (from JPype1>=0.7.0->konlpy) (4.2.0)\n"
          ]
        }
      ]
    },
    {
      "cell_type": "code",
      "source": [
        "from nltk.corpus import stopwords # corpus:말뭉치\n",
        "from nltk.tokenize import word_tokenize # 토큰화\n",
        "from konlpy.tag import Okt\n",
        "\n",
        "stop_words_list = stopwords.words(\"english\")\n",
        "print(len(stop_words_list))\n",
        "print(stop_words_list[:10])"
      ],
      "metadata": {
        "id": "GLZ6ucCUJob_",
        "colab": {
          "base_uri": "https://localhost:8080/"
        },
        "outputId": "e99a655a-4332-4cef-8f6a-5f4dc26c3b3f"
      },
      "execution_count": 136,
      "outputs": [
        {
          "output_type": "stream",
          "name": "stdout",
          "text": [
            "179\n",
            "['i', 'me', 'my', 'myself', 'we', 'our', 'ours', 'ourselves', 'you', \"you're\"]\n"
          ]
        }
      ]
    },
    {
      "cell_type": "code",
      "source": [
        "# 불용어 제거\n",
        "example = \"Family is not an important thing. It's everything.\"\n",
        "stop_words = set(stopwords.words(\"english\")) # 중복되는 요소가 있을 수도 있으니 set\n",
        "word_tokens = word_tokenize(example)"
      ],
      "metadata": {
        "id": "6Z0t0xe6m2Mb"
      },
      "execution_count": 137,
      "outputs": []
    },
    {
      "cell_type": "code",
      "source": [
        "print(stop_words)"
      ],
      "metadata": {
        "colab": {
          "base_uri": "https://localhost:8080/"
        },
        "id": "bOgG7U8Fp0aQ",
        "outputId": "5c29a72e-155c-4d81-c95f-e392ae155477"
      },
      "execution_count": 138,
      "outputs": [
        {
          "output_type": "stream",
          "name": "stdout",
          "text": [
            "{'himself', 'why', 'haven', 'needn', 'had', 'itself', 'there', 'on', 'him', 'mustn', 'through', 'here', \"shouldn't\", 'wouldn', 'then', 'not', 'more', 'up', 'the', 'hasn', 'we', 'than', 'her', 'or', 'will', 'where', 'which', \"shan't\", 'out', 'its', 'off', 'ours', 'further', 'mightn', 'again', 'do', 'should', 'during', 'when', \"needn't\", 'd', \"you've\", \"doesn't\", \"should've\", 'under', 'that', 'their', 'are', 'me', \"that'll\", 'before', 'against', \"didn't\", 'they', 'no', \"don't\", 'both', 'after', \"she's\", 'were', 'theirs', 'into', 'myself', 'won', 'his', \"hasn't\", 'too', 'such', 'over', 'y', \"aren't\", 'ma', 'whom', 'from', 'yourselves', 'was', 'this', 'what', 'doesn', 'down', \"you'll\", 'some', 'being', 'an', 'll', 'having', 'each', 'does', \"won't\", 'hadn', \"mightn't\", 'don', 'yourself', 'only', 'them', \"couldn't\", 'same', 'did', \"mustn't\", 'very', 'is', 'other', 'ourselves', 'have', 'in', 'how', \"wasn't\", 'm', 'few', 'own', 'as', 'by', 'wasn', 'once', 'yours', 'about', 'can', 'just', 'been', 'who', 'doing', 'of', 'shouldn', 'my', \"wouldn't\", 'below', 'isn', 'she', 'so', 'for', 'weren', 'has', 'between', \"isn't\", 's', \"you'd\", 'while', 'at', 'couldn', 'those', \"it's\", 'be', 'ain', 'most', 'aren', 'you', \"haven't\", 've', 're', 'and', 'hers', 'now', 'all', 'didn', \"hadn't\", 'herself', 'he', 'these', \"you're\", 'nor', 'if', 'above', \"weren't\", 'i', 'a', 't', 'to', 'themselves', 'it', 'am', 'any', 'until', 'your', 'o', 'our', 'because', 'shan', 'but', 'with'}\n"
          ]
        }
      ]
    },
    {
      "cell_type": "code",
      "source": [
        "for word in stop_words:\n",
        "  if word in word_tokens:\n",
        "    word_tokens.remove(word)\n",
        "# word_tokens.remove(word) for word in stop_words if word in word_tokens\n",
        "print(word_tokens)"
      ],
      "metadata": {
        "colab": {
          "base_uri": "https://localhost:8080/"
        },
        "id": "7t-IUK5RoxdB",
        "outputId": "9ebaecb1-06ec-43b9-d27d-ba3a3323f1f1"
      },
      "execution_count": 139,
      "outputs": [
        {
          "output_type": "stream",
          "name": "stdout",
          "text": [
            "['Family', 'important', 'thing', '.', 'It', \"'s\", 'everything', '.']\n"
          ]
        }
      ]
    },
    {
      "cell_type": "code",
      "source": [
        "# 한국어 불용어 제거\n",
        "okt = Okt() # Open Korean Text\n",
        "example = \"고기를 아무렇게나 구우려고 하면 안 돼. 고기라고 다 같은 게 아니거든. 예컨대 삼겹살을 구울 때는 중요한 게 있지.\"\n",
        "stop_words = \"를 아무렇게나 구 우려 고 안 돼 같은 게 구울 때 는\"\n",
        "stop_words = set(stop_words.split(\" \"))\n",
        "word_tokens = okt.morphs(example)\n",
        "result = [word for word in word_tokens if not word in stop_words]\n",
        "print(\"불용어 제거 전 :\",word_tokens)\n",
        "print(\"불용어 제거 후 :\",result)"
      ],
      "metadata": {
        "colab": {
          "base_uri": "https://localhost:8080/"
        },
        "id": "c_6p76YBpfyg",
        "outputId": "5a9ec797-e38c-40bc-e57f-0bd0c07c6436"
      },
      "execution_count": 140,
      "outputs": [
        {
          "output_type": "stream",
          "name": "stdout",
          "text": [
            "불용어 제거 전 : ['고기', '를', '아무렇게나', '구', '우려', '고', '하면', '안', '돼', '.', '고기', '라고', '다', '같은', '게', '아니거든', '.', '예컨대', '삼겹살', '을', '구울', '때', '는', '중요한', '게', '있지', '.']\n",
            "불용어 제거 후 : ['고기', '하면', '.', '고기', '라고', '다', '아니거든', '.', '예컨대', '삼겹살', '을', '중요한', '있지', '.']\n"
          ]
        }
      ]
    },
    {
      "cell_type": "code",
      "source": [
        "# 불용어 사전.txt 파일을 가지고 있는 경우\n"
      ],
      "metadata": {
        "id": "h8qFwa6NtdH8"
      },
      "execution_count": 141,
      "outputs": []
    }
  ]
}